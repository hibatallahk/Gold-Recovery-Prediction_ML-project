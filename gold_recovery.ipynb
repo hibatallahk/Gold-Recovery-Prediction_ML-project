{
 "cells": [
  {
   "cell_type": "markdown",
   "metadata": {},
   "source": [
    "Hi Hibatallah. I'm Svetlana and will review your project. I've added all my comments to new cells with different coloring. Please don't delete my comments.\n",
    "\n",
    "\n",
    "The first time I see a mistake, I'll just point it out and let you find it and fix it yourself. In a real job, your boss will do the same, and I'm trying to prepare you to work as an Data Analyst. But if you can't handle this task yet, I'll give you a more accurate hint at the next check.\n",
    "\n",
    "<div class=\"alert alert-success\" role=\"alert\">\n",
    "Reviewer's comment v. 1:\n",
    "    \n",
    "If you did something great I'm using green color for my comment\n",
    "</div>\n",
    "\n",
    "<div class=\"alert alert-warning\" role=\"alert\">\n",
    "Reviewer's comment v. 1:\n",
    "    \n",
    "If I want to give you advice or think that something can be improved, then I'll use yellow. This is an optional recommendation.\n",
    "</div>\n",
    "\n",
    "<div class=\"alert alert-danger\" role=\"alert\">\n",
    "Reviewer's comment v. 1:\n",
    "    \n",
    "If the topic requires some extra work so I can accept it then the color will be red\n",
    "</div>\n",
    "\n",
    "## Review v. 1<a class=\"tocSkip\">\n",
    "\n",
    "Thank you for sending your project. You've done a really good job on it! While there's room for improvement, on the whole, your project is looking good. I've found some tiny mistakes in your project. They'll be easy to fix. There are also some comments for improvement. They don’t mean that you’ve done anything wrong, but they’re things we wanted to point out that can help you further develop your skills. You're almost there!\n",
    "    \n",
    "## Review v. 2<a class=\"tocSkip\">\n",
    "    \n",
    "Now your project is a true \"A\". Congratulations! I'm glad to say that your project has been accepted. Keep up the good work"
   ]
  },
  {
   "cell_type": "markdown",
   "metadata": {},
   "source": [
    "# Project description\n",
    "\n",
    "The data is stored in three files:\n",
    "\n",
    "`gold_recovery_train.csv` — training dataset \n",
    "\n",
    "`gold_recovery_test.csv` — test dataset \n",
    "\n",
    "`gold_recovery_full.csv` — source dataset \n",
    "\n",
    "Data is indexed with the date and time of acquisition (date feature). Parameters that are next to each other in terms of time are often similar.\n",
    "\n",
    "Some parameters are not available because they were measured and/or calculated much later. That's why, some of the features that are present in the training set may be absent from the test set. The test set also doesn't contain targets.\n",
    "\n",
    "The source dataset contains the training and test sets with all the features.\n",
    "You have the raw data that was only downloaded from the warehouse. Before building the model, check the correctness of the data. For that, use our instructions."
   ]
  },
  {
   "cell_type": "markdown",
   "metadata": {},
   "source": [
    "# Table of Content"
   ]
  },
  {
   "cell_type": "markdown",
   "metadata": {},
   "source": [
    "<div> \n",
    "    <ol>\n",
    "      <li><a href=\"#1\">Prepare the data</a></li>\n",
    "        <a>Open the files and look into the data</a><br/>\n",
    "        <a>Check that recovery is calculated correctly</a><br/>\n",
    "        <a>Analyze the features not available in the test set</a><br/>\n",
    "        <a>Perform data preprocessing</a><br/>\n",
    "      <li><a href=\"#2\">Analyze the data</a></li>\n",
    "        <a>how the concentrations of metals (Au, Ag, Pb) change depending on the purification stage</a><br/>\n",
    "        <a>Compare the feed particle size distributions in the training set and in the test set</a><br/>\n",
    "        <a>Do you notice any abnormal values in the total distribution</a><br/>\n",
    "      <li><a href=\"#3\">Build the model</a></li>\n",
    "        <a>calculate the final sMAPE value</a><br/>\n",
    "        <a>Train different models</a><br/>\n",
    "      <li><a href=\"#4\">Overall conclusion</a></li>\n",
    "    </ol> \n",
    "</div>"
   ]
  },
  {
   "cell_type": "markdown",
   "metadata": {},
   "source": [
    "###### The main goals of this project is to:\n",
    "    - Simulate the gold recovery process from gold ore\n",
    "    - Build a Model that predict the amount of gold recovered and optimize gold production"
   ]
  },
  {
   "cell_type": "markdown",
   "metadata": {},
   "source": [
    "<div class=\"alert alert-warning\" role=\"alert\">\n",
    "Reviewer's comment v. 1:\n",
    "    \n",
    "Well done that you clearly described the project, but please formulate a goal of it.\n",
    "</div>"
   ]
  },
  {
   "cell_type": "markdown",
   "metadata": {},
   "source": [
    "<div class=\"alert alert-success\" role=\"alert\">\n",
    "Reviewer's comment v. 2:\n",
    "    \n",
    "Good job that you formulated the goal of the project.\n",
    "</div>"
   ]
  },
  {
   "cell_type": "code",
   "execution_count": 1,
   "metadata": {},
   "outputs": [],
   "source": [
    "# import pandas and numpy for data preprocessing and manipulation\n",
    "import numpy as np\n",
    "import pandas as pd\n",
    "import timeit\n",
    "import matplotlib.pyplot as plt\n",
    "import seaborn as sns\n",
    "%matplotlib inline\n",
    "from sklearn.model_selection import train_test_split, cross_val_score, RepeatedStratifiedKFold, GridSearchCV\n",
    "from sklearn.preprocessing import StandardScaler\n",
    "pd.options.mode.chained_assignment = None\n",
    "from sklearn.dummy import DummyRegressor # import dummy regressor\n",
    "from sklearn.tree import DecisionTreeRegressor # import decision tree regressor\n",
    "from sklearn.linear_model import LinearRegression # import linear regressor\n",
    "from sklearn.ensemble import RandomForestRegressor # import random forest algorithm\n",
    "from sklearn.metrics import *\n",
    "import warnings\n",
    "warnings.simplefilter(action='ignore', category=FutureWarning)"
   ]
  },
  {
   "cell_type": "markdown",
   "metadata": {},
   "source": [
    "<div class=\"alert alert-success\" role=\"alert\">\n",
    "Reviewer's comment v. 1:\n",
    "    \n",
    "It's a good idea to use additional options for warnings.\n",
    "</div>"
   ]
  },
  {
   "cell_type": "code",
   "execution_count": 2,
   "metadata": {},
   "outputs": [],
   "source": [
    "# function to determine if columns in file have null values\n",
    "def get_percent_of_na(df, num):\n",
    "    count = 0\n",
    "    df = df.copy()\n",
    "    s = (df.isna().sum() / df.shape[0])\n",
    "    for column, percent in zip(s.index, s.values):\n",
    "        num_of_nulls = df[column].isna().sum()\n",
    "        if num_of_nulls == 0:\n",
    "            continue\n",
    "        else:\n",
    "            count += 1\n",
    "        print('Column {} has {:.{}%} percent of Nulls, and {} of nulls'.format(column, percent, num, num_of_nulls))\n",
    "    if count != 0:\n",
    "        print(\"\\033[1m\" + 'There are {} columns with NA.'.format(count) + \"\\033[0m\")\n",
    "    else:\n",
    "        print()\n",
    "        print(\"\\033[1m\" + 'There are no columns with NA.' + \"\\033[0m\")\n",
    "        \n",
    "# function to display general information about the dataset\n",
    "def get_info(df):\n",
    "    \"\"\"\n",
    "    This function uses the head(), info(), describe(), shape() and duplicated() \n",
    "    methods to display the general information about the dataset.\n",
    "    \"\"\"\n",
    "    print(\"\\033[1m\" + '-'*100 + \"\\033[0m\")\n",
    "    print('Head:')\n",
    "    print()\n",
    "    display(df.head())\n",
    "    print('-'*100)\n",
    "    print('Info:')\n",
    "    print()\n",
    "    display(df.info())\n",
    "    print('-'*100)\n",
    "    print('Describe:')\n",
    "    print()\n",
    "    display(df.describe())\n",
    "    print('-'*100)\n",
    "    display(df.describe(include='object'))\n",
    "    print()\n",
    "    print('Columns with nulls:')\n",
    "    display(get_percent_of_na(df, 4))  # check this out\n",
    "    print('-'*100)\n",
    "    print('Shape:')\n",
    "    print(df.shape)\n",
    "    print('-'*100)\n",
    "    print('Duplicated:')\n",
    "    print(\"\\033[1m\" + 'We have {} duplicated rows.\\n'.format(df.duplicated().sum()) + \"\\033[0m\")\n",
    "    print()\n",
    "    \n",
    "def missing_values_table(df):\n",
    "    \"\"\"\n",
    "    This function calculates the percentage of\n",
    "    missing values in the dataset\n",
    "    \"\"\"\n",
    "    mis_val = df.isnull().sum()\n",
    "    mis_val_percent = 100 * df.isnull().sum() / len(df)\n",
    "    mis_val_table = pd.concat([mis_val, mis_val_percent], axis=1)\n",
    "    mis_val_table_ren_columns = mis_val_table.rename(\n",
    "    columns = {0 : 'Missing Values', 1 : '% of Total Values'})\n",
    "    mis_val_table_ren_columns = mis_val_table_ren_columns[\n",
    "        mis_val_table_ren_columns.iloc[:,1] != 0].sort_values(\n",
    "    '% of Total Values', ascending=False).round(1)\n",
    "    print (\"Your selected dataframe has \" + str(df.shape[1]) + \" columns.\\n\"      \n",
    "        \"There are \" + str(mis_val_table_ren_columns.shape[0]) +\n",
    "            \" columns that have missing values.\")\n",
    "    return mis_val_table_ren_columns\n",
    "\n",
    "# convert date to datetime \n",
    "def convert_date_time(df, col):\n",
    "    df[col] = pd.to_datetime(df[col])\n",
    "    df.sort_values(col, inplace=True)\n",
    "    \n",
    "# function to forward fill missing values:ffill    \n",
    "def fill_missing_values(df):\n",
    "    df = df.fillna(method='ffill', axis=0, inplace=True)"
   ]
  },
  {
   "cell_type": "markdown",
   "metadata": {},
   "source": [
    "<div class=\"alert alert-success\" role=\"alert\">\n",
    "Reviewer's comment v. 1:\n",
    "    \n",
    "Well done for using docstrings. It's really helpful.\n",
    "</div>"
   ]
  },
  {
   "cell_type": "code",
   "execution_count": 3,
   "metadata": {},
   "outputs": [],
   "source": [
    "df_train = pd.read_csv('https://code.s3.yandex.net/datasets/gold_recovery_train.csv')\n",
    "df_test = pd.read_csv('https://code.s3.yandex.net/datasets/gold_recovery_test.csv')\n",
    "df_full = pd.read_csv('https://code.s3.yandex.net/datasets/gold_recovery_full.csv')"
   ]
  },
  {
   "cell_type": "markdown",
   "metadata": {},
   "source": [
    "<div class=\"alert alert-success\" role=\"alert\">\n",
    "Reviewer's comment v. 1:\n",
    "    \n",
    "Ok, data is downloaded and ready for the further analysis.\n",
    "</div>"
   ]
  },
  {
   "cell_type": "markdown",
   "metadata": {},
   "source": [
    "# <a id=\"1\">Prepare the data"
   ]
  },
  {
   "cell_type": "markdown",
   "metadata": {},
   "source": [
    "**Open the files and look into the data**"
   ]
  },
  {
   "cell_type": "markdown",
   "metadata": {},
   "source": [
    "**`df_train` general infos**"
   ]
  },
  {
   "cell_type": "code",
   "execution_count": 4,
   "metadata": {
    "scrolled": false
   },
   "outputs": [
    {
     "name": "stdout",
     "output_type": "stream",
     "text": [
      "\u001b[1m----------------------------------------------------------------------------------------------------\u001b[0m\n",
      "Head:\n",
      "\n"
     ]
    },
    {
     "data": {
      "text/html": [
       "<div>\n",
       "<style scoped>\n",
       "    .dataframe tbody tr th:only-of-type {\n",
       "        vertical-align: middle;\n",
       "    }\n",
       "\n",
       "    .dataframe tbody tr th {\n",
       "        vertical-align: top;\n",
       "    }\n",
       "\n",
       "    .dataframe thead th {\n",
       "        text-align: right;\n",
       "    }\n",
       "</style>\n",
       "<table border=\"1\" class=\"dataframe\">\n",
       "  <thead>\n",
       "    <tr style=\"text-align: right;\">\n",
       "      <th></th>\n",
       "      <th>date</th>\n",
       "      <th>final.output.concentrate_ag</th>\n",
       "      <th>final.output.concentrate_pb</th>\n",
       "      <th>final.output.concentrate_sol</th>\n",
       "      <th>final.output.concentrate_au</th>\n",
       "      <th>final.output.recovery</th>\n",
       "      <th>final.output.tail_ag</th>\n",
       "      <th>final.output.tail_pb</th>\n",
       "      <th>final.output.tail_sol</th>\n",
       "      <th>final.output.tail_au</th>\n",
       "      <th>...</th>\n",
       "      <th>secondary_cleaner.state.floatbank4_a_air</th>\n",
       "      <th>secondary_cleaner.state.floatbank4_a_level</th>\n",
       "      <th>secondary_cleaner.state.floatbank4_b_air</th>\n",
       "      <th>secondary_cleaner.state.floatbank4_b_level</th>\n",
       "      <th>secondary_cleaner.state.floatbank5_a_air</th>\n",
       "      <th>secondary_cleaner.state.floatbank5_a_level</th>\n",
       "      <th>secondary_cleaner.state.floatbank5_b_air</th>\n",
       "      <th>secondary_cleaner.state.floatbank5_b_level</th>\n",
       "      <th>secondary_cleaner.state.floatbank6_a_air</th>\n",
       "      <th>secondary_cleaner.state.floatbank6_a_level</th>\n",
       "    </tr>\n",
       "  </thead>\n",
       "  <tbody>\n",
       "    <tr>\n",
       "      <td>0</td>\n",
       "      <td>2016-01-15 00:00:00</td>\n",
       "      <td>6.055403</td>\n",
       "      <td>9.889648</td>\n",
       "      <td>5.507324</td>\n",
       "      <td>42.192020</td>\n",
       "      <td>70.541216</td>\n",
       "      <td>10.411962</td>\n",
       "      <td>0.895447</td>\n",
       "      <td>16.904297</td>\n",
       "      <td>2.143149</td>\n",
       "      <td>...</td>\n",
       "      <td>14.016835</td>\n",
       "      <td>-502.488007</td>\n",
       "      <td>12.099931</td>\n",
       "      <td>-504.715942</td>\n",
       "      <td>9.925633</td>\n",
       "      <td>-498.310211</td>\n",
       "      <td>8.079666</td>\n",
       "      <td>-500.470978</td>\n",
       "      <td>14.151341</td>\n",
       "      <td>-605.841980</td>\n",
       "    </tr>\n",
       "    <tr>\n",
       "      <td>1</td>\n",
       "      <td>2016-01-15 01:00:00</td>\n",
       "      <td>6.029369</td>\n",
       "      <td>9.968944</td>\n",
       "      <td>5.257781</td>\n",
       "      <td>42.701629</td>\n",
       "      <td>69.266198</td>\n",
       "      <td>10.462676</td>\n",
       "      <td>0.927452</td>\n",
       "      <td>16.634514</td>\n",
       "      <td>2.224930</td>\n",
       "      <td>...</td>\n",
       "      <td>13.992281</td>\n",
       "      <td>-505.503262</td>\n",
       "      <td>11.950531</td>\n",
       "      <td>-501.331529</td>\n",
       "      <td>10.039245</td>\n",
       "      <td>-500.169983</td>\n",
       "      <td>7.984757</td>\n",
       "      <td>-500.582168</td>\n",
       "      <td>13.998353</td>\n",
       "      <td>-599.787184</td>\n",
       "    </tr>\n",
       "    <tr>\n",
       "      <td>2</td>\n",
       "      <td>2016-01-15 02:00:00</td>\n",
       "      <td>6.055926</td>\n",
       "      <td>10.213995</td>\n",
       "      <td>5.383759</td>\n",
       "      <td>42.657501</td>\n",
       "      <td>68.116445</td>\n",
       "      <td>10.507046</td>\n",
       "      <td>0.953716</td>\n",
       "      <td>16.208849</td>\n",
       "      <td>2.257889</td>\n",
       "      <td>...</td>\n",
       "      <td>14.015015</td>\n",
       "      <td>-502.520901</td>\n",
       "      <td>11.912783</td>\n",
       "      <td>-501.133383</td>\n",
       "      <td>10.070913</td>\n",
       "      <td>-500.129135</td>\n",
       "      <td>8.013877</td>\n",
       "      <td>-500.517572</td>\n",
       "      <td>14.028663</td>\n",
       "      <td>-601.427363</td>\n",
       "    </tr>\n",
       "    <tr>\n",
       "      <td>3</td>\n",
       "      <td>2016-01-15 03:00:00</td>\n",
       "      <td>6.047977</td>\n",
       "      <td>9.977019</td>\n",
       "      <td>4.858634</td>\n",
       "      <td>42.689819</td>\n",
       "      <td>68.347543</td>\n",
       "      <td>10.422762</td>\n",
       "      <td>0.883763</td>\n",
       "      <td>16.532835</td>\n",
       "      <td>2.146849</td>\n",
       "      <td>...</td>\n",
       "      <td>14.036510</td>\n",
       "      <td>-500.857308</td>\n",
       "      <td>11.999550</td>\n",
       "      <td>-501.193686</td>\n",
       "      <td>9.970366</td>\n",
       "      <td>-499.201640</td>\n",
       "      <td>7.977324</td>\n",
       "      <td>-500.255908</td>\n",
       "      <td>14.005551</td>\n",
       "      <td>-599.996129</td>\n",
       "    </tr>\n",
       "    <tr>\n",
       "      <td>4</td>\n",
       "      <td>2016-01-15 04:00:00</td>\n",
       "      <td>6.148599</td>\n",
       "      <td>10.142511</td>\n",
       "      <td>4.939416</td>\n",
       "      <td>42.774141</td>\n",
       "      <td>66.927016</td>\n",
       "      <td>10.360302</td>\n",
       "      <td>0.792826</td>\n",
       "      <td>16.525686</td>\n",
       "      <td>2.055292</td>\n",
       "      <td>...</td>\n",
       "      <td>14.027298</td>\n",
       "      <td>-499.838632</td>\n",
       "      <td>11.953070</td>\n",
       "      <td>-501.053894</td>\n",
       "      <td>9.925709</td>\n",
       "      <td>-501.686727</td>\n",
       "      <td>7.894242</td>\n",
       "      <td>-500.356035</td>\n",
       "      <td>13.996647</td>\n",
       "      <td>-601.496691</td>\n",
       "    </tr>\n",
       "  </tbody>\n",
       "</table>\n",
       "<p>5 rows × 87 columns</p>\n",
       "</div>"
      ],
      "text/plain": [
       "                  date  final.output.concentrate_ag  \\\n",
       "0  2016-01-15 00:00:00                     6.055403   \n",
       "1  2016-01-15 01:00:00                     6.029369   \n",
       "2  2016-01-15 02:00:00                     6.055926   \n",
       "3  2016-01-15 03:00:00                     6.047977   \n",
       "4  2016-01-15 04:00:00                     6.148599   \n",
       "\n",
       "   final.output.concentrate_pb  final.output.concentrate_sol  \\\n",
       "0                     9.889648                      5.507324   \n",
       "1                     9.968944                      5.257781   \n",
       "2                    10.213995                      5.383759   \n",
       "3                     9.977019                      4.858634   \n",
       "4                    10.142511                      4.939416   \n",
       "\n",
       "   final.output.concentrate_au  final.output.recovery  final.output.tail_ag  \\\n",
       "0                    42.192020              70.541216             10.411962   \n",
       "1                    42.701629              69.266198             10.462676   \n",
       "2                    42.657501              68.116445             10.507046   \n",
       "3                    42.689819              68.347543             10.422762   \n",
       "4                    42.774141              66.927016             10.360302   \n",
       "\n",
       "   final.output.tail_pb  final.output.tail_sol  final.output.tail_au  ...  \\\n",
       "0              0.895447              16.904297              2.143149  ...   \n",
       "1              0.927452              16.634514              2.224930  ...   \n",
       "2              0.953716              16.208849              2.257889  ...   \n",
       "3              0.883763              16.532835              2.146849  ...   \n",
       "4              0.792826              16.525686              2.055292  ...   \n",
       "\n",
       "   secondary_cleaner.state.floatbank4_a_air  \\\n",
       "0                                 14.016835   \n",
       "1                                 13.992281   \n",
       "2                                 14.015015   \n",
       "3                                 14.036510   \n",
       "4                                 14.027298   \n",
       "\n",
       "   secondary_cleaner.state.floatbank4_a_level  \\\n",
       "0                                 -502.488007   \n",
       "1                                 -505.503262   \n",
       "2                                 -502.520901   \n",
       "3                                 -500.857308   \n",
       "4                                 -499.838632   \n",
       "\n",
       "   secondary_cleaner.state.floatbank4_b_air  \\\n",
       "0                                 12.099931   \n",
       "1                                 11.950531   \n",
       "2                                 11.912783   \n",
       "3                                 11.999550   \n",
       "4                                 11.953070   \n",
       "\n",
       "   secondary_cleaner.state.floatbank4_b_level  \\\n",
       "0                                 -504.715942   \n",
       "1                                 -501.331529   \n",
       "2                                 -501.133383   \n",
       "3                                 -501.193686   \n",
       "4                                 -501.053894   \n",
       "\n",
       "   secondary_cleaner.state.floatbank5_a_air  \\\n",
       "0                                  9.925633   \n",
       "1                                 10.039245   \n",
       "2                                 10.070913   \n",
       "3                                  9.970366   \n",
       "4                                  9.925709   \n",
       "\n",
       "   secondary_cleaner.state.floatbank5_a_level  \\\n",
       "0                                 -498.310211   \n",
       "1                                 -500.169983   \n",
       "2                                 -500.129135   \n",
       "3                                 -499.201640   \n",
       "4                                 -501.686727   \n",
       "\n",
       "   secondary_cleaner.state.floatbank5_b_air  \\\n",
       "0                                  8.079666   \n",
       "1                                  7.984757   \n",
       "2                                  8.013877   \n",
       "3                                  7.977324   \n",
       "4                                  7.894242   \n",
       "\n",
       "   secondary_cleaner.state.floatbank5_b_level  \\\n",
       "0                                 -500.470978   \n",
       "1                                 -500.582168   \n",
       "2                                 -500.517572   \n",
       "3                                 -500.255908   \n",
       "4                                 -500.356035   \n",
       "\n",
       "   secondary_cleaner.state.floatbank6_a_air  \\\n",
       "0                                 14.151341   \n",
       "1                                 13.998353   \n",
       "2                                 14.028663   \n",
       "3                                 14.005551   \n",
       "4                                 13.996647   \n",
       "\n",
       "   secondary_cleaner.state.floatbank6_a_level  \n",
       "0                                 -605.841980  \n",
       "1                                 -599.787184  \n",
       "2                                 -601.427363  \n",
       "3                                 -599.996129  \n",
       "4                                 -601.496691  \n",
       "\n",
       "[5 rows x 87 columns]"
      ]
     },
     "metadata": {},
     "output_type": "display_data"
    },
    {
     "name": "stdout",
     "output_type": "stream",
     "text": [
      "----------------------------------------------------------------------------------------------------\n",
      "Info:\n",
      "\n",
      "<class 'pandas.core.frame.DataFrame'>\n",
      "RangeIndex: 16860 entries, 0 to 16859\n",
      "Data columns (total 87 columns):\n",
      "date                                                  16860 non-null object\n",
      "final.output.concentrate_ag                           16788 non-null float64\n",
      "final.output.concentrate_pb                           16788 non-null float64\n",
      "final.output.concentrate_sol                          16490 non-null float64\n",
      "final.output.concentrate_au                           16789 non-null float64\n",
      "final.output.recovery                                 15339 non-null float64\n",
      "final.output.tail_ag                                  16794 non-null float64\n",
      "final.output.tail_pb                                  16677 non-null float64\n",
      "final.output.tail_sol                                 16715 non-null float64\n",
      "final.output.tail_au                                  16794 non-null float64\n",
      "primary_cleaner.input.sulfate                         15553 non-null float64\n",
      "primary_cleaner.input.depressant                      15598 non-null float64\n",
      "primary_cleaner.input.feed_size                       16860 non-null float64\n",
      "primary_cleaner.input.xanthate                        15875 non-null float64\n",
      "primary_cleaner.output.concentrate_ag                 16778 non-null float64\n",
      "primary_cleaner.output.concentrate_pb                 16502 non-null float64\n",
      "primary_cleaner.output.concentrate_sol                16224 non-null float64\n",
      "primary_cleaner.output.concentrate_au                 16778 non-null float64\n",
      "primary_cleaner.output.tail_ag                        16777 non-null float64\n",
      "primary_cleaner.output.tail_pb                        16761 non-null float64\n",
      "primary_cleaner.output.tail_sol                       16579 non-null float64\n",
      "primary_cleaner.output.tail_au                        16777 non-null float64\n",
      "primary_cleaner.state.floatbank8_a_air                16820 non-null float64\n",
      "primary_cleaner.state.floatbank8_a_level              16827 non-null float64\n",
      "primary_cleaner.state.floatbank8_b_air                16820 non-null float64\n",
      "primary_cleaner.state.floatbank8_b_level              16833 non-null float64\n",
      "primary_cleaner.state.floatbank8_c_air                16822 non-null float64\n",
      "primary_cleaner.state.floatbank8_c_level              16833 non-null float64\n",
      "primary_cleaner.state.floatbank8_d_air                16821 non-null float64\n",
      "primary_cleaner.state.floatbank8_d_level              16833 non-null float64\n",
      "rougher.calculation.sulfate_to_au_concentrate         16833 non-null float64\n",
      "rougher.calculation.floatbank10_sulfate_to_au_feed    16833 non-null float64\n",
      "rougher.calculation.floatbank11_sulfate_to_au_feed    16833 non-null float64\n",
      "rougher.calculation.au_pb_ratio                       15618 non-null float64\n",
      "rougher.input.feed_ag                                 16778 non-null float64\n",
      "rougher.input.feed_pb                                 16632 non-null float64\n",
      "rougher.input.feed_rate                               16347 non-null float64\n",
      "rougher.input.feed_size                               16443 non-null float64\n",
      "rougher.input.feed_sol                                16568 non-null float64\n",
      "rougher.input.feed_au                                 16777 non-null float64\n",
      "rougher.input.floatbank10_sulfate                     15816 non-null float64\n",
      "rougher.input.floatbank10_xanthate                    16514 non-null float64\n",
      "rougher.input.floatbank11_sulfate                     16237 non-null float64\n",
      "rougher.input.floatbank11_xanthate                    14956 non-null float64\n",
      "rougher.output.concentrate_ag                         16778 non-null float64\n",
      "rougher.output.concentrate_pb                         16778 non-null float64\n",
      "rougher.output.concentrate_sol                        16698 non-null float64\n",
      "rougher.output.concentrate_au                         16778 non-null float64\n",
      "rougher.output.recovery                               14287 non-null float64\n",
      "rougher.output.tail_ag                                14610 non-null float64\n",
      "rougher.output.tail_pb                                16778 non-null float64\n",
      "rougher.output.tail_sol                               14611 non-null float64\n",
      "rougher.output.tail_au                                14611 non-null float64\n",
      "rougher.state.floatbank10_a_air                       16807 non-null float64\n",
      "rougher.state.floatbank10_a_level                     16807 non-null float64\n",
      "rougher.state.floatbank10_b_air                       16807 non-null float64\n",
      "rougher.state.floatbank10_b_level                     16807 non-null float64\n",
      "rougher.state.floatbank10_c_air                       16807 non-null float64\n",
      "rougher.state.floatbank10_c_level                     16814 non-null float64\n",
      "rougher.state.floatbank10_d_air                       16802 non-null float64\n",
      "rougher.state.floatbank10_d_level                     16809 non-null float64\n",
      "rougher.state.floatbank10_e_air                       16257 non-null float64\n",
      "rougher.state.floatbank10_e_level                     16809 non-null float64\n",
      "rougher.state.floatbank10_f_air                       16802 non-null float64\n",
      "rougher.state.floatbank10_f_level                     16802 non-null float64\n",
      "secondary_cleaner.output.tail_ag                      16776 non-null float64\n",
      "secondary_cleaner.output.tail_pb                      16764 non-null float64\n",
      "secondary_cleaner.output.tail_sol                     14874 non-null float64\n",
      "secondary_cleaner.output.tail_au                      16778 non-null float64\n",
      "secondary_cleaner.state.floatbank2_a_air              16497 non-null float64\n",
      "secondary_cleaner.state.floatbank2_a_level            16751 non-null float64\n",
      "secondary_cleaner.state.floatbank2_b_air              16705 non-null float64\n",
      "secondary_cleaner.state.floatbank2_b_level            16748 non-null float64\n",
      "secondary_cleaner.state.floatbank3_a_air              16763 non-null float64\n",
      "secondary_cleaner.state.floatbank3_a_level            16747 non-null float64\n",
      "secondary_cleaner.state.floatbank3_b_air              16752 non-null float64\n",
      "secondary_cleaner.state.floatbank3_b_level            16750 non-null float64\n",
      "secondary_cleaner.state.floatbank4_a_air              16731 non-null float64\n",
      "secondary_cleaner.state.floatbank4_a_level            16747 non-null float64\n",
      "secondary_cleaner.state.floatbank4_b_air              16768 non-null float64\n",
      "secondary_cleaner.state.floatbank4_b_level            16767 non-null float64\n",
      "secondary_cleaner.state.floatbank5_a_air              16775 non-null float64\n",
      "secondary_cleaner.state.floatbank5_a_level            16775 non-null float64\n",
      "secondary_cleaner.state.floatbank5_b_air              16775 non-null float64\n",
      "secondary_cleaner.state.floatbank5_b_level            16776 non-null float64\n",
      "secondary_cleaner.state.floatbank6_a_air              16757 non-null float64\n",
      "secondary_cleaner.state.floatbank6_a_level            16775 non-null float64\n",
      "dtypes: float64(86), object(1)\n",
      "memory usage: 11.2+ MB\n"
     ]
    },
    {
     "data": {
      "text/plain": [
       "None"
      ]
     },
     "metadata": {},
     "output_type": "display_data"
    },
    {
     "name": "stdout",
     "output_type": "stream",
     "text": [
      "----------------------------------------------------------------------------------------------------\n",
      "Describe:\n",
      "\n"
     ]
    },
    {
     "data": {
      "text/html": [
       "<div>\n",
       "<style scoped>\n",
       "    .dataframe tbody tr th:only-of-type {\n",
       "        vertical-align: middle;\n",
       "    }\n",
       "\n",
       "    .dataframe tbody tr th {\n",
       "        vertical-align: top;\n",
       "    }\n",
       "\n",
       "    .dataframe thead th {\n",
       "        text-align: right;\n",
       "    }\n",
       "</style>\n",
       "<table border=\"1\" class=\"dataframe\">\n",
       "  <thead>\n",
       "    <tr style=\"text-align: right;\">\n",
       "      <th></th>\n",
       "      <th>final.output.concentrate_ag</th>\n",
       "      <th>final.output.concentrate_pb</th>\n",
       "      <th>final.output.concentrate_sol</th>\n",
       "      <th>final.output.concentrate_au</th>\n",
       "      <th>final.output.recovery</th>\n",
       "      <th>final.output.tail_ag</th>\n",
       "      <th>final.output.tail_pb</th>\n",
       "      <th>final.output.tail_sol</th>\n",
       "      <th>final.output.tail_au</th>\n",
       "      <th>primary_cleaner.input.sulfate</th>\n",
       "      <th>...</th>\n",
       "      <th>secondary_cleaner.state.floatbank4_a_air</th>\n",
       "      <th>secondary_cleaner.state.floatbank4_a_level</th>\n",
       "      <th>secondary_cleaner.state.floatbank4_b_air</th>\n",
       "      <th>secondary_cleaner.state.floatbank4_b_level</th>\n",
       "      <th>secondary_cleaner.state.floatbank5_a_air</th>\n",
       "      <th>secondary_cleaner.state.floatbank5_a_level</th>\n",
       "      <th>secondary_cleaner.state.floatbank5_b_air</th>\n",
       "      <th>secondary_cleaner.state.floatbank5_b_level</th>\n",
       "      <th>secondary_cleaner.state.floatbank6_a_air</th>\n",
       "      <th>secondary_cleaner.state.floatbank6_a_level</th>\n",
       "    </tr>\n",
       "  </thead>\n",
       "  <tbody>\n",
       "    <tr>\n",
       "      <td>count</td>\n",
       "      <td>16788.000000</td>\n",
       "      <td>16788.000000</td>\n",
       "      <td>16490.000000</td>\n",
       "      <td>16789.000000</td>\n",
       "      <td>15339.000000</td>\n",
       "      <td>16794.000000</td>\n",
       "      <td>16677.000000</td>\n",
       "      <td>16715.000000</td>\n",
       "      <td>16794.000000</td>\n",
       "      <td>15553.000000</td>\n",
       "      <td>...</td>\n",
       "      <td>16731.000000</td>\n",
       "      <td>16747.000000</td>\n",
       "      <td>16768.000000</td>\n",
       "      <td>16767.000000</td>\n",
       "      <td>16775.000000</td>\n",
       "      <td>16775.000000</td>\n",
       "      <td>16775.000000</td>\n",
       "      <td>16776.000000</td>\n",
       "      <td>16757.000000</td>\n",
       "      <td>16775.000000</td>\n",
       "    </tr>\n",
       "    <tr>\n",
       "      <td>mean</td>\n",
       "      <td>4.716907</td>\n",
       "      <td>9.113559</td>\n",
       "      <td>8.301123</td>\n",
       "      <td>39.467217</td>\n",
       "      <td>67.213166</td>\n",
       "      <td>8.757048</td>\n",
       "      <td>2.360327</td>\n",
       "      <td>9.303932</td>\n",
       "      <td>2.687512</td>\n",
       "      <td>129.479789</td>\n",
       "      <td>...</td>\n",
       "      <td>19.101874</td>\n",
       "      <td>-494.164481</td>\n",
       "      <td>14.778164</td>\n",
       "      <td>-476.600082</td>\n",
       "      <td>15.779488</td>\n",
       "      <td>-500.230146</td>\n",
       "      <td>12.377241</td>\n",
       "      <td>-498.956257</td>\n",
       "      <td>18.429208</td>\n",
       "      <td>-521.801826</td>\n",
       "    </tr>\n",
       "    <tr>\n",
       "      <td>std</td>\n",
       "      <td>2.096718</td>\n",
       "      <td>3.389495</td>\n",
       "      <td>3.825760</td>\n",
       "      <td>13.917227</td>\n",
       "      <td>11.960446</td>\n",
       "      <td>3.634103</td>\n",
       "      <td>1.215576</td>\n",
       "      <td>4.263208</td>\n",
       "      <td>1.272757</td>\n",
       "      <td>45.386931</td>\n",
       "      <td>...</td>\n",
       "      <td>6.883163</td>\n",
       "      <td>84.803334</td>\n",
       "      <td>5.999149</td>\n",
       "      <td>89.381172</td>\n",
       "      <td>6.834703</td>\n",
       "      <td>76.983542</td>\n",
       "      <td>6.219989</td>\n",
       "      <td>82.146207</td>\n",
       "      <td>6.958294</td>\n",
       "      <td>77.170888</td>\n",
       "    </tr>\n",
       "    <tr>\n",
       "      <td>min</td>\n",
       "      <td>0.000000</td>\n",
       "      <td>0.000000</td>\n",
       "      <td>0.000000</td>\n",
       "      <td>0.000000</td>\n",
       "      <td>0.000000</td>\n",
       "      <td>0.000000</td>\n",
       "      <td>0.000000</td>\n",
       "      <td>0.000000</td>\n",
       "      <td>0.000000</td>\n",
       "      <td>0.000003</td>\n",
       "      <td>...</td>\n",
       "      <td>0.000000</td>\n",
       "      <td>-799.920713</td>\n",
       "      <td>0.000000</td>\n",
       "      <td>-800.021781</td>\n",
       "      <td>-0.423260</td>\n",
       "      <td>-799.741097</td>\n",
       "      <td>0.427084</td>\n",
       "      <td>-800.258209</td>\n",
       "      <td>0.024270</td>\n",
       "      <td>-810.473526</td>\n",
       "    </tr>\n",
       "    <tr>\n",
       "      <td>25%</td>\n",
       "      <td>3.971262</td>\n",
       "      <td>8.825748</td>\n",
       "      <td>6.939185</td>\n",
       "      <td>42.055722</td>\n",
       "      <td>62.625685</td>\n",
       "      <td>7.610544</td>\n",
       "      <td>1.641604</td>\n",
       "      <td>7.870275</td>\n",
       "      <td>2.172953</td>\n",
       "      <td>103.064021</td>\n",
       "      <td>...</td>\n",
       "      <td>14.508299</td>\n",
       "      <td>-500.837689</td>\n",
       "      <td>10.741388</td>\n",
       "      <td>-500.269182</td>\n",
       "      <td>10.977713</td>\n",
       "      <td>-500.530594</td>\n",
       "      <td>8.925586</td>\n",
       "      <td>-500.147603</td>\n",
       "      <td>13.977626</td>\n",
       "      <td>-501.080595</td>\n",
       "    </tr>\n",
       "    <tr>\n",
       "      <td>50%</td>\n",
       "      <td>4.869346</td>\n",
       "      <td>10.065316</td>\n",
       "      <td>8.557228</td>\n",
       "      <td>44.498874</td>\n",
       "      <td>67.644601</td>\n",
       "      <td>9.220393</td>\n",
       "      <td>2.453690</td>\n",
       "      <td>10.021968</td>\n",
       "      <td>2.781132</td>\n",
       "      <td>131.783108</td>\n",
       "      <td>...</td>\n",
       "      <td>19.986958</td>\n",
       "      <td>-499.778379</td>\n",
       "      <td>14.943933</td>\n",
       "      <td>-499.593286</td>\n",
       "      <td>15.998340</td>\n",
       "      <td>-499.784231</td>\n",
       "      <td>11.092839</td>\n",
       "      <td>-499.933330</td>\n",
       "      <td>18.034960</td>\n",
       "      <td>-500.109898</td>\n",
       "    </tr>\n",
       "    <tr>\n",
       "      <td>75%</td>\n",
       "      <td>5.821176</td>\n",
       "      <td>11.054809</td>\n",
       "      <td>10.289741</td>\n",
       "      <td>45.976222</td>\n",
       "      <td>72.824595</td>\n",
       "      <td>10.971110</td>\n",
       "      <td>3.192404</td>\n",
       "      <td>11.648573</td>\n",
       "      <td>3.416936</td>\n",
       "      <td>159.539839</td>\n",
       "      <td>...</td>\n",
       "      <td>24.983961</td>\n",
       "      <td>-494.648754</td>\n",
       "      <td>20.023751</td>\n",
       "      <td>-400.137948</td>\n",
       "      <td>20.000701</td>\n",
       "      <td>-496.531781</td>\n",
       "      <td>15.979467</td>\n",
       "      <td>-498.418000</td>\n",
       "      <td>24.984992</td>\n",
       "      <td>-499.565540</td>\n",
       "    </tr>\n",
       "    <tr>\n",
       "      <td>max</td>\n",
       "      <td>16.001945</td>\n",
       "      <td>17.031899</td>\n",
       "      <td>18.124851</td>\n",
       "      <td>53.611374</td>\n",
       "      <td>100.000000</td>\n",
       "      <td>19.552149</td>\n",
       "      <td>6.086532</td>\n",
       "      <td>22.317730</td>\n",
       "      <td>9.789625</td>\n",
       "      <td>251.999948</td>\n",
       "      <td>...</td>\n",
       "      <td>60.000000</td>\n",
       "      <td>-127.692333</td>\n",
       "      <td>28.003828</td>\n",
       "      <td>-71.472472</td>\n",
       "      <td>63.116298</td>\n",
       "      <td>-275.073125</td>\n",
       "      <td>39.846228</td>\n",
       "      <td>-120.190931</td>\n",
       "      <td>54.876806</td>\n",
       "      <td>-39.784927</td>\n",
       "    </tr>\n",
       "  </tbody>\n",
       "</table>\n",
       "<p>8 rows × 86 columns</p>\n",
       "</div>"
      ],
      "text/plain": [
       "       final.output.concentrate_ag  final.output.concentrate_pb  \\\n",
       "count                 16788.000000                 16788.000000   \n",
       "mean                      4.716907                     9.113559   \n",
       "std                       2.096718                     3.389495   \n",
       "min                       0.000000                     0.000000   \n",
       "25%                       3.971262                     8.825748   \n",
       "50%                       4.869346                    10.065316   \n",
       "75%                       5.821176                    11.054809   \n",
       "max                      16.001945                    17.031899   \n",
       "\n",
       "       final.output.concentrate_sol  final.output.concentrate_au  \\\n",
       "count                  16490.000000                 16789.000000   \n",
       "mean                       8.301123                    39.467217   \n",
       "std                        3.825760                    13.917227   \n",
       "min                        0.000000                     0.000000   \n",
       "25%                        6.939185                    42.055722   \n",
       "50%                        8.557228                    44.498874   \n",
       "75%                       10.289741                    45.976222   \n",
       "max                       18.124851                    53.611374   \n",
       "\n",
       "       final.output.recovery  final.output.tail_ag  final.output.tail_pb  \\\n",
       "count           15339.000000          16794.000000          16677.000000   \n",
       "mean               67.213166              8.757048              2.360327   \n",
       "std                11.960446              3.634103              1.215576   \n",
       "min                 0.000000              0.000000              0.000000   \n",
       "25%                62.625685              7.610544              1.641604   \n",
       "50%                67.644601              9.220393              2.453690   \n",
       "75%                72.824595             10.971110              3.192404   \n",
       "max               100.000000             19.552149              6.086532   \n",
       "\n",
       "       final.output.tail_sol  final.output.tail_au  \\\n",
       "count           16715.000000          16794.000000   \n",
       "mean                9.303932              2.687512   \n",
       "std                 4.263208              1.272757   \n",
       "min                 0.000000              0.000000   \n",
       "25%                 7.870275              2.172953   \n",
       "50%                10.021968              2.781132   \n",
       "75%                11.648573              3.416936   \n",
       "max                22.317730              9.789625   \n",
       "\n",
       "       primary_cleaner.input.sulfate  ...  \\\n",
       "count                   15553.000000  ...   \n",
       "mean                      129.479789  ...   \n",
       "std                        45.386931  ...   \n",
       "min                         0.000003  ...   \n",
       "25%                       103.064021  ...   \n",
       "50%                       131.783108  ...   \n",
       "75%                       159.539839  ...   \n",
       "max                       251.999948  ...   \n",
       "\n",
       "       secondary_cleaner.state.floatbank4_a_air  \\\n",
       "count                              16731.000000   \n",
       "mean                                  19.101874   \n",
       "std                                    6.883163   \n",
       "min                                    0.000000   \n",
       "25%                                   14.508299   \n",
       "50%                                   19.986958   \n",
       "75%                                   24.983961   \n",
       "max                                   60.000000   \n",
       "\n",
       "       secondary_cleaner.state.floatbank4_a_level  \\\n",
       "count                                16747.000000   \n",
       "mean                                  -494.164481   \n",
       "std                                     84.803334   \n",
       "min                                   -799.920713   \n",
       "25%                                   -500.837689   \n",
       "50%                                   -499.778379   \n",
       "75%                                   -494.648754   \n",
       "max                                   -127.692333   \n",
       "\n",
       "       secondary_cleaner.state.floatbank4_b_air  \\\n",
       "count                              16768.000000   \n",
       "mean                                  14.778164   \n",
       "std                                    5.999149   \n",
       "min                                    0.000000   \n",
       "25%                                   10.741388   \n",
       "50%                                   14.943933   \n",
       "75%                                   20.023751   \n",
       "max                                   28.003828   \n",
       "\n",
       "       secondary_cleaner.state.floatbank4_b_level  \\\n",
       "count                                16767.000000   \n",
       "mean                                  -476.600082   \n",
       "std                                     89.381172   \n",
       "min                                   -800.021781   \n",
       "25%                                   -500.269182   \n",
       "50%                                   -499.593286   \n",
       "75%                                   -400.137948   \n",
       "max                                    -71.472472   \n",
       "\n",
       "       secondary_cleaner.state.floatbank5_a_air  \\\n",
       "count                              16775.000000   \n",
       "mean                                  15.779488   \n",
       "std                                    6.834703   \n",
       "min                                   -0.423260   \n",
       "25%                                   10.977713   \n",
       "50%                                   15.998340   \n",
       "75%                                   20.000701   \n",
       "max                                   63.116298   \n",
       "\n",
       "       secondary_cleaner.state.floatbank5_a_level  \\\n",
       "count                                16775.000000   \n",
       "mean                                  -500.230146   \n",
       "std                                     76.983542   \n",
       "min                                   -799.741097   \n",
       "25%                                   -500.530594   \n",
       "50%                                   -499.784231   \n",
       "75%                                   -496.531781   \n",
       "max                                   -275.073125   \n",
       "\n",
       "       secondary_cleaner.state.floatbank5_b_air  \\\n",
       "count                              16775.000000   \n",
       "mean                                  12.377241   \n",
       "std                                    6.219989   \n",
       "min                                    0.427084   \n",
       "25%                                    8.925586   \n",
       "50%                                   11.092839   \n",
       "75%                                   15.979467   \n",
       "max                                   39.846228   \n",
       "\n",
       "       secondary_cleaner.state.floatbank5_b_level  \\\n",
       "count                                16776.000000   \n",
       "mean                                  -498.956257   \n",
       "std                                     82.146207   \n",
       "min                                   -800.258209   \n",
       "25%                                   -500.147603   \n",
       "50%                                   -499.933330   \n",
       "75%                                   -498.418000   \n",
       "max                                   -120.190931   \n",
       "\n",
       "       secondary_cleaner.state.floatbank6_a_air  \\\n",
       "count                              16757.000000   \n",
       "mean                                  18.429208   \n",
       "std                                    6.958294   \n",
       "min                                    0.024270   \n",
       "25%                                   13.977626   \n",
       "50%                                   18.034960   \n",
       "75%                                   24.984992   \n",
       "max                                   54.876806   \n",
       "\n",
       "       secondary_cleaner.state.floatbank6_a_level  \n",
       "count                                16775.000000  \n",
       "mean                                  -521.801826  \n",
       "std                                     77.170888  \n",
       "min                                   -810.473526  \n",
       "25%                                   -501.080595  \n",
       "50%                                   -500.109898  \n",
       "75%                                   -499.565540  \n",
       "max                                    -39.784927  \n",
       "\n",
       "[8 rows x 86 columns]"
      ]
     },
     "metadata": {},
     "output_type": "display_data"
    },
    {
     "name": "stdout",
     "output_type": "stream",
     "text": [
      "----------------------------------------------------------------------------------------------------\n"
     ]
    },
    {
     "data": {
      "text/html": [
       "<div>\n",
       "<style scoped>\n",
       "    .dataframe tbody tr th:only-of-type {\n",
       "        vertical-align: middle;\n",
       "    }\n",
       "\n",
       "    .dataframe tbody tr th {\n",
       "        vertical-align: top;\n",
       "    }\n",
       "\n",
       "    .dataframe thead th {\n",
       "        text-align: right;\n",
       "    }\n",
       "</style>\n",
       "<table border=\"1\" class=\"dataframe\">\n",
       "  <thead>\n",
       "    <tr style=\"text-align: right;\">\n",
       "      <th></th>\n",
       "      <th>date</th>\n",
       "    </tr>\n",
       "  </thead>\n",
       "  <tbody>\n",
       "    <tr>\n",
       "      <td>count</td>\n",
       "      <td>16860</td>\n",
       "    </tr>\n",
       "    <tr>\n",
       "      <td>unique</td>\n",
       "      <td>16860</td>\n",
       "    </tr>\n",
       "    <tr>\n",
       "      <td>top</td>\n",
       "      <td>2016-05-13 14:59:59</td>\n",
       "    </tr>\n",
       "    <tr>\n",
       "      <td>freq</td>\n",
       "      <td>1</td>\n",
       "    </tr>\n",
       "  </tbody>\n",
       "</table>\n",
       "</div>"
      ],
      "text/plain": [
       "                       date\n",
       "count                 16860\n",
       "unique                16860\n",
       "top     2016-05-13 14:59:59\n",
       "freq                      1"
      ]
     },
     "metadata": {},
     "output_type": "display_data"
    },
    {
     "name": "stdout",
     "output_type": "stream",
     "text": [
      "\n",
      "Columns with nulls:\n",
      "Column final.output.concentrate_ag has 0.4270% percent of Nulls, and 72 of nulls\n",
      "Column final.output.concentrate_pb has 0.4270% percent of Nulls, and 72 of nulls\n",
      "Column final.output.concentrate_sol has 2.1945% percent of Nulls, and 370 of nulls\n",
      "Column final.output.concentrate_au has 0.4211% percent of Nulls, and 71 of nulls\n",
      "Column final.output.recovery has 9.0214% percent of Nulls, and 1521 of nulls\n",
      "Column final.output.tail_ag has 0.3915% percent of Nulls, and 66 of nulls\n",
      "Column final.output.tail_pb has 1.0854% percent of Nulls, and 183 of nulls\n",
      "Column final.output.tail_sol has 0.8600% percent of Nulls, and 145 of nulls\n",
      "Column final.output.tail_au has 0.3915% percent of Nulls, and 66 of nulls\n",
      "Column primary_cleaner.input.sulfate has 7.7521% percent of Nulls, and 1307 of nulls\n",
      "Column primary_cleaner.input.depressant has 7.4852% percent of Nulls, and 1262 of nulls\n",
      "Column primary_cleaner.input.xanthate has 5.8422% percent of Nulls, and 985 of nulls\n",
      "Column primary_cleaner.output.concentrate_ag has 0.4864% percent of Nulls, and 82 of nulls\n",
      "Column primary_cleaner.output.concentrate_pb has 2.1234% percent of Nulls, and 358 of nulls\n",
      "Column primary_cleaner.output.concentrate_sol has 3.7722% percent of Nulls, and 636 of nulls\n",
      "Column primary_cleaner.output.concentrate_au has 0.4864% percent of Nulls, and 82 of nulls\n",
      "Column primary_cleaner.output.tail_ag has 0.4923% percent of Nulls, and 83 of nulls\n",
      "Column primary_cleaner.output.tail_pb has 0.5872% percent of Nulls, and 99 of nulls\n",
      "Column primary_cleaner.output.tail_sol has 1.6667% percent of Nulls, and 281 of nulls\n",
      "Column primary_cleaner.output.tail_au has 0.4923% percent of Nulls, and 83 of nulls\n",
      "Column primary_cleaner.state.floatbank8_a_air has 0.2372% percent of Nulls, and 40 of nulls\n",
      "Column primary_cleaner.state.floatbank8_a_level has 0.1957% percent of Nulls, and 33 of nulls\n",
      "Column primary_cleaner.state.floatbank8_b_air has 0.2372% percent of Nulls, and 40 of nulls\n",
      "Column primary_cleaner.state.floatbank8_b_level has 0.1601% percent of Nulls, and 27 of nulls\n",
      "Column primary_cleaner.state.floatbank8_c_air has 0.2254% percent of Nulls, and 38 of nulls\n",
      "Column primary_cleaner.state.floatbank8_c_level has 0.1601% percent of Nulls, and 27 of nulls\n",
      "Column primary_cleaner.state.floatbank8_d_air has 0.2313% percent of Nulls, and 39 of nulls\n",
      "Column primary_cleaner.state.floatbank8_d_level has 0.1601% percent of Nulls, and 27 of nulls\n",
      "Column rougher.calculation.sulfate_to_au_concentrate has 0.1601% percent of Nulls, and 27 of nulls\n",
      "Column rougher.calculation.floatbank10_sulfate_to_au_feed has 0.1601% percent of Nulls, and 27 of nulls\n",
      "Column rougher.calculation.floatbank11_sulfate_to_au_feed has 0.1601% percent of Nulls, and 27 of nulls\n",
      "Column rougher.calculation.au_pb_ratio has 7.3665% percent of Nulls, and 1242 of nulls\n",
      "Column rougher.input.feed_ag has 0.4864% percent of Nulls, and 82 of nulls\n",
      "Column rougher.input.feed_pb has 1.3523% percent of Nulls, and 228 of nulls\n",
      "Column rougher.input.feed_rate has 3.0427% percent of Nulls, and 513 of nulls\n",
      "Column rougher.input.feed_size has 2.4733% percent of Nulls, and 417 of nulls\n",
      "Column rougher.input.feed_sol has 1.7319% percent of Nulls, and 292 of nulls\n",
      "Column rougher.input.feed_au has 0.4923% percent of Nulls, and 83 of nulls\n",
      "Column rougher.input.floatbank10_sulfate has 6.1922% percent of Nulls, and 1044 of nulls\n",
      "Column rougher.input.floatbank10_xanthate has 2.0522% percent of Nulls, and 346 of nulls\n",
      "Column rougher.input.floatbank11_sulfate has 3.6951% percent of Nulls, and 623 of nulls\n",
      "Column rougher.input.floatbank11_xanthate has 11.2930% percent of Nulls, and 1904 of nulls\n",
      "Column rougher.output.concentrate_ag has 0.4864% percent of Nulls, and 82 of nulls\n",
      "Column rougher.output.concentrate_pb has 0.4864% percent of Nulls, and 82 of nulls\n",
      "Column rougher.output.concentrate_sol has 0.9609% percent of Nulls, and 162 of nulls\n",
      "Column rougher.output.concentrate_au has 0.4864% percent of Nulls, and 82 of nulls\n",
      "Column rougher.output.recovery has 15.2610% percent of Nulls, and 2573 of nulls\n",
      "Column rougher.output.tail_ag has 13.3452% percent of Nulls, and 2250 of nulls\n",
      "Column rougher.output.tail_pb has 0.4864% percent of Nulls, and 82 of nulls\n",
      "Column rougher.output.tail_sol has 13.3393% percent of Nulls, and 2249 of nulls\n",
      "Column rougher.output.tail_au has 13.3393% percent of Nulls, and 2249 of nulls\n",
      "Column rougher.state.floatbank10_a_air has 0.3144% percent of Nulls, and 53 of nulls\n",
      "Column rougher.state.floatbank10_a_level has 0.3144% percent of Nulls, and 53 of nulls\n",
      "Column rougher.state.floatbank10_b_air has 0.3144% percent of Nulls, and 53 of nulls\n",
      "Column rougher.state.floatbank10_b_level has 0.3144% percent of Nulls, and 53 of nulls\n",
      "Column rougher.state.floatbank10_c_air has 0.3144% percent of Nulls, and 53 of nulls\n",
      "Column rougher.state.floatbank10_c_level has 0.2728% percent of Nulls, and 46 of nulls\n",
      "Column rougher.state.floatbank10_d_air has 0.3440% percent of Nulls, and 58 of nulls\n",
      "Column rougher.state.floatbank10_d_level has 0.3025% percent of Nulls, and 51 of nulls\n",
      "Column rougher.state.floatbank10_e_air has 3.5765% percent of Nulls, and 603 of nulls\n",
      "Column rougher.state.floatbank10_e_level has 0.3025% percent of Nulls, and 51 of nulls\n",
      "Column rougher.state.floatbank10_f_air has 0.3440% percent of Nulls, and 58 of nulls\n",
      "Column rougher.state.floatbank10_f_level has 0.3440% percent of Nulls, and 58 of nulls\n",
      "Column secondary_cleaner.output.tail_ag has 0.4982% percent of Nulls, and 84 of nulls\n",
      "Column secondary_cleaner.output.tail_pb has 0.5694% percent of Nulls, and 96 of nulls\n",
      "Column secondary_cleaner.output.tail_sol has 11.7794% percent of Nulls, and 1986 of nulls\n",
      "Column secondary_cleaner.output.tail_au has 0.4864% percent of Nulls, and 82 of nulls\n",
      "Column secondary_cleaner.state.floatbank2_a_air has 2.1530% percent of Nulls, and 363 of nulls\n",
      "Column secondary_cleaner.state.floatbank2_a_level has 0.6465% percent of Nulls, and 109 of nulls\n",
      "Column secondary_cleaner.state.floatbank2_b_air has 0.9193% percent of Nulls, and 155 of nulls\n",
      "Column secondary_cleaner.state.floatbank2_b_level has 0.6643% percent of Nulls, and 112 of nulls\n",
      "Column secondary_cleaner.state.floatbank3_a_air has 0.5753% percent of Nulls, and 97 of nulls\n",
      "Column secondary_cleaner.state.floatbank3_a_level has 0.6702% percent of Nulls, and 113 of nulls\n",
      "Column secondary_cleaner.state.floatbank3_b_air has 0.6406% percent of Nulls, and 108 of nulls\n",
      "Column secondary_cleaner.state.floatbank3_b_level has 0.6524% percent of Nulls, and 110 of nulls\n",
      "Column secondary_cleaner.state.floatbank4_a_air has 0.7651% percent of Nulls, and 129 of nulls\n",
      "Column secondary_cleaner.state.floatbank4_a_level has 0.6702% percent of Nulls, and 113 of nulls\n",
      "Column secondary_cleaner.state.floatbank4_b_air has 0.5457% percent of Nulls, and 92 of nulls\n",
      "Column secondary_cleaner.state.floatbank4_b_level has 0.5516% percent of Nulls, and 93 of nulls\n",
      "Column secondary_cleaner.state.floatbank5_a_air has 0.5042% percent of Nulls, and 85 of nulls\n",
      "Column secondary_cleaner.state.floatbank5_a_level has 0.5042% percent of Nulls, and 85 of nulls\n",
      "Column secondary_cleaner.state.floatbank5_b_air has 0.5042% percent of Nulls, and 85 of nulls\n",
      "Column secondary_cleaner.state.floatbank5_b_level has 0.4982% percent of Nulls, and 84 of nulls\n",
      "Column secondary_cleaner.state.floatbank6_a_air has 0.6109% percent of Nulls, and 103 of nulls\n",
      "Column secondary_cleaner.state.floatbank6_a_level has 0.5042% percent of Nulls, and 85 of nulls\n",
      "\u001b[1mThere are 85 columns with NA.\u001b[0m\n"
     ]
    },
    {
     "data": {
      "text/plain": [
       "None"
      ]
     },
     "metadata": {},
     "output_type": "display_data"
    },
    {
     "name": "stdout",
     "output_type": "stream",
     "text": [
      "----------------------------------------------------------------------------------------------------\n",
      "Shape:\n",
      "(16860, 87)\n",
      "----------------------------------------------------------------------------------------------------\n",
      "Duplicated:\n",
      "\u001b[1mWe have 0 duplicated rows.\n",
      "\u001b[0m\n",
      "\n"
     ]
    }
   ],
   "source": [
    "get_info(df_train)"
   ]
  },
  {
   "cell_type": "markdown",
   "metadata": {},
   "source": [
    "**`df_test` general infos**"
   ]
  },
  {
   "cell_type": "code",
   "execution_count": 5,
   "metadata": {
    "scrolled": false
   },
   "outputs": [
    {
     "name": "stdout",
     "output_type": "stream",
     "text": [
      "\u001b[1m----------------------------------------------------------------------------------------------------\u001b[0m\n",
      "Head:\n",
      "\n"
     ]
    },
    {
     "data": {
      "text/html": [
       "<div>\n",
       "<style scoped>\n",
       "    .dataframe tbody tr th:only-of-type {\n",
       "        vertical-align: middle;\n",
       "    }\n",
       "\n",
       "    .dataframe tbody tr th {\n",
       "        vertical-align: top;\n",
       "    }\n",
       "\n",
       "    .dataframe thead th {\n",
       "        text-align: right;\n",
       "    }\n",
       "</style>\n",
       "<table border=\"1\" class=\"dataframe\">\n",
       "  <thead>\n",
       "    <tr style=\"text-align: right;\">\n",
       "      <th></th>\n",
       "      <th>date</th>\n",
       "      <th>primary_cleaner.input.sulfate</th>\n",
       "      <th>primary_cleaner.input.depressant</th>\n",
       "      <th>primary_cleaner.input.feed_size</th>\n",
       "      <th>primary_cleaner.input.xanthate</th>\n",
       "      <th>primary_cleaner.state.floatbank8_a_air</th>\n",
       "      <th>primary_cleaner.state.floatbank8_a_level</th>\n",
       "      <th>primary_cleaner.state.floatbank8_b_air</th>\n",
       "      <th>primary_cleaner.state.floatbank8_b_level</th>\n",
       "      <th>primary_cleaner.state.floatbank8_c_air</th>\n",
       "      <th>...</th>\n",
       "      <th>secondary_cleaner.state.floatbank4_a_air</th>\n",
       "      <th>secondary_cleaner.state.floatbank4_a_level</th>\n",
       "      <th>secondary_cleaner.state.floatbank4_b_air</th>\n",
       "      <th>secondary_cleaner.state.floatbank4_b_level</th>\n",
       "      <th>secondary_cleaner.state.floatbank5_a_air</th>\n",
       "      <th>secondary_cleaner.state.floatbank5_a_level</th>\n",
       "      <th>secondary_cleaner.state.floatbank5_b_air</th>\n",
       "      <th>secondary_cleaner.state.floatbank5_b_level</th>\n",
       "      <th>secondary_cleaner.state.floatbank6_a_air</th>\n",
       "      <th>secondary_cleaner.state.floatbank6_a_level</th>\n",
       "    </tr>\n",
       "  </thead>\n",
       "  <tbody>\n",
       "    <tr>\n",
       "      <td>0</td>\n",
       "      <td>2016-09-01 00:59:59</td>\n",
       "      <td>210.800909</td>\n",
       "      <td>14.993118</td>\n",
       "      <td>8.080000</td>\n",
       "      <td>1.005021</td>\n",
       "      <td>1398.981301</td>\n",
       "      <td>-500.225577</td>\n",
       "      <td>1399.144926</td>\n",
       "      <td>-499.919735</td>\n",
       "      <td>1400.102998</td>\n",
       "      <td>...</td>\n",
       "      <td>12.023554</td>\n",
       "      <td>-497.795834</td>\n",
       "      <td>8.016656</td>\n",
       "      <td>-501.289139</td>\n",
       "      <td>7.946562</td>\n",
       "      <td>-432.317850</td>\n",
       "      <td>4.872511</td>\n",
       "      <td>-500.037437</td>\n",
       "      <td>26.705889</td>\n",
       "      <td>-499.709414</td>\n",
       "    </tr>\n",
       "    <tr>\n",
       "      <td>1</td>\n",
       "      <td>2016-09-01 01:59:59</td>\n",
       "      <td>215.392455</td>\n",
       "      <td>14.987471</td>\n",
       "      <td>8.080000</td>\n",
       "      <td>0.990469</td>\n",
       "      <td>1398.777912</td>\n",
       "      <td>-500.057435</td>\n",
       "      <td>1398.055362</td>\n",
       "      <td>-499.778182</td>\n",
       "      <td>1396.151033</td>\n",
       "      <td>...</td>\n",
       "      <td>12.058140</td>\n",
       "      <td>-498.695773</td>\n",
       "      <td>8.130979</td>\n",
       "      <td>-499.634209</td>\n",
       "      <td>7.958270</td>\n",
       "      <td>-525.839648</td>\n",
       "      <td>4.878850</td>\n",
       "      <td>-500.162375</td>\n",
       "      <td>25.019940</td>\n",
       "      <td>-499.819438</td>\n",
       "    </tr>\n",
       "    <tr>\n",
       "      <td>2</td>\n",
       "      <td>2016-09-01 02:59:59</td>\n",
       "      <td>215.259946</td>\n",
       "      <td>12.884934</td>\n",
       "      <td>7.786667</td>\n",
       "      <td>0.996043</td>\n",
       "      <td>1398.493666</td>\n",
       "      <td>-500.868360</td>\n",
       "      <td>1398.860436</td>\n",
       "      <td>-499.764529</td>\n",
       "      <td>1398.075709</td>\n",
       "      <td>...</td>\n",
       "      <td>11.962366</td>\n",
       "      <td>-498.767484</td>\n",
       "      <td>8.096893</td>\n",
       "      <td>-500.827423</td>\n",
       "      <td>8.071056</td>\n",
       "      <td>-500.801673</td>\n",
       "      <td>4.905125</td>\n",
       "      <td>-499.828510</td>\n",
       "      <td>24.994862</td>\n",
       "      <td>-500.622559</td>\n",
       "    </tr>\n",
       "    <tr>\n",
       "      <td>3</td>\n",
       "      <td>2016-09-01 03:59:59</td>\n",
       "      <td>215.336236</td>\n",
       "      <td>12.006805</td>\n",
       "      <td>7.640000</td>\n",
       "      <td>0.863514</td>\n",
       "      <td>1399.618111</td>\n",
       "      <td>-498.863574</td>\n",
       "      <td>1397.440120</td>\n",
       "      <td>-499.211024</td>\n",
       "      <td>1400.129303</td>\n",
       "      <td>...</td>\n",
       "      <td>12.033091</td>\n",
       "      <td>-498.350935</td>\n",
       "      <td>8.074946</td>\n",
       "      <td>-499.474407</td>\n",
       "      <td>7.897085</td>\n",
       "      <td>-500.868509</td>\n",
       "      <td>4.931400</td>\n",
       "      <td>-499.963623</td>\n",
       "      <td>24.948919</td>\n",
       "      <td>-498.709987</td>\n",
       "    </tr>\n",
       "    <tr>\n",
       "      <td>4</td>\n",
       "      <td>2016-09-01 04:59:59</td>\n",
       "      <td>199.099327</td>\n",
       "      <td>10.682530</td>\n",
       "      <td>7.530000</td>\n",
       "      <td>0.805575</td>\n",
       "      <td>1401.268123</td>\n",
       "      <td>-500.808305</td>\n",
       "      <td>1398.128818</td>\n",
       "      <td>-499.504543</td>\n",
       "      <td>1402.172226</td>\n",
       "      <td>...</td>\n",
       "      <td>12.025367</td>\n",
       "      <td>-500.786497</td>\n",
       "      <td>8.054678</td>\n",
       "      <td>-500.397500</td>\n",
       "      <td>8.107890</td>\n",
       "      <td>-509.526725</td>\n",
       "      <td>4.957674</td>\n",
       "      <td>-500.360026</td>\n",
       "      <td>25.003331</td>\n",
       "      <td>-500.856333</td>\n",
       "    </tr>\n",
       "  </tbody>\n",
       "</table>\n",
       "<p>5 rows × 53 columns</p>\n",
       "</div>"
      ],
      "text/plain": [
       "                  date  primary_cleaner.input.sulfate  \\\n",
       "0  2016-09-01 00:59:59                     210.800909   \n",
       "1  2016-09-01 01:59:59                     215.392455   \n",
       "2  2016-09-01 02:59:59                     215.259946   \n",
       "3  2016-09-01 03:59:59                     215.336236   \n",
       "4  2016-09-01 04:59:59                     199.099327   \n",
       "\n",
       "   primary_cleaner.input.depressant  primary_cleaner.input.feed_size  \\\n",
       "0                         14.993118                         8.080000   \n",
       "1                         14.987471                         8.080000   \n",
       "2                         12.884934                         7.786667   \n",
       "3                         12.006805                         7.640000   \n",
       "4                         10.682530                         7.530000   \n",
       "\n",
       "   primary_cleaner.input.xanthate  primary_cleaner.state.floatbank8_a_air  \\\n",
       "0                        1.005021                             1398.981301   \n",
       "1                        0.990469                             1398.777912   \n",
       "2                        0.996043                             1398.493666   \n",
       "3                        0.863514                             1399.618111   \n",
       "4                        0.805575                             1401.268123   \n",
       "\n",
       "   primary_cleaner.state.floatbank8_a_level  \\\n",
       "0                               -500.225577   \n",
       "1                               -500.057435   \n",
       "2                               -500.868360   \n",
       "3                               -498.863574   \n",
       "4                               -500.808305   \n",
       "\n",
       "   primary_cleaner.state.floatbank8_b_air  \\\n",
       "0                             1399.144926   \n",
       "1                             1398.055362   \n",
       "2                             1398.860436   \n",
       "3                             1397.440120   \n",
       "4                             1398.128818   \n",
       "\n",
       "   primary_cleaner.state.floatbank8_b_level  \\\n",
       "0                               -499.919735   \n",
       "1                               -499.778182   \n",
       "2                               -499.764529   \n",
       "3                               -499.211024   \n",
       "4                               -499.504543   \n",
       "\n",
       "   primary_cleaner.state.floatbank8_c_air  ...  \\\n",
       "0                             1400.102998  ...   \n",
       "1                             1396.151033  ...   \n",
       "2                             1398.075709  ...   \n",
       "3                             1400.129303  ...   \n",
       "4                             1402.172226  ...   \n",
       "\n",
       "   secondary_cleaner.state.floatbank4_a_air  \\\n",
       "0                                 12.023554   \n",
       "1                                 12.058140   \n",
       "2                                 11.962366   \n",
       "3                                 12.033091   \n",
       "4                                 12.025367   \n",
       "\n",
       "   secondary_cleaner.state.floatbank4_a_level  \\\n",
       "0                                 -497.795834   \n",
       "1                                 -498.695773   \n",
       "2                                 -498.767484   \n",
       "3                                 -498.350935   \n",
       "4                                 -500.786497   \n",
       "\n",
       "   secondary_cleaner.state.floatbank4_b_air  \\\n",
       "0                                  8.016656   \n",
       "1                                  8.130979   \n",
       "2                                  8.096893   \n",
       "3                                  8.074946   \n",
       "4                                  8.054678   \n",
       "\n",
       "   secondary_cleaner.state.floatbank4_b_level  \\\n",
       "0                                 -501.289139   \n",
       "1                                 -499.634209   \n",
       "2                                 -500.827423   \n",
       "3                                 -499.474407   \n",
       "4                                 -500.397500   \n",
       "\n",
       "   secondary_cleaner.state.floatbank5_a_air  \\\n",
       "0                                  7.946562   \n",
       "1                                  7.958270   \n",
       "2                                  8.071056   \n",
       "3                                  7.897085   \n",
       "4                                  8.107890   \n",
       "\n",
       "   secondary_cleaner.state.floatbank5_a_level  \\\n",
       "0                                 -432.317850   \n",
       "1                                 -525.839648   \n",
       "2                                 -500.801673   \n",
       "3                                 -500.868509   \n",
       "4                                 -509.526725   \n",
       "\n",
       "   secondary_cleaner.state.floatbank5_b_air  \\\n",
       "0                                  4.872511   \n",
       "1                                  4.878850   \n",
       "2                                  4.905125   \n",
       "3                                  4.931400   \n",
       "4                                  4.957674   \n",
       "\n",
       "   secondary_cleaner.state.floatbank5_b_level  \\\n",
       "0                                 -500.037437   \n",
       "1                                 -500.162375   \n",
       "2                                 -499.828510   \n",
       "3                                 -499.963623   \n",
       "4                                 -500.360026   \n",
       "\n",
       "   secondary_cleaner.state.floatbank6_a_air  \\\n",
       "0                                 26.705889   \n",
       "1                                 25.019940   \n",
       "2                                 24.994862   \n",
       "3                                 24.948919   \n",
       "4                                 25.003331   \n",
       "\n",
       "   secondary_cleaner.state.floatbank6_a_level  \n",
       "0                                 -499.709414  \n",
       "1                                 -499.819438  \n",
       "2                                 -500.622559  \n",
       "3                                 -498.709987  \n",
       "4                                 -500.856333  \n",
       "\n",
       "[5 rows x 53 columns]"
      ]
     },
     "metadata": {},
     "output_type": "display_data"
    },
    {
     "name": "stdout",
     "output_type": "stream",
     "text": [
      "----------------------------------------------------------------------------------------------------\n",
      "Info:\n",
      "\n",
      "<class 'pandas.core.frame.DataFrame'>\n",
      "RangeIndex: 5856 entries, 0 to 5855\n",
      "Data columns (total 53 columns):\n",
      "date                                          5856 non-null object\n",
      "primary_cleaner.input.sulfate                 5554 non-null float64\n",
      "primary_cleaner.input.depressant              5572 non-null float64\n",
      "primary_cleaner.input.feed_size               5856 non-null float64\n",
      "primary_cleaner.input.xanthate                5690 non-null float64\n",
      "primary_cleaner.state.floatbank8_a_air        5840 non-null float64\n",
      "primary_cleaner.state.floatbank8_a_level      5840 non-null float64\n",
      "primary_cleaner.state.floatbank8_b_air        5840 non-null float64\n",
      "primary_cleaner.state.floatbank8_b_level      5840 non-null float64\n",
      "primary_cleaner.state.floatbank8_c_air        5840 non-null float64\n",
      "primary_cleaner.state.floatbank8_c_level      5840 non-null float64\n",
      "primary_cleaner.state.floatbank8_d_air        5840 non-null float64\n",
      "primary_cleaner.state.floatbank8_d_level      5840 non-null float64\n",
      "rougher.input.feed_ag                         5840 non-null float64\n",
      "rougher.input.feed_pb                         5840 non-null float64\n",
      "rougher.input.feed_rate                       5816 non-null float64\n",
      "rougher.input.feed_size                       5834 non-null float64\n",
      "rougher.input.feed_sol                        5789 non-null float64\n",
      "rougher.input.feed_au                         5840 non-null float64\n",
      "rougher.input.floatbank10_sulfate             5599 non-null float64\n",
      "rougher.input.floatbank10_xanthate            5733 non-null float64\n",
      "rougher.input.floatbank11_sulfate             5801 non-null float64\n",
      "rougher.input.floatbank11_xanthate            5503 non-null float64\n",
      "rougher.state.floatbank10_a_air               5839 non-null float64\n",
      "rougher.state.floatbank10_a_level             5840 non-null float64\n",
      "rougher.state.floatbank10_b_air               5839 non-null float64\n",
      "rougher.state.floatbank10_b_level             5840 non-null float64\n",
      "rougher.state.floatbank10_c_air               5839 non-null float64\n",
      "rougher.state.floatbank10_c_level             5840 non-null float64\n",
      "rougher.state.floatbank10_d_air               5839 non-null float64\n",
      "rougher.state.floatbank10_d_level             5840 non-null float64\n",
      "rougher.state.floatbank10_e_air               5839 non-null float64\n",
      "rougher.state.floatbank10_e_level             5840 non-null float64\n",
      "rougher.state.floatbank10_f_air               5839 non-null float64\n",
      "rougher.state.floatbank10_f_level             5840 non-null float64\n",
      "secondary_cleaner.state.floatbank2_a_air      5836 non-null float64\n",
      "secondary_cleaner.state.floatbank2_a_level    5840 non-null float64\n",
      "secondary_cleaner.state.floatbank2_b_air      5833 non-null float64\n",
      "secondary_cleaner.state.floatbank2_b_level    5840 non-null float64\n",
      "secondary_cleaner.state.floatbank3_a_air      5822 non-null float64\n",
      "secondary_cleaner.state.floatbank3_a_level    5840 non-null float64\n",
      "secondary_cleaner.state.floatbank3_b_air      5840 non-null float64\n",
      "secondary_cleaner.state.floatbank3_b_level    5840 non-null float64\n",
      "secondary_cleaner.state.floatbank4_a_air      5840 non-null float64\n",
      "secondary_cleaner.state.floatbank4_a_level    5840 non-null float64\n",
      "secondary_cleaner.state.floatbank4_b_air      5840 non-null float64\n",
      "secondary_cleaner.state.floatbank4_b_level    5840 non-null float64\n",
      "secondary_cleaner.state.floatbank5_a_air      5840 non-null float64\n",
      "secondary_cleaner.state.floatbank5_a_level    5840 non-null float64\n",
      "secondary_cleaner.state.floatbank5_b_air      5840 non-null float64\n",
      "secondary_cleaner.state.floatbank5_b_level    5840 non-null float64\n",
      "secondary_cleaner.state.floatbank6_a_air      5840 non-null float64\n",
      "secondary_cleaner.state.floatbank6_a_level    5840 non-null float64\n",
      "dtypes: float64(52), object(1)\n",
      "memory usage: 2.4+ MB\n"
     ]
    },
    {
     "data": {
      "text/plain": [
       "None"
      ]
     },
     "metadata": {},
     "output_type": "display_data"
    },
    {
     "name": "stdout",
     "output_type": "stream",
     "text": [
      "----------------------------------------------------------------------------------------------------\n",
      "Describe:\n",
      "\n"
     ]
    },
    {
     "data": {
      "text/html": [
       "<div>\n",
       "<style scoped>\n",
       "    .dataframe tbody tr th:only-of-type {\n",
       "        vertical-align: middle;\n",
       "    }\n",
       "\n",
       "    .dataframe tbody tr th {\n",
       "        vertical-align: top;\n",
       "    }\n",
       "\n",
       "    .dataframe thead th {\n",
       "        text-align: right;\n",
       "    }\n",
       "</style>\n",
       "<table border=\"1\" class=\"dataframe\">\n",
       "  <thead>\n",
       "    <tr style=\"text-align: right;\">\n",
       "      <th></th>\n",
       "      <th>primary_cleaner.input.sulfate</th>\n",
       "      <th>primary_cleaner.input.depressant</th>\n",
       "      <th>primary_cleaner.input.feed_size</th>\n",
       "      <th>primary_cleaner.input.xanthate</th>\n",
       "      <th>primary_cleaner.state.floatbank8_a_air</th>\n",
       "      <th>primary_cleaner.state.floatbank8_a_level</th>\n",
       "      <th>primary_cleaner.state.floatbank8_b_air</th>\n",
       "      <th>primary_cleaner.state.floatbank8_b_level</th>\n",
       "      <th>primary_cleaner.state.floatbank8_c_air</th>\n",
       "      <th>primary_cleaner.state.floatbank8_c_level</th>\n",
       "      <th>...</th>\n",
       "      <th>secondary_cleaner.state.floatbank4_a_air</th>\n",
       "      <th>secondary_cleaner.state.floatbank4_a_level</th>\n",
       "      <th>secondary_cleaner.state.floatbank4_b_air</th>\n",
       "      <th>secondary_cleaner.state.floatbank4_b_level</th>\n",
       "      <th>secondary_cleaner.state.floatbank5_a_air</th>\n",
       "      <th>secondary_cleaner.state.floatbank5_a_level</th>\n",
       "      <th>secondary_cleaner.state.floatbank5_b_air</th>\n",
       "      <th>secondary_cleaner.state.floatbank5_b_level</th>\n",
       "      <th>secondary_cleaner.state.floatbank6_a_air</th>\n",
       "      <th>secondary_cleaner.state.floatbank6_a_level</th>\n",
       "    </tr>\n",
       "  </thead>\n",
       "  <tbody>\n",
       "    <tr>\n",
       "      <td>count</td>\n",
       "      <td>5554.000000</td>\n",
       "      <td>5572.000000</td>\n",
       "      <td>5856.000000</td>\n",
       "      <td>5690.000000</td>\n",
       "      <td>5840.000000</td>\n",
       "      <td>5840.000000</td>\n",
       "      <td>5840.000000</td>\n",
       "      <td>5840.000000</td>\n",
       "      <td>5840.000000</td>\n",
       "      <td>5840.000000</td>\n",
       "      <td>...</td>\n",
       "      <td>5840.000000</td>\n",
       "      <td>5840.000000</td>\n",
       "      <td>5840.000000</td>\n",
       "      <td>5840.000000</td>\n",
       "      <td>5840.000000</td>\n",
       "      <td>5840.000000</td>\n",
       "      <td>5840.000000</td>\n",
       "      <td>5840.000000</td>\n",
       "      <td>5840.000000</td>\n",
       "      <td>5840.000000</td>\n",
       "    </tr>\n",
       "    <tr>\n",
       "      <td>mean</td>\n",
       "      <td>170.515243</td>\n",
       "      <td>8.482873</td>\n",
       "      <td>7.264651</td>\n",
       "      <td>1.321420</td>\n",
       "      <td>1481.990241</td>\n",
       "      <td>-509.057796</td>\n",
       "      <td>1486.908670</td>\n",
       "      <td>-511.743956</td>\n",
       "      <td>1468.495216</td>\n",
       "      <td>-509.741212</td>\n",
       "      <td>...</td>\n",
       "      <td>15.636031</td>\n",
       "      <td>-516.266074</td>\n",
       "      <td>13.145702</td>\n",
       "      <td>-476.338907</td>\n",
       "      <td>12.308967</td>\n",
       "      <td>-512.208126</td>\n",
       "      <td>9.470986</td>\n",
       "      <td>-505.017827</td>\n",
       "      <td>16.678722</td>\n",
       "      <td>-512.351694</td>\n",
       "    </tr>\n",
       "    <tr>\n",
       "      <td>std</td>\n",
       "      <td>49.608602</td>\n",
       "      <td>3.353105</td>\n",
       "      <td>0.611526</td>\n",
       "      <td>0.693246</td>\n",
       "      <td>310.453166</td>\n",
       "      <td>61.339256</td>\n",
       "      <td>313.224286</td>\n",
       "      <td>67.139074</td>\n",
       "      <td>309.980748</td>\n",
       "      <td>62.671873</td>\n",
       "      <td>...</td>\n",
       "      <td>4.660835</td>\n",
       "      <td>62.756748</td>\n",
       "      <td>4.304086</td>\n",
       "      <td>105.549424</td>\n",
       "      <td>3.762827</td>\n",
       "      <td>58.864651</td>\n",
       "      <td>3.312471</td>\n",
       "      <td>68.785898</td>\n",
       "      <td>5.404514</td>\n",
       "      <td>69.919839</td>\n",
       "    </tr>\n",
       "    <tr>\n",
       "      <td>min</td>\n",
       "      <td>0.000103</td>\n",
       "      <td>0.000031</td>\n",
       "      <td>5.650000</td>\n",
       "      <td>0.000003</td>\n",
       "      <td>0.000000</td>\n",
       "      <td>-799.773788</td>\n",
       "      <td>0.000000</td>\n",
       "      <td>-800.029078</td>\n",
       "      <td>0.000000</td>\n",
       "      <td>-799.995127</td>\n",
       "      <td>...</td>\n",
       "      <td>0.000000</td>\n",
       "      <td>-799.798523</td>\n",
       "      <td>0.000000</td>\n",
       "      <td>-800.836914</td>\n",
       "      <td>-0.223393</td>\n",
       "      <td>-799.661076</td>\n",
       "      <td>0.528083</td>\n",
       "      <td>-800.220337</td>\n",
       "      <td>-0.079426</td>\n",
       "      <td>-809.859706</td>\n",
       "    </tr>\n",
       "    <tr>\n",
       "      <td>25%</td>\n",
       "      <td>143.340022</td>\n",
       "      <td>6.411500</td>\n",
       "      <td>6.885625</td>\n",
       "      <td>0.888769</td>\n",
       "      <td>1497.190681</td>\n",
       "      <td>-500.455211</td>\n",
       "      <td>1497.150234</td>\n",
       "      <td>-500.936639</td>\n",
       "      <td>1437.050321</td>\n",
       "      <td>-501.300441</td>\n",
       "      <td>...</td>\n",
       "      <td>12.057838</td>\n",
       "      <td>-501.054741</td>\n",
       "      <td>11.880119</td>\n",
       "      <td>-500.419113</td>\n",
       "      <td>10.123459</td>\n",
       "      <td>-500.879383</td>\n",
       "      <td>7.991208</td>\n",
       "      <td>-500.223089</td>\n",
       "      <td>13.012422</td>\n",
       "      <td>-500.833821</td>\n",
       "    </tr>\n",
       "    <tr>\n",
       "      <td>50%</td>\n",
       "      <td>176.103893</td>\n",
       "      <td>8.023252</td>\n",
       "      <td>7.259333</td>\n",
       "      <td>1.183362</td>\n",
       "      <td>1554.659783</td>\n",
       "      <td>-499.997402</td>\n",
       "      <td>1553.268084</td>\n",
       "      <td>-500.066588</td>\n",
       "      <td>1546.160672</td>\n",
       "      <td>-500.079537</td>\n",
       "      <td>...</td>\n",
       "      <td>17.001867</td>\n",
       "      <td>-500.160145</td>\n",
       "      <td>14.952102</td>\n",
       "      <td>-499.644328</td>\n",
       "      <td>12.062877</td>\n",
       "      <td>-500.047621</td>\n",
       "      <td>9.980774</td>\n",
       "      <td>-500.001338</td>\n",
       "      <td>16.007242</td>\n",
       "      <td>-500.041085</td>\n",
       "    </tr>\n",
       "    <tr>\n",
       "      <td>75%</td>\n",
       "      <td>207.240761</td>\n",
       "      <td>10.017725</td>\n",
       "      <td>7.650000</td>\n",
       "      <td>1.763797</td>\n",
       "      <td>1601.681656</td>\n",
       "      <td>-499.575313</td>\n",
       "      <td>1601.784707</td>\n",
       "      <td>-499.323361</td>\n",
       "      <td>1600.785573</td>\n",
       "      <td>-499.009545</td>\n",
       "      <td>...</td>\n",
       "      <td>18.030985</td>\n",
       "      <td>-499.441529</td>\n",
       "      <td>15.940011</td>\n",
       "      <td>-401.523664</td>\n",
       "      <td>15.017881</td>\n",
       "      <td>-499.297033</td>\n",
       "      <td>11.992176</td>\n",
       "      <td>-499.722835</td>\n",
       "      <td>21.009076</td>\n",
       "      <td>-499.395621</td>\n",
       "    </tr>\n",
       "    <tr>\n",
       "      <td>max</td>\n",
       "      <td>274.409626</td>\n",
       "      <td>40.024582</td>\n",
       "      <td>15.500000</td>\n",
       "      <td>5.433169</td>\n",
       "      <td>2212.432090</td>\n",
       "      <td>-57.195404</td>\n",
       "      <td>1975.147923</td>\n",
       "      <td>-142.527229</td>\n",
       "      <td>1715.053773</td>\n",
       "      <td>-150.937035</td>\n",
       "      <td>...</td>\n",
       "      <td>30.051797</td>\n",
       "      <td>-401.565212</td>\n",
       "      <td>31.269706</td>\n",
       "      <td>-6.506986</td>\n",
       "      <td>25.258848</td>\n",
       "      <td>-244.483566</td>\n",
       "      <td>14.090194</td>\n",
       "      <td>-126.463446</td>\n",
       "      <td>26.705889</td>\n",
       "      <td>-29.093593</td>\n",
       "    </tr>\n",
       "  </tbody>\n",
       "</table>\n",
       "<p>8 rows × 52 columns</p>\n",
       "</div>"
      ],
      "text/plain": [
       "       primary_cleaner.input.sulfate  primary_cleaner.input.depressant  \\\n",
       "count                    5554.000000                       5572.000000   \n",
       "mean                      170.515243                          8.482873   \n",
       "std                        49.608602                          3.353105   \n",
       "min                         0.000103                          0.000031   \n",
       "25%                       143.340022                          6.411500   \n",
       "50%                       176.103893                          8.023252   \n",
       "75%                       207.240761                         10.017725   \n",
       "max                       274.409626                         40.024582   \n",
       "\n",
       "       primary_cleaner.input.feed_size  primary_cleaner.input.xanthate  \\\n",
       "count                      5856.000000                     5690.000000   \n",
       "mean                          7.264651                        1.321420   \n",
       "std                           0.611526                        0.693246   \n",
       "min                           5.650000                        0.000003   \n",
       "25%                           6.885625                        0.888769   \n",
       "50%                           7.259333                        1.183362   \n",
       "75%                           7.650000                        1.763797   \n",
       "max                          15.500000                        5.433169   \n",
       "\n",
       "       primary_cleaner.state.floatbank8_a_air  \\\n",
       "count                             5840.000000   \n",
       "mean                              1481.990241   \n",
       "std                                310.453166   \n",
       "min                                  0.000000   \n",
       "25%                               1497.190681   \n",
       "50%                               1554.659783   \n",
       "75%                               1601.681656   \n",
       "max                               2212.432090   \n",
       "\n",
       "       primary_cleaner.state.floatbank8_a_level  \\\n",
       "count                               5840.000000   \n",
       "mean                                -509.057796   \n",
       "std                                   61.339256   \n",
       "min                                 -799.773788   \n",
       "25%                                 -500.455211   \n",
       "50%                                 -499.997402   \n",
       "75%                                 -499.575313   \n",
       "max                                  -57.195404   \n",
       "\n",
       "       primary_cleaner.state.floatbank8_b_air  \\\n",
       "count                             5840.000000   \n",
       "mean                              1486.908670   \n",
       "std                                313.224286   \n",
       "min                                  0.000000   \n",
       "25%                               1497.150234   \n",
       "50%                               1553.268084   \n",
       "75%                               1601.784707   \n",
       "max                               1975.147923   \n",
       "\n",
       "       primary_cleaner.state.floatbank8_b_level  \\\n",
       "count                               5840.000000   \n",
       "mean                                -511.743956   \n",
       "std                                   67.139074   \n",
       "min                                 -800.029078   \n",
       "25%                                 -500.936639   \n",
       "50%                                 -500.066588   \n",
       "75%                                 -499.323361   \n",
       "max                                 -142.527229   \n",
       "\n",
       "       primary_cleaner.state.floatbank8_c_air  \\\n",
       "count                             5840.000000   \n",
       "mean                              1468.495216   \n",
       "std                                309.980748   \n",
       "min                                  0.000000   \n",
       "25%                               1437.050321   \n",
       "50%                               1546.160672   \n",
       "75%                               1600.785573   \n",
       "max                               1715.053773   \n",
       "\n",
       "       primary_cleaner.state.floatbank8_c_level  ...  \\\n",
       "count                               5840.000000  ...   \n",
       "mean                                -509.741212  ...   \n",
       "std                                   62.671873  ...   \n",
       "min                                 -799.995127  ...   \n",
       "25%                                 -501.300441  ...   \n",
       "50%                                 -500.079537  ...   \n",
       "75%                                 -499.009545  ...   \n",
       "max                                 -150.937035  ...   \n",
       "\n",
       "       secondary_cleaner.state.floatbank4_a_air  \\\n",
       "count                               5840.000000   \n",
       "mean                                  15.636031   \n",
       "std                                    4.660835   \n",
       "min                                    0.000000   \n",
       "25%                                   12.057838   \n",
       "50%                                   17.001867   \n",
       "75%                                   18.030985   \n",
       "max                                   30.051797   \n",
       "\n",
       "       secondary_cleaner.state.floatbank4_a_level  \\\n",
       "count                                 5840.000000   \n",
       "mean                                  -516.266074   \n",
       "std                                     62.756748   \n",
       "min                                   -799.798523   \n",
       "25%                                   -501.054741   \n",
       "50%                                   -500.160145   \n",
       "75%                                   -499.441529   \n",
       "max                                   -401.565212   \n",
       "\n",
       "       secondary_cleaner.state.floatbank4_b_air  \\\n",
       "count                               5840.000000   \n",
       "mean                                  13.145702   \n",
       "std                                    4.304086   \n",
       "min                                    0.000000   \n",
       "25%                                   11.880119   \n",
       "50%                                   14.952102   \n",
       "75%                                   15.940011   \n",
       "max                                   31.269706   \n",
       "\n",
       "       secondary_cleaner.state.floatbank4_b_level  \\\n",
       "count                                 5840.000000   \n",
       "mean                                  -476.338907   \n",
       "std                                    105.549424   \n",
       "min                                   -800.836914   \n",
       "25%                                   -500.419113   \n",
       "50%                                   -499.644328   \n",
       "75%                                   -401.523664   \n",
       "max                                     -6.506986   \n",
       "\n",
       "       secondary_cleaner.state.floatbank5_a_air  \\\n",
       "count                               5840.000000   \n",
       "mean                                  12.308967   \n",
       "std                                    3.762827   \n",
       "min                                   -0.223393   \n",
       "25%                                   10.123459   \n",
       "50%                                   12.062877   \n",
       "75%                                   15.017881   \n",
       "max                                   25.258848   \n",
       "\n",
       "       secondary_cleaner.state.floatbank5_a_level  \\\n",
       "count                                 5840.000000   \n",
       "mean                                  -512.208126   \n",
       "std                                     58.864651   \n",
       "min                                   -799.661076   \n",
       "25%                                   -500.879383   \n",
       "50%                                   -500.047621   \n",
       "75%                                   -499.297033   \n",
       "max                                   -244.483566   \n",
       "\n",
       "       secondary_cleaner.state.floatbank5_b_air  \\\n",
       "count                               5840.000000   \n",
       "mean                                   9.470986   \n",
       "std                                    3.312471   \n",
       "min                                    0.528083   \n",
       "25%                                    7.991208   \n",
       "50%                                    9.980774   \n",
       "75%                                   11.992176   \n",
       "max                                   14.090194   \n",
       "\n",
       "       secondary_cleaner.state.floatbank5_b_level  \\\n",
       "count                                 5840.000000   \n",
       "mean                                  -505.017827   \n",
       "std                                     68.785898   \n",
       "min                                   -800.220337   \n",
       "25%                                   -500.223089   \n",
       "50%                                   -500.001338   \n",
       "75%                                   -499.722835   \n",
       "max                                   -126.463446   \n",
       "\n",
       "       secondary_cleaner.state.floatbank6_a_air  \\\n",
       "count                               5840.000000   \n",
       "mean                                  16.678722   \n",
       "std                                    5.404514   \n",
       "min                                   -0.079426   \n",
       "25%                                   13.012422   \n",
       "50%                                   16.007242   \n",
       "75%                                   21.009076   \n",
       "max                                   26.705889   \n",
       "\n",
       "       secondary_cleaner.state.floatbank6_a_level  \n",
       "count                                 5840.000000  \n",
       "mean                                  -512.351694  \n",
       "std                                     69.919839  \n",
       "min                                   -809.859706  \n",
       "25%                                   -500.833821  \n",
       "50%                                   -500.041085  \n",
       "75%                                   -499.395621  \n",
       "max                                    -29.093593  \n",
       "\n",
       "[8 rows x 52 columns]"
      ]
     },
     "metadata": {},
     "output_type": "display_data"
    },
    {
     "name": "stdout",
     "output_type": "stream",
     "text": [
      "----------------------------------------------------------------------------------------------------\n"
     ]
    },
    {
     "data": {
      "text/html": [
       "<div>\n",
       "<style scoped>\n",
       "    .dataframe tbody tr th:only-of-type {\n",
       "        vertical-align: middle;\n",
       "    }\n",
       "\n",
       "    .dataframe tbody tr th {\n",
       "        vertical-align: top;\n",
       "    }\n",
       "\n",
       "    .dataframe thead th {\n",
       "        text-align: right;\n",
       "    }\n",
       "</style>\n",
       "<table border=\"1\" class=\"dataframe\">\n",
       "  <thead>\n",
       "    <tr style=\"text-align: right;\">\n",
       "      <th></th>\n",
       "      <th>date</th>\n",
       "    </tr>\n",
       "  </thead>\n",
       "  <tbody>\n",
       "    <tr>\n",
       "      <td>count</td>\n",
       "      <td>5856</td>\n",
       "    </tr>\n",
       "    <tr>\n",
       "      <td>unique</td>\n",
       "      <td>5856</td>\n",
       "    </tr>\n",
       "    <tr>\n",
       "      <td>top</td>\n",
       "      <td>2016-10-15 14:59:59</td>\n",
       "    </tr>\n",
       "    <tr>\n",
       "      <td>freq</td>\n",
       "      <td>1</td>\n",
       "    </tr>\n",
       "  </tbody>\n",
       "</table>\n",
       "</div>"
      ],
      "text/plain": [
       "                       date\n",
       "count                  5856\n",
       "unique                 5856\n",
       "top     2016-10-15 14:59:59\n",
       "freq                      1"
      ]
     },
     "metadata": {},
     "output_type": "display_data"
    },
    {
     "name": "stdout",
     "output_type": "stream",
     "text": [
      "\n",
      "Columns with nulls:\n",
      "Column primary_cleaner.input.sulfate has 5.1571% percent of Nulls, and 302 of nulls\n",
      "Column primary_cleaner.input.depressant has 4.8497% percent of Nulls, and 284 of nulls\n",
      "Column primary_cleaner.input.xanthate has 2.8347% percent of Nulls, and 166 of nulls\n",
      "Column primary_cleaner.state.floatbank8_a_air has 0.2732% percent of Nulls, and 16 of nulls\n",
      "Column primary_cleaner.state.floatbank8_a_level has 0.2732% percent of Nulls, and 16 of nulls\n",
      "Column primary_cleaner.state.floatbank8_b_air has 0.2732% percent of Nulls, and 16 of nulls\n",
      "Column primary_cleaner.state.floatbank8_b_level has 0.2732% percent of Nulls, and 16 of nulls\n",
      "Column primary_cleaner.state.floatbank8_c_air has 0.2732% percent of Nulls, and 16 of nulls\n",
      "Column primary_cleaner.state.floatbank8_c_level has 0.2732% percent of Nulls, and 16 of nulls\n",
      "Column primary_cleaner.state.floatbank8_d_air has 0.2732% percent of Nulls, and 16 of nulls\n",
      "Column primary_cleaner.state.floatbank8_d_level has 0.2732% percent of Nulls, and 16 of nulls\n",
      "Column rougher.input.feed_ag has 0.2732% percent of Nulls, and 16 of nulls\n",
      "Column rougher.input.feed_pb has 0.2732% percent of Nulls, and 16 of nulls\n",
      "Column rougher.input.feed_rate has 0.6831% percent of Nulls, and 40 of nulls\n",
      "Column rougher.input.feed_size has 0.3757% percent of Nulls, and 22 of nulls\n",
      "Column rougher.input.feed_sol has 1.1441% percent of Nulls, and 67 of nulls\n",
      "Column rougher.input.feed_au has 0.2732% percent of Nulls, and 16 of nulls\n",
      "Column rougher.input.floatbank10_sulfate has 4.3887% percent of Nulls, and 257 of nulls\n",
      "Column rougher.input.floatbank10_xanthate has 2.1004% percent of Nulls, and 123 of nulls\n",
      "Column rougher.input.floatbank11_sulfate has 0.9392% percent of Nulls, and 55 of nulls\n",
      "Column rougher.input.floatbank11_xanthate has 6.0280% percent of Nulls, and 353 of nulls\n",
      "Column rougher.state.floatbank10_a_air has 0.2903% percent of Nulls, and 17 of nulls\n",
      "Column rougher.state.floatbank10_a_level has 0.2732% percent of Nulls, and 16 of nulls\n",
      "Column rougher.state.floatbank10_b_air has 0.2903% percent of Nulls, and 17 of nulls\n",
      "Column rougher.state.floatbank10_b_level has 0.2732% percent of Nulls, and 16 of nulls\n",
      "Column rougher.state.floatbank10_c_air has 0.2903% percent of Nulls, and 17 of nulls\n",
      "Column rougher.state.floatbank10_c_level has 0.2732% percent of Nulls, and 16 of nulls\n",
      "Column rougher.state.floatbank10_d_air has 0.2903% percent of Nulls, and 17 of nulls\n",
      "Column rougher.state.floatbank10_d_level has 0.2732% percent of Nulls, and 16 of nulls\n",
      "Column rougher.state.floatbank10_e_air has 0.2903% percent of Nulls, and 17 of nulls\n",
      "Column rougher.state.floatbank10_e_level has 0.2732% percent of Nulls, and 16 of nulls\n",
      "Column rougher.state.floatbank10_f_air has 0.2903% percent of Nulls, and 17 of nulls\n",
      "Column rougher.state.floatbank10_f_level has 0.2732% percent of Nulls, and 16 of nulls\n",
      "Column secondary_cleaner.state.floatbank2_a_air has 0.3415% percent of Nulls, and 20 of nulls\n",
      "Column secondary_cleaner.state.floatbank2_a_level has 0.2732% percent of Nulls, and 16 of nulls\n",
      "Column secondary_cleaner.state.floatbank2_b_air has 0.3928% percent of Nulls, and 23 of nulls\n",
      "Column secondary_cleaner.state.floatbank2_b_level has 0.2732% percent of Nulls, and 16 of nulls\n",
      "Column secondary_cleaner.state.floatbank3_a_air has 0.5806% percent of Nulls, and 34 of nulls\n",
      "Column secondary_cleaner.state.floatbank3_a_level has 0.2732% percent of Nulls, and 16 of nulls\n",
      "Column secondary_cleaner.state.floatbank3_b_air has 0.2732% percent of Nulls, and 16 of nulls\n",
      "Column secondary_cleaner.state.floatbank3_b_level has 0.2732% percent of Nulls, and 16 of nulls\n",
      "Column secondary_cleaner.state.floatbank4_a_air has 0.2732% percent of Nulls, and 16 of nulls\n",
      "Column secondary_cleaner.state.floatbank4_a_level has 0.2732% percent of Nulls, and 16 of nulls\n",
      "Column secondary_cleaner.state.floatbank4_b_air has 0.2732% percent of Nulls, and 16 of nulls\n",
      "Column secondary_cleaner.state.floatbank4_b_level has 0.2732% percent of Nulls, and 16 of nulls\n",
      "Column secondary_cleaner.state.floatbank5_a_air has 0.2732% percent of Nulls, and 16 of nulls\n",
      "Column secondary_cleaner.state.floatbank5_a_level has 0.2732% percent of Nulls, and 16 of nulls\n",
      "Column secondary_cleaner.state.floatbank5_b_air has 0.2732% percent of Nulls, and 16 of nulls\n",
      "Column secondary_cleaner.state.floatbank5_b_level has 0.2732% percent of Nulls, and 16 of nulls\n",
      "Column secondary_cleaner.state.floatbank6_a_air has 0.2732% percent of Nulls, and 16 of nulls\n",
      "Column secondary_cleaner.state.floatbank6_a_level has 0.2732% percent of Nulls, and 16 of nulls\n",
      "\u001b[1mThere are 51 columns with NA.\u001b[0m\n"
     ]
    },
    {
     "data": {
      "text/plain": [
       "None"
      ]
     },
     "metadata": {},
     "output_type": "display_data"
    },
    {
     "name": "stdout",
     "output_type": "stream",
     "text": [
      "----------------------------------------------------------------------------------------------------\n",
      "Shape:\n",
      "(5856, 53)\n",
      "----------------------------------------------------------------------------------------------------\n",
      "Duplicated:\n",
      "\u001b[1mWe have 0 duplicated rows.\n",
      "\u001b[0m\n",
      "\n"
     ]
    }
   ],
   "source": [
    "get_info(df_test)"
   ]
  },
  {
   "cell_type": "markdown",
   "metadata": {},
   "source": [
    "<div class=\"alert alert-success\" role=\"alert\">\n",
    "Reviewer's comment v. 1:\n",
    "    \n",
    "Yes, we don't have duplicates.\n",
    "</div>"
   ]
  },
  {
   "cell_type": "markdown",
   "metadata": {},
   "source": [
    "**`df_full` general infos**"
   ]
  },
  {
   "cell_type": "code",
   "execution_count": 6,
   "metadata": {
    "scrolled": false
   },
   "outputs": [
    {
     "name": "stdout",
     "output_type": "stream",
     "text": [
      "\u001b[1m----------------------------------------------------------------------------------------------------\u001b[0m\n",
      "Head:\n",
      "\n"
     ]
    },
    {
     "data": {
      "text/html": [
       "<div>\n",
       "<style scoped>\n",
       "    .dataframe tbody tr th:only-of-type {\n",
       "        vertical-align: middle;\n",
       "    }\n",
       "\n",
       "    .dataframe tbody tr th {\n",
       "        vertical-align: top;\n",
       "    }\n",
       "\n",
       "    .dataframe thead th {\n",
       "        text-align: right;\n",
       "    }\n",
       "</style>\n",
       "<table border=\"1\" class=\"dataframe\">\n",
       "  <thead>\n",
       "    <tr style=\"text-align: right;\">\n",
       "      <th></th>\n",
       "      <th>date</th>\n",
       "      <th>final.output.concentrate_ag</th>\n",
       "      <th>final.output.concentrate_pb</th>\n",
       "      <th>final.output.concentrate_sol</th>\n",
       "      <th>final.output.concentrate_au</th>\n",
       "      <th>final.output.recovery</th>\n",
       "      <th>final.output.tail_ag</th>\n",
       "      <th>final.output.tail_pb</th>\n",
       "      <th>final.output.tail_sol</th>\n",
       "      <th>final.output.tail_au</th>\n",
       "      <th>...</th>\n",
       "      <th>secondary_cleaner.state.floatbank4_a_air</th>\n",
       "      <th>secondary_cleaner.state.floatbank4_a_level</th>\n",
       "      <th>secondary_cleaner.state.floatbank4_b_air</th>\n",
       "      <th>secondary_cleaner.state.floatbank4_b_level</th>\n",
       "      <th>secondary_cleaner.state.floatbank5_a_air</th>\n",
       "      <th>secondary_cleaner.state.floatbank5_a_level</th>\n",
       "      <th>secondary_cleaner.state.floatbank5_b_air</th>\n",
       "      <th>secondary_cleaner.state.floatbank5_b_level</th>\n",
       "      <th>secondary_cleaner.state.floatbank6_a_air</th>\n",
       "      <th>secondary_cleaner.state.floatbank6_a_level</th>\n",
       "    </tr>\n",
       "  </thead>\n",
       "  <tbody>\n",
       "    <tr>\n",
       "      <td>0</td>\n",
       "      <td>2016-01-15 00:00:00</td>\n",
       "      <td>6.055403</td>\n",
       "      <td>9.889648</td>\n",
       "      <td>5.507324</td>\n",
       "      <td>42.192020</td>\n",
       "      <td>70.541216</td>\n",
       "      <td>10.411962</td>\n",
       "      <td>0.895447</td>\n",
       "      <td>16.904297</td>\n",
       "      <td>2.143149</td>\n",
       "      <td>...</td>\n",
       "      <td>14.016835</td>\n",
       "      <td>-502.488007</td>\n",
       "      <td>12.099931</td>\n",
       "      <td>-504.715942</td>\n",
       "      <td>9.925633</td>\n",
       "      <td>-498.310211</td>\n",
       "      <td>8.079666</td>\n",
       "      <td>-500.470978</td>\n",
       "      <td>14.151341</td>\n",
       "      <td>-605.841980</td>\n",
       "    </tr>\n",
       "    <tr>\n",
       "      <td>1</td>\n",
       "      <td>2016-01-15 01:00:00</td>\n",
       "      <td>6.029369</td>\n",
       "      <td>9.968944</td>\n",
       "      <td>5.257781</td>\n",
       "      <td>42.701629</td>\n",
       "      <td>69.266198</td>\n",
       "      <td>10.462676</td>\n",
       "      <td>0.927452</td>\n",
       "      <td>16.634514</td>\n",
       "      <td>2.224930</td>\n",
       "      <td>...</td>\n",
       "      <td>13.992281</td>\n",
       "      <td>-505.503262</td>\n",
       "      <td>11.950531</td>\n",
       "      <td>-501.331529</td>\n",
       "      <td>10.039245</td>\n",
       "      <td>-500.169983</td>\n",
       "      <td>7.984757</td>\n",
       "      <td>-500.582168</td>\n",
       "      <td>13.998353</td>\n",
       "      <td>-599.787184</td>\n",
       "    </tr>\n",
       "    <tr>\n",
       "      <td>2</td>\n",
       "      <td>2016-01-15 02:00:00</td>\n",
       "      <td>6.055926</td>\n",
       "      <td>10.213995</td>\n",
       "      <td>5.383759</td>\n",
       "      <td>42.657501</td>\n",
       "      <td>68.116445</td>\n",
       "      <td>10.507046</td>\n",
       "      <td>0.953716</td>\n",
       "      <td>16.208849</td>\n",
       "      <td>2.257889</td>\n",
       "      <td>...</td>\n",
       "      <td>14.015015</td>\n",
       "      <td>-502.520901</td>\n",
       "      <td>11.912783</td>\n",
       "      <td>-501.133383</td>\n",
       "      <td>10.070913</td>\n",
       "      <td>-500.129135</td>\n",
       "      <td>8.013877</td>\n",
       "      <td>-500.517572</td>\n",
       "      <td>14.028663</td>\n",
       "      <td>-601.427363</td>\n",
       "    </tr>\n",
       "    <tr>\n",
       "      <td>3</td>\n",
       "      <td>2016-01-15 03:00:00</td>\n",
       "      <td>6.047977</td>\n",
       "      <td>9.977019</td>\n",
       "      <td>4.858634</td>\n",
       "      <td>42.689819</td>\n",
       "      <td>68.347543</td>\n",
       "      <td>10.422762</td>\n",
       "      <td>0.883763</td>\n",
       "      <td>16.532835</td>\n",
       "      <td>2.146849</td>\n",
       "      <td>...</td>\n",
       "      <td>14.036510</td>\n",
       "      <td>-500.857308</td>\n",
       "      <td>11.999550</td>\n",
       "      <td>-501.193686</td>\n",
       "      <td>9.970366</td>\n",
       "      <td>-499.201640</td>\n",
       "      <td>7.977324</td>\n",
       "      <td>-500.255908</td>\n",
       "      <td>14.005551</td>\n",
       "      <td>-599.996129</td>\n",
       "    </tr>\n",
       "    <tr>\n",
       "      <td>4</td>\n",
       "      <td>2016-01-15 04:00:00</td>\n",
       "      <td>6.148599</td>\n",
       "      <td>10.142511</td>\n",
       "      <td>4.939416</td>\n",
       "      <td>42.774141</td>\n",
       "      <td>66.927016</td>\n",
       "      <td>10.360302</td>\n",
       "      <td>0.792826</td>\n",
       "      <td>16.525686</td>\n",
       "      <td>2.055292</td>\n",
       "      <td>...</td>\n",
       "      <td>14.027298</td>\n",
       "      <td>-499.838632</td>\n",
       "      <td>11.953070</td>\n",
       "      <td>-501.053894</td>\n",
       "      <td>9.925709</td>\n",
       "      <td>-501.686727</td>\n",
       "      <td>7.894242</td>\n",
       "      <td>-500.356035</td>\n",
       "      <td>13.996647</td>\n",
       "      <td>-601.496691</td>\n",
       "    </tr>\n",
       "  </tbody>\n",
       "</table>\n",
       "<p>5 rows × 87 columns</p>\n",
       "</div>"
      ],
      "text/plain": [
       "                  date  final.output.concentrate_ag  \\\n",
       "0  2016-01-15 00:00:00                     6.055403   \n",
       "1  2016-01-15 01:00:00                     6.029369   \n",
       "2  2016-01-15 02:00:00                     6.055926   \n",
       "3  2016-01-15 03:00:00                     6.047977   \n",
       "4  2016-01-15 04:00:00                     6.148599   \n",
       "\n",
       "   final.output.concentrate_pb  final.output.concentrate_sol  \\\n",
       "0                     9.889648                      5.507324   \n",
       "1                     9.968944                      5.257781   \n",
       "2                    10.213995                      5.383759   \n",
       "3                     9.977019                      4.858634   \n",
       "4                    10.142511                      4.939416   \n",
       "\n",
       "   final.output.concentrate_au  final.output.recovery  final.output.tail_ag  \\\n",
       "0                    42.192020              70.541216             10.411962   \n",
       "1                    42.701629              69.266198             10.462676   \n",
       "2                    42.657501              68.116445             10.507046   \n",
       "3                    42.689819              68.347543             10.422762   \n",
       "4                    42.774141              66.927016             10.360302   \n",
       "\n",
       "   final.output.tail_pb  final.output.tail_sol  final.output.tail_au  ...  \\\n",
       "0              0.895447              16.904297              2.143149  ...   \n",
       "1              0.927452              16.634514              2.224930  ...   \n",
       "2              0.953716              16.208849              2.257889  ...   \n",
       "3              0.883763              16.532835              2.146849  ...   \n",
       "4              0.792826              16.525686              2.055292  ...   \n",
       "\n",
       "   secondary_cleaner.state.floatbank4_a_air  \\\n",
       "0                                 14.016835   \n",
       "1                                 13.992281   \n",
       "2                                 14.015015   \n",
       "3                                 14.036510   \n",
       "4                                 14.027298   \n",
       "\n",
       "   secondary_cleaner.state.floatbank4_a_level  \\\n",
       "0                                 -502.488007   \n",
       "1                                 -505.503262   \n",
       "2                                 -502.520901   \n",
       "3                                 -500.857308   \n",
       "4                                 -499.838632   \n",
       "\n",
       "   secondary_cleaner.state.floatbank4_b_air  \\\n",
       "0                                 12.099931   \n",
       "1                                 11.950531   \n",
       "2                                 11.912783   \n",
       "3                                 11.999550   \n",
       "4                                 11.953070   \n",
       "\n",
       "   secondary_cleaner.state.floatbank4_b_level  \\\n",
       "0                                 -504.715942   \n",
       "1                                 -501.331529   \n",
       "2                                 -501.133383   \n",
       "3                                 -501.193686   \n",
       "4                                 -501.053894   \n",
       "\n",
       "   secondary_cleaner.state.floatbank5_a_air  \\\n",
       "0                                  9.925633   \n",
       "1                                 10.039245   \n",
       "2                                 10.070913   \n",
       "3                                  9.970366   \n",
       "4                                  9.925709   \n",
       "\n",
       "   secondary_cleaner.state.floatbank5_a_level  \\\n",
       "0                                 -498.310211   \n",
       "1                                 -500.169983   \n",
       "2                                 -500.129135   \n",
       "3                                 -499.201640   \n",
       "4                                 -501.686727   \n",
       "\n",
       "   secondary_cleaner.state.floatbank5_b_air  \\\n",
       "0                                  8.079666   \n",
       "1                                  7.984757   \n",
       "2                                  8.013877   \n",
       "3                                  7.977324   \n",
       "4                                  7.894242   \n",
       "\n",
       "   secondary_cleaner.state.floatbank5_b_level  \\\n",
       "0                                 -500.470978   \n",
       "1                                 -500.582168   \n",
       "2                                 -500.517572   \n",
       "3                                 -500.255908   \n",
       "4                                 -500.356035   \n",
       "\n",
       "   secondary_cleaner.state.floatbank6_a_air  \\\n",
       "0                                 14.151341   \n",
       "1                                 13.998353   \n",
       "2                                 14.028663   \n",
       "3                                 14.005551   \n",
       "4                                 13.996647   \n",
       "\n",
       "   secondary_cleaner.state.floatbank6_a_level  \n",
       "0                                 -605.841980  \n",
       "1                                 -599.787184  \n",
       "2                                 -601.427363  \n",
       "3                                 -599.996129  \n",
       "4                                 -601.496691  \n",
       "\n",
       "[5 rows x 87 columns]"
      ]
     },
     "metadata": {},
     "output_type": "display_data"
    },
    {
     "name": "stdout",
     "output_type": "stream",
     "text": [
      "----------------------------------------------------------------------------------------------------\n",
      "Info:\n",
      "\n",
      "<class 'pandas.core.frame.DataFrame'>\n",
      "RangeIndex: 22716 entries, 0 to 22715\n",
      "Data columns (total 87 columns):\n",
      "date                                                  22716 non-null object\n",
      "final.output.concentrate_ag                           22627 non-null float64\n",
      "final.output.concentrate_pb                           22629 non-null float64\n",
      "final.output.concentrate_sol                          22331 non-null float64\n",
      "final.output.concentrate_au                           22630 non-null float64\n",
      "final.output.recovery                                 20753 non-null float64\n",
      "final.output.tail_ag                                  22633 non-null float64\n",
      "final.output.tail_pb                                  22516 non-null float64\n",
      "final.output.tail_sol                                 22445 non-null float64\n",
      "final.output.tail_au                                  22635 non-null float64\n",
      "primary_cleaner.input.sulfate                         21107 non-null float64\n",
      "primary_cleaner.input.depressant                      21170 non-null float64\n",
      "primary_cleaner.input.feed_size                       22716 non-null float64\n",
      "primary_cleaner.input.xanthate                        21565 non-null float64\n",
      "primary_cleaner.output.concentrate_ag                 22618 non-null float64\n",
      "primary_cleaner.output.concentrate_pb                 22268 non-null float64\n",
      "primary_cleaner.output.concentrate_sol                21918 non-null float64\n",
      "primary_cleaner.output.concentrate_au                 22618 non-null float64\n",
      "primary_cleaner.output.tail_ag                        22614 non-null float64\n",
      "primary_cleaner.output.tail_pb                        22594 non-null float64\n",
      "primary_cleaner.output.tail_sol                       22365 non-null float64\n",
      "primary_cleaner.output.tail_au                        22617 non-null float64\n",
      "primary_cleaner.state.floatbank8_a_air                22660 non-null float64\n",
      "primary_cleaner.state.floatbank8_a_level              22667 non-null float64\n",
      "primary_cleaner.state.floatbank8_b_air                22660 non-null float64\n",
      "primary_cleaner.state.floatbank8_b_level              22673 non-null float64\n",
      "primary_cleaner.state.floatbank8_c_air                22662 non-null float64\n",
      "primary_cleaner.state.floatbank8_c_level              22673 non-null float64\n",
      "primary_cleaner.state.floatbank8_d_air                22661 non-null float64\n",
      "primary_cleaner.state.floatbank8_d_level              22673 non-null float64\n",
      "rougher.calculation.sulfate_to_au_concentrate         22672 non-null float64\n",
      "rougher.calculation.floatbank10_sulfate_to_au_feed    22672 non-null float64\n",
      "rougher.calculation.floatbank11_sulfate_to_au_feed    22672 non-null float64\n",
      "rougher.calculation.au_pb_ratio                       21089 non-null float64\n",
      "rougher.input.feed_ag                                 22618 non-null float64\n",
      "rougher.input.feed_pb                                 22472 non-null float64\n",
      "rougher.input.feed_rate                               22163 non-null float64\n",
      "rougher.input.feed_size                               22277 non-null float64\n",
      "rougher.input.feed_sol                                22357 non-null float64\n",
      "rougher.input.feed_au                                 22617 non-null float64\n",
      "rougher.input.floatbank10_sulfate                     21415 non-null float64\n",
      "rougher.input.floatbank10_xanthate                    22247 non-null float64\n",
      "rougher.input.floatbank11_sulfate                     22038 non-null float64\n",
      "rougher.input.floatbank11_xanthate                    20459 non-null float64\n",
      "rougher.output.concentrate_ag                         22618 non-null float64\n",
      "rougher.output.concentrate_pb                         22618 non-null float64\n",
      "rougher.output.concentrate_sol                        22526 non-null float64\n",
      "rougher.output.concentrate_au                         22618 non-null float64\n",
      "rougher.output.recovery                               19597 non-null float64\n",
      "rougher.output.tail_ag                                19979 non-null float64\n",
      "rougher.output.tail_pb                                22618 non-null float64\n",
      "rougher.output.tail_sol                               19980 non-null float64\n",
      "rougher.output.tail_au                                19980 non-null float64\n",
      "rougher.state.floatbank10_a_air                       22646 non-null float64\n",
      "rougher.state.floatbank10_a_level                     22647 non-null float64\n",
      "rougher.state.floatbank10_b_air                       22646 non-null float64\n",
      "rougher.state.floatbank10_b_level                     22647 non-null float64\n",
      "rougher.state.floatbank10_c_air                       22646 non-null float64\n",
      "rougher.state.floatbank10_c_level                     22654 non-null float64\n",
      "rougher.state.floatbank10_d_air                       22641 non-null float64\n",
      "rougher.state.floatbank10_d_level                     22649 non-null float64\n",
      "rougher.state.floatbank10_e_air                       22096 non-null float64\n",
      "rougher.state.floatbank10_e_level                     22649 non-null float64\n",
      "rougher.state.floatbank10_f_air                       22641 non-null float64\n",
      "rougher.state.floatbank10_f_level                     22642 non-null float64\n",
      "secondary_cleaner.output.tail_ag                      22616 non-null float64\n",
      "secondary_cleaner.output.tail_pb                      22600 non-null float64\n",
      "secondary_cleaner.output.tail_sol                     20501 non-null float64\n",
      "secondary_cleaner.output.tail_au                      22618 non-null float64\n",
      "secondary_cleaner.state.floatbank2_a_air              22333 non-null float64\n",
      "secondary_cleaner.state.floatbank2_a_level            22591 non-null float64\n",
      "secondary_cleaner.state.floatbank2_b_air              22538 non-null float64\n",
      "secondary_cleaner.state.floatbank2_b_level            22588 non-null float64\n",
      "secondary_cleaner.state.floatbank3_a_air              22585 non-null float64\n",
      "secondary_cleaner.state.floatbank3_a_level            22587 non-null float64\n",
      "secondary_cleaner.state.floatbank3_b_air              22592 non-null float64\n",
      "secondary_cleaner.state.floatbank3_b_level            22590 non-null float64\n",
      "secondary_cleaner.state.floatbank4_a_air              22571 non-null float64\n",
      "secondary_cleaner.state.floatbank4_a_level            22587 non-null float64\n",
      "secondary_cleaner.state.floatbank4_b_air              22608 non-null float64\n",
      "secondary_cleaner.state.floatbank4_b_level            22607 non-null float64\n",
      "secondary_cleaner.state.floatbank5_a_air              22615 non-null float64\n",
      "secondary_cleaner.state.floatbank5_a_level            22615 non-null float64\n",
      "secondary_cleaner.state.floatbank5_b_air              22615 non-null float64\n",
      "secondary_cleaner.state.floatbank5_b_level            22616 non-null float64\n",
      "secondary_cleaner.state.floatbank6_a_air              22597 non-null float64\n",
      "secondary_cleaner.state.floatbank6_a_level            22615 non-null float64\n",
      "dtypes: float64(86), object(1)\n",
      "memory usage: 15.1+ MB\n"
     ]
    },
    {
     "data": {
      "text/plain": [
       "None"
      ]
     },
     "metadata": {},
     "output_type": "display_data"
    },
    {
     "name": "stdout",
     "output_type": "stream",
     "text": [
      "----------------------------------------------------------------------------------------------------\n",
      "Describe:\n",
      "\n"
     ]
    },
    {
     "data": {
      "text/html": [
       "<div>\n",
       "<style scoped>\n",
       "    .dataframe tbody tr th:only-of-type {\n",
       "        vertical-align: middle;\n",
       "    }\n",
       "\n",
       "    .dataframe tbody tr th {\n",
       "        vertical-align: top;\n",
       "    }\n",
       "\n",
       "    .dataframe thead th {\n",
       "        text-align: right;\n",
       "    }\n",
       "</style>\n",
       "<table border=\"1\" class=\"dataframe\">\n",
       "  <thead>\n",
       "    <tr style=\"text-align: right;\">\n",
       "      <th></th>\n",
       "      <th>final.output.concentrate_ag</th>\n",
       "      <th>final.output.concentrate_pb</th>\n",
       "      <th>final.output.concentrate_sol</th>\n",
       "      <th>final.output.concentrate_au</th>\n",
       "      <th>final.output.recovery</th>\n",
       "      <th>final.output.tail_ag</th>\n",
       "      <th>final.output.tail_pb</th>\n",
       "      <th>final.output.tail_sol</th>\n",
       "      <th>final.output.tail_au</th>\n",
       "      <th>primary_cleaner.input.sulfate</th>\n",
       "      <th>...</th>\n",
       "      <th>secondary_cleaner.state.floatbank4_a_air</th>\n",
       "      <th>secondary_cleaner.state.floatbank4_a_level</th>\n",
       "      <th>secondary_cleaner.state.floatbank4_b_air</th>\n",
       "      <th>secondary_cleaner.state.floatbank4_b_level</th>\n",
       "      <th>secondary_cleaner.state.floatbank5_a_air</th>\n",
       "      <th>secondary_cleaner.state.floatbank5_a_level</th>\n",
       "      <th>secondary_cleaner.state.floatbank5_b_air</th>\n",
       "      <th>secondary_cleaner.state.floatbank5_b_level</th>\n",
       "      <th>secondary_cleaner.state.floatbank6_a_air</th>\n",
       "      <th>secondary_cleaner.state.floatbank6_a_level</th>\n",
       "    </tr>\n",
       "  </thead>\n",
       "  <tbody>\n",
       "    <tr>\n",
       "      <td>count</td>\n",
       "      <td>22627.000000</td>\n",
       "      <td>22629.000000</td>\n",
       "      <td>22331.000000</td>\n",
       "      <td>22630.000000</td>\n",
       "      <td>20753.000000</td>\n",
       "      <td>22633.000000</td>\n",
       "      <td>22516.000000</td>\n",
       "      <td>22445.000000</td>\n",
       "      <td>22635.000000</td>\n",
       "      <td>21107.000000</td>\n",
       "      <td>...</td>\n",
       "      <td>22571.000000</td>\n",
       "      <td>22587.000000</td>\n",
       "      <td>22608.000000</td>\n",
       "      <td>22607.000000</td>\n",
       "      <td>22615.000000</td>\n",
       "      <td>22615.000000</td>\n",
       "      <td>22615.000000</td>\n",
       "      <td>22616.000000</td>\n",
       "      <td>22597.000000</td>\n",
       "      <td>22615.000000</td>\n",
       "    </tr>\n",
       "    <tr>\n",
       "      <td>mean</td>\n",
       "      <td>4.781559</td>\n",
       "      <td>9.095308</td>\n",
       "      <td>8.640317</td>\n",
       "      <td>40.001172</td>\n",
       "      <td>67.447488</td>\n",
       "      <td>8.923690</td>\n",
       "      <td>2.488252</td>\n",
       "      <td>9.523632</td>\n",
       "      <td>2.827459</td>\n",
       "      <td>140.277672</td>\n",
       "      <td>...</td>\n",
       "      <td>18.205125</td>\n",
       "      <td>-499.878977</td>\n",
       "      <td>14.356474</td>\n",
       "      <td>-476.532613</td>\n",
       "      <td>14.883276</td>\n",
       "      <td>-503.323288</td>\n",
       "      <td>11.626743</td>\n",
       "      <td>-500.521502</td>\n",
       "      <td>17.976810</td>\n",
       "      <td>-519.361465</td>\n",
       "    </tr>\n",
       "    <tr>\n",
       "      <td>std</td>\n",
       "      <td>2.030128</td>\n",
       "      <td>3.230797</td>\n",
       "      <td>3.785035</td>\n",
       "      <td>13.398062</td>\n",
       "      <td>11.616034</td>\n",
       "      <td>3.517917</td>\n",
       "      <td>1.189407</td>\n",
       "      <td>4.079739</td>\n",
       "      <td>1.262834</td>\n",
       "      <td>49.919004</td>\n",
       "      <td>...</td>\n",
       "      <td>6.560700</td>\n",
       "      <td>80.273964</td>\n",
       "      <td>5.655791</td>\n",
       "      <td>93.822791</td>\n",
       "      <td>6.372811</td>\n",
       "      <td>72.925589</td>\n",
       "      <td>5.757449</td>\n",
       "      <td>78.956292</td>\n",
       "      <td>6.636203</td>\n",
       "      <td>75.477151</td>\n",
       "    </tr>\n",
       "    <tr>\n",
       "      <td>min</td>\n",
       "      <td>0.000000</td>\n",
       "      <td>0.000000</td>\n",
       "      <td>0.000000</td>\n",
       "      <td>0.000000</td>\n",
       "      <td>0.000000</td>\n",
       "      <td>0.000000</td>\n",
       "      <td>0.000000</td>\n",
       "      <td>0.000000</td>\n",
       "      <td>0.000000</td>\n",
       "      <td>0.000003</td>\n",
       "      <td>...</td>\n",
       "      <td>0.000000</td>\n",
       "      <td>-799.920713</td>\n",
       "      <td>0.000000</td>\n",
       "      <td>-800.836914</td>\n",
       "      <td>-0.423260</td>\n",
       "      <td>-799.741097</td>\n",
       "      <td>0.427084</td>\n",
       "      <td>-800.258209</td>\n",
       "      <td>-0.079426</td>\n",
       "      <td>-810.473526</td>\n",
       "    </tr>\n",
       "    <tr>\n",
       "      <td>25%</td>\n",
       "      <td>4.018525</td>\n",
       "      <td>8.750171</td>\n",
       "      <td>7.116799</td>\n",
       "      <td>42.383721</td>\n",
       "      <td>63.282393</td>\n",
       "      <td>7.684016</td>\n",
       "      <td>1.805376</td>\n",
       "      <td>8.143576</td>\n",
       "      <td>2.303108</td>\n",
       "      <td>110.177081</td>\n",
       "      <td>...</td>\n",
       "      <td>14.095940</td>\n",
       "      <td>-500.896232</td>\n",
       "      <td>10.882675</td>\n",
       "      <td>-500.309169</td>\n",
       "      <td>10.941299</td>\n",
       "      <td>-500.628697</td>\n",
       "      <td>8.037533</td>\n",
       "      <td>-500.167897</td>\n",
       "      <td>13.968418</td>\n",
       "      <td>-500.981671</td>\n",
       "    </tr>\n",
       "    <tr>\n",
       "      <td>50%</td>\n",
       "      <td>4.953729</td>\n",
       "      <td>9.914519</td>\n",
       "      <td>8.908792</td>\n",
       "      <td>44.653436</td>\n",
       "      <td>68.322258</td>\n",
       "      <td>9.484369</td>\n",
       "      <td>2.653001</td>\n",
       "      <td>10.212998</td>\n",
       "      <td>2.913794</td>\n",
       "      <td>141.330501</td>\n",
       "      <td>...</td>\n",
       "      <td>18.007326</td>\n",
       "      <td>-499.917108</td>\n",
       "      <td>14.947646</td>\n",
       "      <td>-499.612292</td>\n",
       "      <td>14.859117</td>\n",
       "      <td>-499.865158</td>\n",
       "      <td>10.989756</td>\n",
       "      <td>-499.951980</td>\n",
       "      <td>18.004215</td>\n",
       "      <td>-500.095463</td>\n",
       "    </tr>\n",
       "    <tr>\n",
       "      <td>75%</td>\n",
       "      <td>5.862593</td>\n",
       "      <td>10.929839</td>\n",
       "      <td>10.705824</td>\n",
       "      <td>46.111999</td>\n",
       "      <td>72.950836</td>\n",
       "      <td>11.084557</td>\n",
       "      <td>3.287790</td>\n",
       "      <td>11.860824</td>\n",
       "      <td>3.555077</td>\n",
       "      <td>174.049914</td>\n",
       "      <td>...</td>\n",
       "      <td>22.998194</td>\n",
       "      <td>-498.361545</td>\n",
       "      <td>17.977502</td>\n",
       "      <td>-400.224147</td>\n",
       "      <td>18.014914</td>\n",
       "      <td>-498.489381</td>\n",
       "      <td>14.001193</td>\n",
       "      <td>-499.492354</td>\n",
       "      <td>23.009704</td>\n",
       "      <td>-499.526388</td>\n",
       "    </tr>\n",
       "    <tr>\n",
       "      <td>max</td>\n",
       "      <td>16.001945</td>\n",
       "      <td>17.031899</td>\n",
       "      <td>19.615720</td>\n",
       "      <td>53.611374</td>\n",
       "      <td>100.000000</td>\n",
       "      <td>19.552149</td>\n",
       "      <td>6.086532</td>\n",
       "      <td>22.861749</td>\n",
       "      <td>9.789625</td>\n",
       "      <td>274.409626</td>\n",
       "      <td>...</td>\n",
       "      <td>60.000000</td>\n",
       "      <td>-127.692333</td>\n",
       "      <td>31.269706</td>\n",
       "      <td>-6.506986</td>\n",
       "      <td>63.116298</td>\n",
       "      <td>-244.483566</td>\n",
       "      <td>39.846228</td>\n",
       "      <td>-120.190931</td>\n",
       "      <td>54.876806</td>\n",
       "      <td>-29.093593</td>\n",
       "    </tr>\n",
       "  </tbody>\n",
       "</table>\n",
       "<p>8 rows × 86 columns</p>\n",
       "</div>"
      ],
      "text/plain": [
       "       final.output.concentrate_ag  final.output.concentrate_pb  \\\n",
       "count                 22627.000000                 22629.000000   \n",
       "mean                      4.781559                     9.095308   \n",
       "std                       2.030128                     3.230797   \n",
       "min                       0.000000                     0.000000   \n",
       "25%                       4.018525                     8.750171   \n",
       "50%                       4.953729                     9.914519   \n",
       "75%                       5.862593                    10.929839   \n",
       "max                      16.001945                    17.031899   \n",
       "\n",
       "       final.output.concentrate_sol  final.output.concentrate_au  \\\n",
       "count                  22331.000000                 22630.000000   \n",
       "mean                       8.640317                    40.001172   \n",
       "std                        3.785035                    13.398062   \n",
       "min                        0.000000                     0.000000   \n",
       "25%                        7.116799                    42.383721   \n",
       "50%                        8.908792                    44.653436   \n",
       "75%                       10.705824                    46.111999   \n",
       "max                       19.615720                    53.611374   \n",
       "\n",
       "       final.output.recovery  final.output.tail_ag  final.output.tail_pb  \\\n",
       "count           20753.000000          22633.000000          22516.000000   \n",
       "mean               67.447488              8.923690              2.488252   \n",
       "std                11.616034              3.517917              1.189407   \n",
       "min                 0.000000              0.000000              0.000000   \n",
       "25%                63.282393              7.684016              1.805376   \n",
       "50%                68.322258              9.484369              2.653001   \n",
       "75%                72.950836             11.084557              3.287790   \n",
       "max               100.000000             19.552149              6.086532   \n",
       "\n",
       "       final.output.tail_sol  final.output.tail_au  \\\n",
       "count           22445.000000          22635.000000   \n",
       "mean                9.523632              2.827459   \n",
       "std                 4.079739              1.262834   \n",
       "min                 0.000000              0.000000   \n",
       "25%                 8.143576              2.303108   \n",
       "50%                10.212998              2.913794   \n",
       "75%                11.860824              3.555077   \n",
       "max                22.861749              9.789625   \n",
       "\n",
       "       primary_cleaner.input.sulfate  ...  \\\n",
       "count                   21107.000000  ...   \n",
       "mean                      140.277672  ...   \n",
       "std                        49.919004  ...   \n",
       "min                         0.000003  ...   \n",
       "25%                       110.177081  ...   \n",
       "50%                       141.330501  ...   \n",
       "75%                       174.049914  ...   \n",
       "max                       274.409626  ...   \n",
       "\n",
       "       secondary_cleaner.state.floatbank4_a_air  \\\n",
       "count                              22571.000000   \n",
       "mean                                  18.205125   \n",
       "std                                    6.560700   \n",
       "min                                    0.000000   \n",
       "25%                                   14.095940   \n",
       "50%                                   18.007326   \n",
       "75%                                   22.998194   \n",
       "max                                   60.000000   \n",
       "\n",
       "       secondary_cleaner.state.floatbank4_a_level  \\\n",
       "count                                22587.000000   \n",
       "mean                                  -499.878977   \n",
       "std                                     80.273964   \n",
       "min                                   -799.920713   \n",
       "25%                                   -500.896232   \n",
       "50%                                   -499.917108   \n",
       "75%                                   -498.361545   \n",
       "max                                   -127.692333   \n",
       "\n",
       "       secondary_cleaner.state.floatbank4_b_air  \\\n",
       "count                              22608.000000   \n",
       "mean                                  14.356474   \n",
       "std                                    5.655791   \n",
       "min                                    0.000000   \n",
       "25%                                   10.882675   \n",
       "50%                                   14.947646   \n",
       "75%                                   17.977502   \n",
       "max                                   31.269706   \n",
       "\n",
       "       secondary_cleaner.state.floatbank4_b_level  \\\n",
       "count                                22607.000000   \n",
       "mean                                  -476.532613   \n",
       "std                                     93.822791   \n",
       "min                                   -800.836914   \n",
       "25%                                   -500.309169   \n",
       "50%                                   -499.612292   \n",
       "75%                                   -400.224147   \n",
       "max                                     -6.506986   \n",
       "\n",
       "       secondary_cleaner.state.floatbank5_a_air  \\\n",
       "count                              22615.000000   \n",
       "mean                                  14.883276   \n",
       "std                                    6.372811   \n",
       "min                                   -0.423260   \n",
       "25%                                   10.941299   \n",
       "50%                                   14.859117   \n",
       "75%                                   18.014914   \n",
       "max                                   63.116298   \n",
       "\n",
       "       secondary_cleaner.state.floatbank5_a_level  \\\n",
       "count                                22615.000000   \n",
       "mean                                  -503.323288   \n",
       "std                                     72.925589   \n",
       "min                                   -799.741097   \n",
       "25%                                   -500.628697   \n",
       "50%                                   -499.865158   \n",
       "75%                                   -498.489381   \n",
       "max                                   -244.483566   \n",
       "\n",
       "       secondary_cleaner.state.floatbank5_b_air  \\\n",
       "count                              22615.000000   \n",
       "mean                                  11.626743   \n",
       "std                                    5.757449   \n",
       "min                                    0.427084   \n",
       "25%                                    8.037533   \n",
       "50%                                   10.989756   \n",
       "75%                                   14.001193   \n",
       "max                                   39.846228   \n",
       "\n",
       "       secondary_cleaner.state.floatbank5_b_level  \\\n",
       "count                                22616.000000   \n",
       "mean                                  -500.521502   \n",
       "std                                     78.956292   \n",
       "min                                   -800.258209   \n",
       "25%                                   -500.167897   \n",
       "50%                                   -499.951980   \n",
       "75%                                   -499.492354   \n",
       "max                                   -120.190931   \n",
       "\n",
       "       secondary_cleaner.state.floatbank6_a_air  \\\n",
       "count                              22597.000000   \n",
       "mean                                  17.976810   \n",
       "std                                    6.636203   \n",
       "min                                   -0.079426   \n",
       "25%                                   13.968418   \n",
       "50%                                   18.004215   \n",
       "75%                                   23.009704   \n",
       "max                                   54.876806   \n",
       "\n",
       "       secondary_cleaner.state.floatbank6_a_level  \n",
       "count                                22615.000000  \n",
       "mean                                  -519.361465  \n",
       "std                                     75.477151  \n",
       "min                                   -810.473526  \n",
       "25%                                   -500.981671  \n",
       "50%                                   -500.095463  \n",
       "75%                                   -499.526388  \n",
       "max                                    -29.093593  \n",
       "\n",
       "[8 rows x 86 columns]"
      ]
     },
     "metadata": {},
     "output_type": "display_data"
    },
    {
     "name": "stdout",
     "output_type": "stream",
     "text": [
      "----------------------------------------------------------------------------------------------------\n"
     ]
    },
    {
     "data": {
      "text/html": [
       "<div>\n",
       "<style scoped>\n",
       "    .dataframe tbody tr th:only-of-type {\n",
       "        vertical-align: middle;\n",
       "    }\n",
       "\n",
       "    .dataframe tbody tr th {\n",
       "        vertical-align: top;\n",
       "    }\n",
       "\n",
       "    .dataframe thead th {\n",
       "        text-align: right;\n",
       "    }\n",
       "</style>\n",
       "<table border=\"1\" class=\"dataframe\">\n",
       "  <thead>\n",
       "    <tr style=\"text-align: right;\">\n",
       "      <th></th>\n",
       "      <th>date</th>\n",
       "    </tr>\n",
       "  </thead>\n",
       "  <tbody>\n",
       "    <tr>\n",
       "      <td>count</td>\n",
       "      <td>22716</td>\n",
       "    </tr>\n",
       "    <tr>\n",
       "      <td>unique</td>\n",
       "      <td>22716</td>\n",
       "    </tr>\n",
       "    <tr>\n",
       "      <td>top</td>\n",
       "      <td>2016-11-23 15:59:59</td>\n",
       "    </tr>\n",
       "    <tr>\n",
       "      <td>freq</td>\n",
       "      <td>1</td>\n",
       "    </tr>\n",
       "  </tbody>\n",
       "</table>\n",
       "</div>"
      ],
      "text/plain": [
       "                       date\n",
       "count                 22716\n",
       "unique                22716\n",
       "top     2016-11-23 15:59:59\n",
       "freq                      1"
      ]
     },
     "metadata": {},
     "output_type": "display_data"
    },
    {
     "name": "stdout",
     "output_type": "stream",
     "text": [
      "\n",
      "Columns with nulls:\n",
      "Column final.output.concentrate_ag has 0.3918% percent of Nulls, and 89 of nulls\n",
      "Column final.output.concentrate_pb has 0.3830% percent of Nulls, and 87 of nulls\n",
      "Column final.output.concentrate_sol has 1.6948% percent of Nulls, and 385 of nulls\n",
      "Column final.output.concentrate_au has 0.3786% percent of Nulls, and 86 of nulls\n",
      "Column final.output.recovery has 8.6415% percent of Nulls, and 1963 of nulls\n",
      "Column final.output.tail_ag has 0.3654% percent of Nulls, and 83 of nulls\n",
      "Column final.output.tail_pb has 0.8804% percent of Nulls, and 200 of nulls\n",
      "Column final.output.tail_sol has 1.1930% percent of Nulls, and 271 of nulls\n",
      "Column final.output.tail_au has 0.3566% percent of Nulls, and 81 of nulls\n",
      "Column primary_cleaner.input.sulfate has 7.0831% percent of Nulls, and 1609 of nulls\n",
      "Column primary_cleaner.input.depressant has 6.8058% percent of Nulls, and 1546 of nulls\n",
      "Column primary_cleaner.input.xanthate has 5.0669% percent of Nulls, and 1151 of nulls\n",
      "Column primary_cleaner.output.concentrate_ag has 0.4314% percent of Nulls, and 98 of nulls\n",
      "Column primary_cleaner.output.concentrate_pb has 1.9722% percent of Nulls, and 448 of nulls\n",
      "Column primary_cleaner.output.concentrate_sol has 3.5129% percent of Nulls, and 798 of nulls\n",
      "Column primary_cleaner.output.concentrate_au has 0.4314% percent of Nulls, and 98 of nulls\n",
      "Column primary_cleaner.output.tail_ag has 0.4490% percent of Nulls, and 102 of nulls\n",
      "Column primary_cleaner.output.tail_pb has 0.5371% percent of Nulls, and 122 of nulls\n",
      "Column primary_cleaner.output.tail_sol has 1.5452% percent of Nulls, and 351 of nulls\n",
      "Column primary_cleaner.output.tail_au has 0.4358% percent of Nulls, and 99 of nulls\n",
      "Column primary_cleaner.state.floatbank8_a_air has 0.2465% percent of Nulls, and 56 of nulls\n",
      "Column primary_cleaner.state.floatbank8_a_level has 0.2157% percent of Nulls, and 49 of nulls\n",
      "Column primary_cleaner.state.floatbank8_b_air has 0.2465% percent of Nulls, and 56 of nulls\n",
      "Column primary_cleaner.state.floatbank8_b_level has 0.1893% percent of Nulls, and 43 of nulls\n",
      "Column primary_cleaner.state.floatbank8_c_air has 0.2377% percent of Nulls, and 54 of nulls\n",
      "Column primary_cleaner.state.floatbank8_c_level has 0.1893% percent of Nulls, and 43 of nulls\n",
      "Column primary_cleaner.state.floatbank8_d_air has 0.2421% percent of Nulls, and 55 of nulls\n",
      "Column primary_cleaner.state.floatbank8_d_level has 0.1893% percent of Nulls, and 43 of nulls\n",
      "Column rougher.calculation.sulfate_to_au_concentrate has 0.1937% percent of Nulls, and 44 of nulls\n",
      "Column rougher.calculation.floatbank10_sulfate_to_au_feed has 0.1937% percent of Nulls, and 44 of nulls\n",
      "Column rougher.calculation.floatbank11_sulfate_to_au_feed has 0.1937% percent of Nulls, and 44 of nulls\n",
      "Column rougher.calculation.au_pb_ratio has 7.1624% percent of Nulls, and 1627 of nulls\n",
      "Column rougher.input.feed_ag has 0.4314% percent of Nulls, and 98 of nulls\n",
      "Column rougher.input.feed_pb has 1.0741% percent of Nulls, and 244 of nulls\n",
      "Column rougher.input.feed_rate has 2.4344% percent of Nulls, and 553 of nulls\n",
      "Column rougher.input.feed_size has 1.9326% percent of Nulls, and 439 of nulls\n",
      "Column rougher.input.feed_sol has 1.5804% percent of Nulls, and 359 of nulls\n",
      "Column rougher.input.feed_au has 0.4358% percent of Nulls, and 99 of nulls\n",
      "Column rougher.input.floatbank10_sulfate has 5.7272% percent of Nulls, and 1301 of nulls\n",
      "Column rougher.input.floatbank10_xanthate has 2.0646% percent of Nulls, and 469 of nulls\n",
      "Column rougher.input.floatbank11_sulfate has 2.9847% percent of Nulls, and 678 of nulls\n",
      "Column rougher.input.floatbank11_xanthate has 9.9357% percent of Nulls, and 2257 of nulls\n",
      "Column rougher.output.concentrate_ag has 0.4314% percent of Nulls, and 98 of nulls\n",
      "Column rougher.output.concentrate_pb has 0.4314% percent of Nulls, and 98 of nulls\n",
      "Column rougher.output.concentrate_sol has 0.8364% percent of Nulls, and 190 of nulls\n",
      "Column rougher.output.concentrate_au has 0.4314% percent of Nulls, and 98 of nulls\n",
      "Column rougher.output.recovery has 13.7304% percent of Nulls, and 3119 of nulls\n",
      "Column rougher.output.tail_ag has 12.0488% percent of Nulls, and 2737 of nulls\n",
      "Column rougher.output.tail_pb has 0.4314% percent of Nulls, and 98 of nulls\n",
      "Column rougher.output.tail_sol has 12.0444% percent of Nulls, and 2736 of nulls\n",
      "Column rougher.output.tail_au has 12.0444% percent of Nulls, and 2736 of nulls\n",
      "Column rougher.state.floatbank10_a_air has 0.3082% percent of Nulls, and 70 of nulls\n",
      "Column rougher.state.floatbank10_a_level has 0.3038% percent of Nulls, and 69 of nulls\n",
      "Column rougher.state.floatbank10_b_air has 0.3082% percent of Nulls, and 70 of nulls\n",
      "Column rougher.state.floatbank10_b_level has 0.3038% percent of Nulls, and 69 of nulls\n",
      "Column rougher.state.floatbank10_c_air has 0.3082% percent of Nulls, and 70 of nulls\n",
      "Column rougher.state.floatbank10_c_level has 0.2729% percent of Nulls, and 62 of nulls\n",
      "Column rougher.state.floatbank10_d_air has 0.3302% percent of Nulls, and 75 of nulls\n",
      "Column rougher.state.floatbank10_d_level has 0.2949% percent of Nulls, and 67 of nulls\n",
      "Column rougher.state.floatbank10_e_air has 2.7294% percent of Nulls, and 620 of nulls\n",
      "Column rougher.state.floatbank10_e_level has 0.2949% percent of Nulls, and 67 of nulls\n",
      "Column rougher.state.floatbank10_f_air has 0.3302% percent of Nulls, and 75 of nulls\n",
      "Column rougher.state.floatbank10_f_level has 0.3258% percent of Nulls, and 74 of nulls\n",
      "Column secondary_cleaner.output.tail_ag has 0.4402% percent of Nulls, and 100 of nulls\n",
      "Column secondary_cleaner.output.tail_pb has 0.5107% percent of Nulls, and 116 of nulls\n",
      "Column secondary_cleaner.output.tail_sol has 9.7508% percent of Nulls, and 2215 of nulls\n",
      "Column secondary_cleaner.output.tail_au has 0.4314% percent of Nulls, and 98 of nulls\n",
      "Column secondary_cleaner.state.floatbank2_a_air has 1.6860% percent of Nulls, and 383 of nulls\n",
      "Column secondary_cleaner.state.floatbank2_a_level has 0.5503% percent of Nulls, and 125 of nulls\n",
      "Column secondary_cleaner.state.floatbank2_b_air has 0.7836% percent of Nulls, and 178 of nulls\n",
      "Column secondary_cleaner.state.floatbank2_b_level has 0.5635% percent of Nulls, and 128 of nulls\n",
      "Column secondary_cleaner.state.floatbank3_a_air has 0.5767% percent of Nulls, and 131 of nulls\n",
      "Column secondary_cleaner.state.floatbank3_a_level has 0.5679% percent of Nulls, and 129 of nulls\n",
      "Column secondary_cleaner.state.floatbank3_b_air has 0.5459% percent of Nulls, and 124 of nulls\n",
      "Column secondary_cleaner.state.floatbank3_b_level has 0.5547% percent of Nulls, and 126 of nulls\n",
      "Column secondary_cleaner.state.floatbank4_a_air has 0.6383% percent of Nulls, and 145 of nulls\n",
      "Column secondary_cleaner.state.floatbank4_a_level has 0.5679% percent of Nulls, and 129 of nulls\n",
      "Column secondary_cleaner.state.floatbank4_b_air has 0.4754% percent of Nulls, and 108 of nulls\n",
      "Column secondary_cleaner.state.floatbank4_b_level has 0.4798% percent of Nulls, and 109 of nulls\n",
      "Column secondary_cleaner.state.floatbank5_a_air has 0.4446% percent of Nulls, and 101 of nulls\n",
      "Column secondary_cleaner.state.floatbank5_a_level has 0.4446% percent of Nulls, and 101 of nulls\n",
      "Column secondary_cleaner.state.floatbank5_b_air has 0.4446% percent of Nulls, and 101 of nulls\n",
      "Column secondary_cleaner.state.floatbank5_b_level has 0.4402% percent of Nulls, and 100 of nulls\n",
      "Column secondary_cleaner.state.floatbank6_a_air has 0.5239% percent of Nulls, and 119 of nulls\n",
      "Column secondary_cleaner.state.floatbank6_a_level has 0.4446% percent of Nulls, and 101 of nulls\n",
      "\u001b[1mThere are 85 columns with NA.\u001b[0m\n"
     ]
    },
    {
     "data": {
      "text/plain": [
       "None"
      ]
     },
     "metadata": {},
     "output_type": "display_data"
    },
    {
     "name": "stdout",
     "output_type": "stream",
     "text": [
      "----------------------------------------------------------------------------------------------------\n",
      "Shape:\n",
      "(22716, 87)\n",
      "----------------------------------------------------------------------------------------------------\n",
      "Duplicated:\n",
      "\u001b[1mWe have 0 duplicated rows.\n",
      "\u001b[0m\n",
      "\n"
     ]
    }
   ],
   "source": [
    "get_info(df_full)"
   ]
  },
  {
   "cell_type": "markdown",
   "metadata": {},
   "source": [
    "<div class=\"alert alert-success\" role=\"alert\">\n",
    "Reviewer's comment v. 1:\n",
    "    \n",
    "Ok :)\n",
    "</div>"
   ]
  },
  {
   "cell_type": "markdown",
   "metadata": {},
   "source": [
    "**Conclusion**\n",
    "\n",
    "After looking for the general infos for the 3 datasets we can say that we have for:\n",
    "- `df_train`: \n",
    "    - 16,860 rows, 87 columns, 86 features and 85 features with NAs\n",
    "- `df_test`:\n",
    "    - 5,856 rows, 53 columns, 52 features and 51 columns with NAs\n",
    "- `df_full`:\n",
    "    - 22,716 rows, 87 columns, 86 features and 85 columns with NAs\n",
    "    \n",
    "We also have:\n",
    "- to cast `date` column type into datetime, all other columns are float data type, and this is correct"
   ]
  },
  {
   "cell_type": "markdown",
   "metadata": {},
   "source": [
    "<div class=\"alert alert-success\" role=\"alert\">\n",
    "Reviewer's comment v. 1:\n",
    "    \n",
    "Good job that you clearly analysed data for correctness.\n",
    "</div>"
   ]
  },
  {
   "cell_type": "markdown",
   "metadata": {},
   "source": [
    "**Check that recovery is calculated correctly**"
   ]
  },
  {
   "cell_type": "markdown",
   "metadata": {},
   "source": [
    "**Using the training set, calculate recovery for the `rougher.output.recovery` feature. Find the MAE between your calculations and the feature values.**\n",
    "\n",
    "$$ Recovery = \\frac{C * (F - T)}{F * (C - T)} * 100 \\% $$"
   ]
  },
  {
   "cell_type": "markdown",
   "metadata": {},
   "source": [
    "<div class=\"alert alert-success\" role=\"alert\">\n",
    "Reviewer's comment v. 1:\n",
    "\n",
    "Ok :)\n",
    "</div>"
   ]
  },
  {
   "cell_type": "markdown",
   "metadata": {},
   "source": [
    "- Gold extraction data"
   ]
  },
  {
   "cell_type": "code",
   "execution_count": 7,
   "metadata": {},
   "outputs": [],
   "source": [
    "C = df_train['rougher.output.concentrate_au']\n",
    "F = df_train['rougher.input.feed_au']\n",
    "T = df_train['rougher.output.tail_au']"
   ]
  },
  {
   "cell_type": "markdown",
   "metadata": {},
   "source": [
    "- C (rougher.input.concentrate_au) - share of gold in the concentrate after flotation/purification\n",
    "- F (rougher.input.feed_au) - share of gold in the feed/concentrate before flotation/purification\n",
    "- T (rougher.output.tail_au) - share of gold in the rougher tails after flotation/purification"
   ]
  },
  {
   "cell_type": "markdown",
   "metadata": {},
   "source": [
    "- Recovery calculation"
   ]
  },
  {
   "cell_type": "code",
   "execution_count": 8,
   "metadata": {},
   "outputs": [
    {
     "data": {
      "text/plain": [
       "0        87.107763\n",
       "1        86.843261\n",
       "2        86.842308\n",
       "3        87.226430\n",
       "4        86.688794\n",
       "           ...    \n",
       "16855    89.574376\n",
       "16856    87.724007\n",
       "16857    88.890579\n",
       "16858    89.858126\n",
       "16859    89.514960\n",
       "Length: 16860, dtype: float64"
      ]
     },
     "execution_count": 8,
     "metadata": {},
     "output_type": "execute_result"
    }
   ],
   "source": [
    "calculated_recovery = (C * (F - T)) / (F * (C - T)) * 100\n",
    "calculated_recovery"
   ]
  },
  {
   "cell_type": "markdown",
   "metadata": {},
   "source": [
    "- MAE calculation"
   ]
  },
  {
   "cell_type": "code",
   "execution_count": 9,
   "metadata": {},
   "outputs": [
    {
     "name": "stdout",
     "output_type": "stream",
     "text": [
      "The MAE score is: 0.00\n"
     ]
    }
   ],
   "source": [
    "mae_calcul = pd.DataFrame({'calculated_recovery': calculated_recovery, 'output_recovery': df_train['rougher.output.recovery']}).dropna()\n",
    "mae = mean_absolute_error(mae_calcul.calculated_recovery, mae_calcul.output_recovery)\n",
    "print('The MAE score is: {:.2f}'.format(mae))"
   ]
  },
  {
   "cell_type": "markdown",
   "metadata": {},
   "source": [
    "- Check sample of calculated recovery and output recovery"
   ]
  },
  {
   "cell_type": "code",
   "execution_count": 10,
   "metadata": {},
   "outputs": [
    {
     "data": {
      "text/html": [
       "<div>\n",
       "<style scoped>\n",
       "    .dataframe tbody tr th:only-of-type {\n",
       "        vertical-align: middle;\n",
       "    }\n",
       "\n",
       "    .dataframe tbody tr th {\n",
       "        vertical-align: top;\n",
       "    }\n",
       "\n",
       "    .dataframe thead th {\n",
       "        text-align: right;\n",
       "    }\n",
       "</style>\n",
       "<table border=\"1\" class=\"dataframe\">\n",
       "  <thead>\n",
       "    <tr style=\"text-align: right;\">\n",
       "      <th></th>\n",
       "      <th>calculated_recovery</th>\n",
       "      <th>output_recovery</th>\n",
       "    </tr>\n",
       "  </thead>\n",
       "  <tbody>\n",
       "    <tr>\n",
       "      <td>4487</td>\n",
       "      <td>85.682029</td>\n",
       "      <td>85.682029</td>\n",
       "    </tr>\n",
       "    <tr>\n",
       "      <td>8629</td>\n",
       "      <td>54.569880</td>\n",
       "      <td>54.569880</td>\n",
       "    </tr>\n",
       "    <tr>\n",
       "      <td>2291</td>\n",
       "      <td>79.874473</td>\n",
       "      <td>79.874473</td>\n",
       "    </tr>\n",
       "    <tr>\n",
       "      <td>16623</td>\n",
       "      <td>86.994171</td>\n",
       "      <td>86.994171</td>\n",
       "    </tr>\n",
       "    <tr>\n",
       "      <td>15147</td>\n",
       "      <td>89.426470</td>\n",
       "      <td>89.426470</td>\n",
       "    </tr>\n",
       "  </tbody>\n",
       "</table>\n",
       "</div>"
      ],
      "text/plain": [
       "       calculated_recovery  output_recovery\n",
       "4487             85.682029        85.682029\n",
       "8629             54.569880        54.569880\n",
       "2291             79.874473        79.874473\n",
       "16623            86.994171        86.994171\n",
       "15147            89.426470        89.426470"
      ]
     },
     "execution_count": 10,
     "metadata": {},
     "output_type": "execute_result"
    }
   ],
   "source": [
    "mae_calcul.sample(5)"
   ]
  },
  {
   "cell_type": "markdown",
   "metadata": {},
   "source": [
    "**Conclusion**\n",
    "- We can conclude that the `calculated_recovery` and `rougher.output.recovery` have similar values.\n",
    "- The MAE score is 0.0. Which means that the calculated value from the simulated recovery process is similar to the `rougher.output.recovery`"
   ]
  },
  {
   "cell_type": "markdown",
   "metadata": {},
   "source": [
    "<div class=\"alert alert-success\" role=\"alert\">\n",
    "Reviewer's comment v. 1:\n",
    "    \n",
    "Yes, you have made a correct conclusion about recovery calculation formula.\n",
    "</div>"
   ]
  },
  {
   "cell_type": "markdown",
   "metadata": {},
   "source": [
    "**Analyze the features not available in the test set**"
   ]
  },
  {
   "cell_type": "code",
   "execution_count": 11,
   "metadata": {},
   "outputs": [
    {
     "data": {
      "text/plain": [
       "['primary_cleaner.output.concentrate_au',\n",
       " 'rougher.calculation.au_pb_ratio',\n",
       " 'rougher.calculation.floatbank11_sulfate_to_au_feed',\n",
       " 'rougher.output.tail_pb',\n",
       " 'primary_cleaner.output.tail_sol',\n",
       " 'primary_cleaner.output.tail_ag',\n",
       " 'primary_cleaner.output.concentrate_sol',\n",
       " 'rougher.output.tail_ag',\n",
       " 'secondary_cleaner.output.tail_pb',\n",
       " 'secondary_cleaner.output.tail_au',\n",
       " 'primary_cleaner.output.tail_pb',\n",
       " 'rougher.calculation.sulfate_to_au_concentrate',\n",
       " 'secondary_cleaner.output.tail_sol',\n",
       " 'final.output.tail_au',\n",
       " 'rougher.output.concentrate_sol',\n",
       " 'final.output.concentrate_ag',\n",
       " 'final.output.tail_ag',\n",
       " 'rougher.output.concentrate_pb',\n",
       " 'rougher.calculation.floatbank10_sulfate_to_au_feed',\n",
       " 'final.output.tail_pb',\n",
       " 'rougher.output.concentrate_au',\n",
       " 'final.output.tail_sol',\n",
       " 'final.output.recovery',\n",
       " 'primary_cleaner.output.concentrate_pb',\n",
       " 'final.output.concentrate_pb',\n",
       " 'final.output.concentrate_sol',\n",
       " 'primary_cleaner.output.tail_au',\n",
       " 'primary_cleaner.output.concentrate_ag',\n",
       " 'rougher.output.concentrate_ag',\n",
       " 'final.output.concentrate_au',\n",
       " 'secondary_cleaner.output.tail_ag',\n",
       " 'rougher.output.tail_au',\n",
       " 'rougher.output.tail_sol',\n",
       " 'rougher.output.recovery']"
      ]
     },
     "execution_count": 11,
     "metadata": {},
     "output_type": "execute_result"
    }
   ],
   "source": [
    "features_nav= list(set(df_train.columns).difference(df_test.columns))\n",
    "features_nav"
   ]
  },
  {
   "cell_type": "code",
   "execution_count": 12,
   "metadata": {},
   "outputs": [
    {
     "data": {
      "text/plain": [
       "34"
      ]
     },
     "execution_count": 12,
     "metadata": {},
     "output_type": "execute_result"
    }
   ],
   "source": [
    "len(features_nav)"
   ]
  },
  {
   "cell_type": "markdown",
   "metadata": {},
   "source": [
    "**Conclusion**\n",
    "- We can see that we have 34 features in the train set that are not available in the test set. \n",
    "- The features not available in the test set include features containing the  concentration of metals (Au, Ag, Pb). \n",
    "- The parameters type are output - product parameters and calculation characteristics."
   ]
  },
  {
   "cell_type": "markdown",
   "metadata": {},
   "source": [
    "<div class=\"alert alert-success\" role=\"alert\">\n",
    "Reviewer's comment v. 1:\n",
    "    \n",
    "Good job, the features which are not available in the test dataset were analysed.\n",
    "</div>"
   ]
  },
  {
   "cell_type": "markdown",
   "metadata": {},
   "source": [
    "**Data preprocessing**"
   ]
  },
  {
   "cell_type": "markdown",
   "metadata": {},
   "source": [
    "- **train data**"
   ]
  },
  {
   "cell_type": "code",
   "execution_count": 13,
   "metadata": {},
   "outputs": [
    {
     "name": "stdout",
     "output_type": "stream",
     "text": [
      "Your selected dataframe has 87 columns.\n",
      "There are 85 columns that have missing values.\n"
     ]
    },
    {
     "data": {
      "text/html": [
       "<div>\n",
       "<style scoped>\n",
       "    .dataframe tbody tr th:only-of-type {\n",
       "        vertical-align: middle;\n",
       "    }\n",
       "\n",
       "    .dataframe tbody tr th {\n",
       "        vertical-align: top;\n",
       "    }\n",
       "\n",
       "    .dataframe thead th {\n",
       "        text-align: right;\n",
       "    }\n",
       "</style>\n",
       "<table border=\"1\" class=\"dataframe\">\n",
       "  <thead>\n",
       "    <tr style=\"text-align: right;\">\n",
       "      <th></th>\n",
       "      <th>Missing Values</th>\n",
       "      <th>% of Total Values</th>\n",
       "    </tr>\n",
       "  </thead>\n",
       "  <tbody>\n",
       "    <tr>\n",
       "      <td>rougher.output.recovery</td>\n",
       "      <td>2573</td>\n",
       "      <td>15.3</td>\n",
       "    </tr>\n",
       "    <tr>\n",
       "      <td>rougher.output.tail_ag</td>\n",
       "      <td>2250</td>\n",
       "      <td>13.3</td>\n",
       "    </tr>\n",
       "    <tr>\n",
       "      <td>rougher.output.tail_au</td>\n",
       "      <td>2249</td>\n",
       "      <td>13.3</td>\n",
       "    </tr>\n",
       "    <tr>\n",
       "      <td>rougher.output.tail_sol</td>\n",
       "      <td>2249</td>\n",
       "      <td>13.3</td>\n",
       "    </tr>\n",
       "    <tr>\n",
       "      <td>secondary_cleaner.output.tail_sol</td>\n",
       "      <td>1986</td>\n",
       "      <td>11.8</td>\n",
       "    </tr>\n",
       "    <tr>\n",
       "      <td>...</td>\n",
       "      <td>...</td>\n",
       "      <td>...</td>\n",
       "    </tr>\n",
       "    <tr>\n",
       "      <td>primary_cleaner.state.floatbank8_b_level</td>\n",
       "      <td>27</td>\n",
       "      <td>0.2</td>\n",
       "    </tr>\n",
       "    <tr>\n",
       "      <td>primary_cleaner.state.floatbank8_c_level</td>\n",
       "      <td>27</td>\n",
       "      <td>0.2</td>\n",
       "    </tr>\n",
       "    <tr>\n",
       "      <td>primary_cleaner.state.floatbank8_d_level</td>\n",
       "      <td>27</td>\n",
       "      <td>0.2</td>\n",
       "    </tr>\n",
       "    <tr>\n",
       "      <td>rougher.calculation.sulfate_to_au_concentrate</td>\n",
       "      <td>27</td>\n",
       "      <td>0.2</td>\n",
       "    </tr>\n",
       "    <tr>\n",
       "      <td>rougher.calculation.floatbank11_sulfate_to_au_feed</td>\n",
       "      <td>27</td>\n",
       "      <td>0.2</td>\n",
       "    </tr>\n",
       "  </tbody>\n",
       "</table>\n",
       "<p>85 rows × 2 columns</p>\n",
       "</div>"
      ],
      "text/plain": [
       "                                                    Missing Values  \\\n",
       "rougher.output.recovery                                       2573   \n",
       "rougher.output.tail_ag                                        2250   \n",
       "rougher.output.tail_au                                        2249   \n",
       "rougher.output.tail_sol                                       2249   \n",
       "secondary_cleaner.output.tail_sol                             1986   \n",
       "...                                                            ...   \n",
       "primary_cleaner.state.floatbank8_b_level                        27   \n",
       "primary_cleaner.state.floatbank8_c_level                        27   \n",
       "primary_cleaner.state.floatbank8_d_level                        27   \n",
       "rougher.calculation.sulfate_to_au_concentrate                   27   \n",
       "rougher.calculation.floatbank11_sulfate_to_au_feed              27   \n",
       "\n",
       "                                                    % of Total Values  \n",
       "rougher.output.recovery                                          15.3  \n",
       "rougher.output.tail_ag                                           13.3  \n",
       "rougher.output.tail_au                                           13.3  \n",
       "rougher.output.tail_sol                                          13.3  \n",
       "secondary_cleaner.output.tail_sol                                11.8  \n",
       "...                                                               ...  \n",
       "primary_cleaner.state.floatbank8_b_level                          0.2  \n",
       "primary_cleaner.state.floatbank8_c_level                          0.2  \n",
       "primary_cleaner.state.floatbank8_d_level                          0.2  \n",
       "rougher.calculation.sulfate_to_au_concentrate                     0.2  \n",
       "rougher.calculation.floatbank11_sulfate_to_au_feed                0.2  \n",
       "\n",
       "[85 rows x 2 columns]"
      ]
     },
     "execution_count": 13,
     "metadata": {},
     "output_type": "execute_result"
    }
   ],
   "source": [
    "missing_values_table(df_train)"
   ]
  },
  {
   "cell_type": "markdown",
   "metadata": {},
   "source": [
    "<div class=\"alert alert-success\" role=\"alert\">\n",
    "Reviewer's comment v. 1:\n",
    "    \n",
    "Good job that you calculated a percentage of a missing values. This is important to know when making decision about processing of a missing values.\n",
    "</div>"
   ]
  },
  {
   "cell_type": "markdown",
   "metadata": {},
   "source": [
    "- Filling in missing values for training data"
   ]
  },
  {
   "cell_type": "markdown",
   "metadata": {},
   "source": [
    "- Here we are going to use ffill() pandas' method or Forward Fill, since:\n",
    "    - our data is indexed with the date and time of acquisition, and each sample is taken right after the one before\n",
    "    - and in order to maintain the same distribution variation.\n",
    "    - and also avoid having outliers\n",
    "    \n",
    "The best way is to replace each missing value with the one before."
   ]
  },
  {
   "cell_type": "code",
   "execution_count": 14,
   "metadata": {},
   "outputs": [],
   "source": [
    "fill_missing_values(df_train)"
   ]
  },
  {
   "cell_type": "markdown",
   "metadata": {},
   "source": [
    "<div class=\"alert alert-danger\" role=\"alert\">\n",
    "Reviewer's comment v. 1:\n",
    "    \n",
    "Good job that you have used finction to fill a missing values. Yes, it's correct to fill a missing values by using 'ffill' method.\n",
    "    \n",
    "But could you please explain why you have used this method to fill amissing values?\n",
    "</div>"
   ]
  },
  {
   "cell_type": "markdown",
   "metadata": {},
   "source": [
    "<div class=\"alert alert-success\" role=\"alert\">\n",
    "Reviewer's comment v. 2:\n",
    "    \n",
    "Yes, due to technological process we can fill a missing values by using 'ffill' method.\n",
    "</div>"
   ]
  },
  {
   "cell_type": "code",
   "execution_count": 15,
   "metadata": {},
   "outputs": [
    {
     "name": "stdout",
     "output_type": "stream",
     "text": [
      "Your selected dataframe has 87 columns.\n",
      "There are 0 columns that have missing values.\n"
     ]
    },
    {
     "data": {
      "text/html": [
       "<div>\n",
       "<style scoped>\n",
       "    .dataframe tbody tr th:only-of-type {\n",
       "        vertical-align: middle;\n",
       "    }\n",
       "\n",
       "    .dataframe tbody tr th {\n",
       "        vertical-align: top;\n",
       "    }\n",
       "\n",
       "    .dataframe thead th {\n",
       "        text-align: right;\n",
       "    }\n",
       "</style>\n",
       "<table border=\"1\" class=\"dataframe\">\n",
       "  <thead>\n",
       "    <tr style=\"text-align: right;\">\n",
       "      <th></th>\n",
       "      <th>Missing Values</th>\n",
       "      <th>% of Total Values</th>\n",
       "    </tr>\n",
       "  </thead>\n",
       "  <tbody>\n",
       "  </tbody>\n",
       "</table>\n",
       "</div>"
      ],
      "text/plain": [
       "Empty DataFrame\n",
       "Columns: [Missing Values, % of Total Values]\n",
       "Index: []"
      ]
     },
     "execution_count": 15,
     "metadata": {},
     "output_type": "execute_result"
    }
   ],
   "source": [
    "#rechecking\n",
    "missing_values_table(df_train)"
   ]
  },
  {
   "cell_type": "markdown",
   "metadata": {},
   "source": [
    "- cast date column"
   ]
  },
  {
   "cell_type": "code",
   "execution_count": 16,
   "metadata": {},
   "outputs": [
    {
     "name": "stdout",
     "output_type": "stream",
     "text": [
      "<class 'pandas.core.frame.DataFrame'>\n",
      "Int64Index: 16860 entries, 0 to 16859\n",
      "Data columns (total 87 columns):\n",
      "date                                                  16860 non-null datetime64[ns]\n",
      "final.output.concentrate_ag                           16860 non-null float64\n",
      "final.output.concentrate_pb                           16860 non-null float64\n",
      "final.output.concentrate_sol                          16860 non-null float64\n",
      "final.output.concentrate_au                           16860 non-null float64\n",
      "final.output.recovery                                 16860 non-null float64\n",
      "final.output.tail_ag                                  16860 non-null float64\n",
      "final.output.tail_pb                                  16860 non-null float64\n",
      "final.output.tail_sol                                 16860 non-null float64\n",
      "final.output.tail_au                                  16860 non-null float64\n",
      "primary_cleaner.input.sulfate                         16860 non-null float64\n",
      "primary_cleaner.input.depressant                      16860 non-null float64\n",
      "primary_cleaner.input.feed_size                       16860 non-null float64\n",
      "primary_cleaner.input.xanthate                        16860 non-null float64\n",
      "primary_cleaner.output.concentrate_ag                 16860 non-null float64\n",
      "primary_cleaner.output.concentrate_pb                 16860 non-null float64\n",
      "primary_cleaner.output.concentrate_sol                16860 non-null float64\n",
      "primary_cleaner.output.concentrate_au                 16860 non-null float64\n",
      "primary_cleaner.output.tail_ag                        16860 non-null float64\n",
      "primary_cleaner.output.tail_pb                        16860 non-null float64\n",
      "primary_cleaner.output.tail_sol                       16860 non-null float64\n",
      "primary_cleaner.output.tail_au                        16860 non-null float64\n",
      "primary_cleaner.state.floatbank8_a_air                16860 non-null float64\n",
      "primary_cleaner.state.floatbank8_a_level              16860 non-null float64\n",
      "primary_cleaner.state.floatbank8_b_air                16860 non-null float64\n",
      "primary_cleaner.state.floatbank8_b_level              16860 non-null float64\n",
      "primary_cleaner.state.floatbank8_c_air                16860 non-null float64\n",
      "primary_cleaner.state.floatbank8_c_level              16860 non-null float64\n",
      "primary_cleaner.state.floatbank8_d_air                16860 non-null float64\n",
      "primary_cleaner.state.floatbank8_d_level              16860 non-null float64\n",
      "rougher.calculation.sulfate_to_au_concentrate         16860 non-null float64\n",
      "rougher.calculation.floatbank10_sulfate_to_au_feed    16860 non-null float64\n",
      "rougher.calculation.floatbank11_sulfate_to_au_feed    16860 non-null float64\n",
      "rougher.calculation.au_pb_ratio                       16860 non-null float64\n",
      "rougher.input.feed_ag                                 16860 non-null float64\n",
      "rougher.input.feed_pb                                 16860 non-null float64\n",
      "rougher.input.feed_rate                               16860 non-null float64\n",
      "rougher.input.feed_size                               16860 non-null float64\n",
      "rougher.input.feed_sol                                16860 non-null float64\n",
      "rougher.input.feed_au                                 16860 non-null float64\n",
      "rougher.input.floatbank10_sulfate                     16860 non-null float64\n",
      "rougher.input.floatbank10_xanthate                    16860 non-null float64\n",
      "rougher.input.floatbank11_sulfate                     16860 non-null float64\n",
      "rougher.input.floatbank11_xanthate                    16860 non-null float64\n",
      "rougher.output.concentrate_ag                         16860 non-null float64\n",
      "rougher.output.concentrate_pb                         16860 non-null float64\n",
      "rougher.output.concentrate_sol                        16860 non-null float64\n",
      "rougher.output.concentrate_au                         16860 non-null float64\n",
      "rougher.output.recovery                               16860 non-null float64\n",
      "rougher.output.tail_ag                                16860 non-null float64\n",
      "rougher.output.tail_pb                                16860 non-null float64\n",
      "rougher.output.tail_sol                               16860 non-null float64\n",
      "rougher.output.tail_au                                16860 non-null float64\n",
      "rougher.state.floatbank10_a_air                       16860 non-null float64\n",
      "rougher.state.floatbank10_a_level                     16860 non-null float64\n",
      "rougher.state.floatbank10_b_air                       16860 non-null float64\n",
      "rougher.state.floatbank10_b_level                     16860 non-null float64\n",
      "rougher.state.floatbank10_c_air                       16860 non-null float64\n",
      "rougher.state.floatbank10_c_level                     16860 non-null float64\n",
      "rougher.state.floatbank10_d_air                       16860 non-null float64\n",
      "rougher.state.floatbank10_d_level                     16860 non-null float64\n",
      "rougher.state.floatbank10_e_air                       16860 non-null float64\n",
      "rougher.state.floatbank10_e_level                     16860 non-null float64\n",
      "rougher.state.floatbank10_f_air                       16860 non-null float64\n",
      "rougher.state.floatbank10_f_level                     16860 non-null float64\n",
      "secondary_cleaner.output.tail_ag                      16860 non-null float64\n",
      "secondary_cleaner.output.tail_pb                      16860 non-null float64\n",
      "secondary_cleaner.output.tail_sol                     16860 non-null float64\n",
      "secondary_cleaner.output.tail_au                      16860 non-null float64\n",
      "secondary_cleaner.state.floatbank2_a_air              16860 non-null float64\n",
      "secondary_cleaner.state.floatbank2_a_level            16860 non-null float64\n",
      "secondary_cleaner.state.floatbank2_b_air              16860 non-null float64\n",
      "secondary_cleaner.state.floatbank2_b_level            16860 non-null float64\n",
      "secondary_cleaner.state.floatbank3_a_air              16860 non-null float64\n",
      "secondary_cleaner.state.floatbank3_a_level            16860 non-null float64\n",
      "secondary_cleaner.state.floatbank3_b_air              16860 non-null float64\n",
      "secondary_cleaner.state.floatbank3_b_level            16860 non-null float64\n",
      "secondary_cleaner.state.floatbank4_a_air              16860 non-null float64\n",
      "secondary_cleaner.state.floatbank4_a_level            16860 non-null float64\n",
      "secondary_cleaner.state.floatbank4_b_air              16860 non-null float64\n",
      "secondary_cleaner.state.floatbank4_b_level            16860 non-null float64\n",
      "secondary_cleaner.state.floatbank5_a_air              16860 non-null float64\n",
      "secondary_cleaner.state.floatbank5_a_level            16860 non-null float64\n",
      "secondary_cleaner.state.floatbank5_b_air              16860 non-null float64\n",
      "secondary_cleaner.state.floatbank5_b_level            16860 non-null float64\n",
      "secondary_cleaner.state.floatbank6_a_air              16860 non-null float64\n",
      "secondary_cleaner.state.floatbank6_a_level            16860 non-null float64\n",
      "dtypes: datetime64[ns](1), float64(86)\n",
      "memory usage: 11.3 MB\n"
     ]
    }
   ],
   "source": [
    "convert_date_time(df_train, 'date')\n",
    "df_train.info()"
   ]
  },
  {
   "cell_type": "markdown",
   "metadata": {},
   "source": [
    "- **Check missing values in test data**"
   ]
  },
  {
   "cell_type": "code",
   "execution_count": 17,
   "metadata": {},
   "outputs": [
    {
     "name": "stdout",
     "output_type": "stream",
     "text": [
      "Your selected dataframe has 53 columns.\n",
      "There are 51 columns that have missing values.\n"
     ]
    },
    {
     "data": {
      "text/html": [
       "<div>\n",
       "<style scoped>\n",
       "    .dataframe tbody tr th:only-of-type {\n",
       "        vertical-align: middle;\n",
       "    }\n",
       "\n",
       "    .dataframe tbody tr th {\n",
       "        vertical-align: top;\n",
       "    }\n",
       "\n",
       "    .dataframe thead th {\n",
       "        text-align: right;\n",
       "    }\n",
       "</style>\n",
       "<table border=\"1\" class=\"dataframe\">\n",
       "  <thead>\n",
       "    <tr style=\"text-align: right;\">\n",
       "      <th></th>\n",
       "      <th>Missing Values</th>\n",
       "      <th>% of Total Values</th>\n",
       "    </tr>\n",
       "  </thead>\n",
       "  <tbody>\n",
       "    <tr>\n",
       "      <td>rougher.input.floatbank11_xanthate</td>\n",
       "      <td>353</td>\n",
       "      <td>6.0</td>\n",
       "    </tr>\n",
       "    <tr>\n",
       "      <td>primary_cleaner.input.sulfate</td>\n",
       "      <td>302</td>\n",
       "      <td>5.2</td>\n",
       "    </tr>\n",
       "    <tr>\n",
       "      <td>primary_cleaner.input.depressant</td>\n",
       "      <td>284</td>\n",
       "      <td>4.8</td>\n",
       "    </tr>\n",
       "    <tr>\n",
       "      <td>rougher.input.floatbank10_sulfate</td>\n",
       "      <td>257</td>\n",
       "      <td>4.4</td>\n",
       "    </tr>\n",
       "    <tr>\n",
       "      <td>primary_cleaner.input.xanthate</td>\n",
       "      <td>166</td>\n",
       "      <td>2.8</td>\n",
       "    </tr>\n",
       "    <tr>\n",
       "      <td>rougher.input.floatbank10_xanthate</td>\n",
       "      <td>123</td>\n",
       "      <td>2.1</td>\n",
       "    </tr>\n",
       "    <tr>\n",
       "      <td>rougher.input.feed_sol</td>\n",
       "      <td>67</td>\n",
       "      <td>1.1</td>\n",
       "    </tr>\n",
       "    <tr>\n",
       "      <td>rougher.input.floatbank11_sulfate</td>\n",
       "      <td>55</td>\n",
       "      <td>0.9</td>\n",
       "    </tr>\n",
       "    <tr>\n",
       "      <td>rougher.input.feed_rate</td>\n",
       "      <td>40</td>\n",
       "      <td>0.7</td>\n",
       "    </tr>\n",
       "    <tr>\n",
       "      <td>secondary_cleaner.state.floatbank3_a_air</td>\n",
       "      <td>34</td>\n",
       "      <td>0.6</td>\n",
       "    </tr>\n",
       "    <tr>\n",
       "      <td>secondary_cleaner.state.floatbank2_b_air</td>\n",
       "      <td>23</td>\n",
       "      <td>0.4</td>\n",
       "    </tr>\n",
       "    <tr>\n",
       "      <td>rougher.input.feed_size</td>\n",
       "      <td>22</td>\n",
       "      <td>0.4</td>\n",
       "    </tr>\n",
       "    <tr>\n",
       "      <td>secondary_cleaner.state.floatbank2_a_air</td>\n",
       "      <td>20</td>\n",
       "      <td>0.3</td>\n",
       "    </tr>\n",
       "    <tr>\n",
       "      <td>rougher.state.floatbank10_f_air</td>\n",
       "      <td>17</td>\n",
       "      <td>0.3</td>\n",
       "    </tr>\n",
       "    <tr>\n",
       "      <td>rougher.state.floatbank10_e_air</td>\n",
       "      <td>17</td>\n",
       "      <td>0.3</td>\n",
       "    </tr>\n",
       "    <tr>\n",
       "      <td>rougher.state.floatbank10_d_air</td>\n",
       "      <td>17</td>\n",
       "      <td>0.3</td>\n",
       "    </tr>\n",
       "    <tr>\n",
       "      <td>rougher.state.floatbank10_b_air</td>\n",
       "      <td>17</td>\n",
       "      <td>0.3</td>\n",
       "    </tr>\n",
       "    <tr>\n",
       "      <td>rougher.state.floatbank10_a_air</td>\n",
       "      <td>17</td>\n",
       "      <td>0.3</td>\n",
       "    </tr>\n",
       "    <tr>\n",
       "      <td>rougher.state.floatbank10_c_air</td>\n",
       "      <td>17</td>\n",
       "      <td>0.3</td>\n",
       "    </tr>\n",
       "    <tr>\n",
       "      <td>rougher.input.feed_au</td>\n",
       "      <td>16</td>\n",
       "      <td>0.3</td>\n",
       "    </tr>\n",
       "    <tr>\n",
       "      <td>rougher.input.feed_pb</td>\n",
       "      <td>16</td>\n",
       "      <td>0.3</td>\n",
       "    </tr>\n",
       "    <tr>\n",
       "      <td>secondary_cleaner.state.floatbank6_a_air</td>\n",
       "      <td>16</td>\n",
       "      <td>0.3</td>\n",
       "    </tr>\n",
       "    <tr>\n",
       "      <td>secondary_cleaner.state.floatbank5_b_level</td>\n",
       "      <td>16</td>\n",
       "      <td>0.3</td>\n",
       "    </tr>\n",
       "    <tr>\n",
       "      <td>secondary_cleaner.state.floatbank5_b_air</td>\n",
       "      <td>16</td>\n",
       "      <td>0.3</td>\n",
       "    </tr>\n",
       "    <tr>\n",
       "      <td>secondary_cleaner.state.floatbank5_a_level</td>\n",
       "      <td>16</td>\n",
       "      <td>0.3</td>\n",
       "    </tr>\n",
       "    <tr>\n",
       "      <td>secondary_cleaner.state.floatbank5_a_air</td>\n",
       "      <td>16</td>\n",
       "      <td>0.3</td>\n",
       "    </tr>\n",
       "    <tr>\n",
       "      <td>secondary_cleaner.state.floatbank4_b_level</td>\n",
       "      <td>16</td>\n",
       "      <td>0.3</td>\n",
       "    </tr>\n",
       "    <tr>\n",
       "      <td>secondary_cleaner.state.floatbank4_b_air</td>\n",
       "      <td>16</td>\n",
       "      <td>0.3</td>\n",
       "    </tr>\n",
       "    <tr>\n",
       "      <td>secondary_cleaner.state.floatbank4_a_level</td>\n",
       "      <td>16</td>\n",
       "      <td>0.3</td>\n",
       "    </tr>\n",
       "    <tr>\n",
       "      <td>secondary_cleaner.state.floatbank4_a_air</td>\n",
       "      <td>16</td>\n",
       "      <td>0.3</td>\n",
       "    </tr>\n",
       "    <tr>\n",
       "      <td>secondary_cleaner.state.floatbank3_b_level</td>\n",
       "      <td>16</td>\n",
       "      <td>0.3</td>\n",
       "    </tr>\n",
       "    <tr>\n",
       "      <td>secondary_cleaner.state.floatbank3_b_air</td>\n",
       "      <td>16</td>\n",
       "      <td>0.3</td>\n",
       "    </tr>\n",
       "    <tr>\n",
       "      <td>secondary_cleaner.state.floatbank3_a_level</td>\n",
       "      <td>16</td>\n",
       "      <td>0.3</td>\n",
       "    </tr>\n",
       "    <tr>\n",
       "      <td>primary_cleaner.state.floatbank8_a_air</td>\n",
       "      <td>16</td>\n",
       "      <td>0.3</td>\n",
       "    </tr>\n",
       "    <tr>\n",
       "      <td>secondary_cleaner.state.floatbank2_b_level</td>\n",
       "      <td>16</td>\n",
       "      <td>0.3</td>\n",
       "    </tr>\n",
       "    <tr>\n",
       "      <td>primary_cleaner.state.floatbank8_a_level</td>\n",
       "      <td>16</td>\n",
       "      <td>0.3</td>\n",
       "    </tr>\n",
       "    <tr>\n",
       "      <td>secondary_cleaner.state.floatbank2_a_level</td>\n",
       "      <td>16</td>\n",
       "      <td>0.3</td>\n",
       "    </tr>\n",
       "    <tr>\n",
       "      <td>primary_cleaner.state.floatbank8_b_air</td>\n",
       "      <td>16</td>\n",
       "      <td>0.3</td>\n",
       "    </tr>\n",
       "    <tr>\n",
       "      <td>rougher.state.floatbank10_f_level</td>\n",
       "      <td>16</td>\n",
       "      <td>0.3</td>\n",
       "    </tr>\n",
       "    <tr>\n",
       "      <td>primary_cleaner.state.floatbank8_b_level</td>\n",
       "      <td>16</td>\n",
       "      <td>0.3</td>\n",
       "    </tr>\n",
       "    <tr>\n",
       "      <td>rougher.state.floatbank10_e_level</td>\n",
       "      <td>16</td>\n",
       "      <td>0.3</td>\n",
       "    </tr>\n",
       "    <tr>\n",
       "      <td>primary_cleaner.state.floatbank8_c_air</td>\n",
       "      <td>16</td>\n",
       "      <td>0.3</td>\n",
       "    </tr>\n",
       "    <tr>\n",
       "      <td>rougher.state.floatbank10_d_level</td>\n",
       "      <td>16</td>\n",
       "      <td>0.3</td>\n",
       "    </tr>\n",
       "    <tr>\n",
       "      <td>primary_cleaner.state.floatbank8_c_level</td>\n",
       "      <td>16</td>\n",
       "      <td>0.3</td>\n",
       "    </tr>\n",
       "    <tr>\n",
       "      <td>rougher.state.floatbank10_c_level</td>\n",
       "      <td>16</td>\n",
       "      <td>0.3</td>\n",
       "    </tr>\n",
       "    <tr>\n",
       "      <td>primary_cleaner.state.floatbank8_d_air</td>\n",
       "      <td>16</td>\n",
       "      <td>0.3</td>\n",
       "    </tr>\n",
       "    <tr>\n",
       "      <td>rougher.state.floatbank10_b_level</td>\n",
       "      <td>16</td>\n",
       "      <td>0.3</td>\n",
       "    </tr>\n",
       "    <tr>\n",
       "      <td>primary_cleaner.state.floatbank8_d_level</td>\n",
       "      <td>16</td>\n",
       "      <td>0.3</td>\n",
       "    </tr>\n",
       "    <tr>\n",
       "      <td>rougher.state.floatbank10_a_level</td>\n",
       "      <td>16</td>\n",
       "      <td>0.3</td>\n",
       "    </tr>\n",
       "    <tr>\n",
       "      <td>rougher.input.feed_ag</td>\n",
       "      <td>16</td>\n",
       "      <td>0.3</td>\n",
       "    </tr>\n",
       "    <tr>\n",
       "      <td>secondary_cleaner.state.floatbank6_a_level</td>\n",
       "      <td>16</td>\n",
       "      <td>0.3</td>\n",
       "    </tr>\n",
       "  </tbody>\n",
       "</table>\n",
       "</div>"
      ],
      "text/plain": [
       "                                            Missing Values  % of Total Values\n",
       "rougher.input.floatbank11_xanthate                     353                6.0\n",
       "primary_cleaner.input.sulfate                          302                5.2\n",
       "primary_cleaner.input.depressant                       284                4.8\n",
       "rougher.input.floatbank10_sulfate                      257                4.4\n",
       "primary_cleaner.input.xanthate                         166                2.8\n",
       "rougher.input.floatbank10_xanthate                     123                2.1\n",
       "rougher.input.feed_sol                                  67                1.1\n",
       "rougher.input.floatbank11_sulfate                       55                0.9\n",
       "rougher.input.feed_rate                                 40                0.7\n",
       "secondary_cleaner.state.floatbank3_a_air                34                0.6\n",
       "secondary_cleaner.state.floatbank2_b_air                23                0.4\n",
       "rougher.input.feed_size                                 22                0.4\n",
       "secondary_cleaner.state.floatbank2_a_air                20                0.3\n",
       "rougher.state.floatbank10_f_air                         17                0.3\n",
       "rougher.state.floatbank10_e_air                         17                0.3\n",
       "rougher.state.floatbank10_d_air                         17                0.3\n",
       "rougher.state.floatbank10_b_air                         17                0.3\n",
       "rougher.state.floatbank10_a_air                         17                0.3\n",
       "rougher.state.floatbank10_c_air                         17                0.3\n",
       "rougher.input.feed_au                                   16                0.3\n",
       "rougher.input.feed_pb                                   16                0.3\n",
       "secondary_cleaner.state.floatbank6_a_air                16                0.3\n",
       "secondary_cleaner.state.floatbank5_b_level              16                0.3\n",
       "secondary_cleaner.state.floatbank5_b_air                16                0.3\n",
       "secondary_cleaner.state.floatbank5_a_level              16                0.3\n",
       "secondary_cleaner.state.floatbank5_a_air                16                0.3\n",
       "secondary_cleaner.state.floatbank4_b_level              16                0.3\n",
       "secondary_cleaner.state.floatbank4_b_air                16                0.3\n",
       "secondary_cleaner.state.floatbank4_a_level              16                0.3\n",
       "secondary_cleaner.state.floatbank4_a_air                16                0.3\n",
       "secondary_cleaner.state.floatbank3_b_level              16                0.3\n",
       "secondary_cleaner.state.floatbank3_b_air                16                0.3\n",
       "secondary_cleaner.state.floatbank3_a_level              16                0.3\n",
       "primary_cleaner.state.floatbank8_a_air                  16                0.3\n",
       "secondary_cleaner.state.floatbank2_b_level              16                0.3\n",
       "primary_cleaner.state.floatbank8_a_level                16                0.3\n",
       "secondary_cleaner.state.floatbank2_a_level              16                0.3\n",
       "primary_cleaner.state.floatbank8_b_air                  16                0.3\n",
       "rougher.state.floatbank10_f_level                       16                0.3\n",
       "primary_cleaner.state.floatbank8_b_level                16                0.3\n",
       "rougher.state.floatbank10_e_level                       16                0.3\n",
       "primary_cleaner.state.floatbank8_c_air                  16                0.3\n",
       "rougher.state.floatbank10_d_level                       16                0.3\n",
       "primary_cleaner.state.floatbank8_c_level                16                0.3\n",
       "rougher.state.floatbank10_c_level                       16                0.3\n",
       "primary_cleaner.state.floatbank8_d_air                  16                0.3\n",
       "rougher.state.floatbank10_b_level                       16                0.3\n",
       "primary_cleaner.state.floatbank8_d_level                16                0.3\n",
       "rougher.state.floatbank10_a_level                       16                0.3\n",
       "rougher.input.feed_ag                                   16                0.3\n",
       "secondary_cleaner.state.floatbank6_a_level              16                0.3"
      ]
     },
     "execution_count": 17,
     "metadata": {},
     "output_type": "execute_result"
    }
   ],
   "source": [
    "missing_values_table(df_test)"
   ]
  },
  {
   "cell_type": "markdown",
   "metadata": {},
   "source": [
    "- Filling in missing values for test data"
   ]
  },
  {
   "cell_type": "code",
   "execution_count": 18,
   "metadata": {},
   "outputs": [],
   "source": [
    "fill_missing_values(df_test)"
   ]
  },
  {
   "cell_type": "code",
   "execution_count": 19,
   "metadata": {},
   "outputs": [
    {
     "name": "stdout",
     "output_type": "stream",
     "text": [
      "Your selected dataframe has 53 columns.\n",
      "There are 0 columns that have missing values.\n"
     ]
    },
    {
     "data": {
      "text/html": [
       "<div>\n",
       "<style scoped>\n",
       "    .dataframe tbody tr th:only-of-type {\n",
       "        vertical-align: middle;\n",
       "    }\n",
       "\n",
       "    .dataframe tbody tr th {\n",
       "        vertical-align: top;\n",
       "    }\n",
       "\n",
       "    .dataframe thead th {\n",
       "        text-align: right;\n",
       "    }\n",
       "</style>\n",
       "<table border=\"1\" class=\"dataframe\">\n",
       "  <thead>\n",
       "    <tr style=\"text-align: right;\">\n",
       "      <th></th>\n",
       "      <th>Missing Values</th>\n",
       "      <th>% of Total Values</th>\n",
       "    </tr>\n",
       "  </thead>\n",
       "  <tbody>\n",
       "  </tbody>\n",
       "</table>\n",
       "</div>"
      ],
      "text/plain": [
       "Empty DataFrame\n",
       "Columns: [Missing Values, % of Total Values]\n",
       "Index: []"
      ]
     },
     "execution_count": 19,
     "metadata": {},
     "output_type": "execute_result"
    }
   ],
   "source": [
    "#rechecking\n",
    "missing_values_table(df_test)"
   ]
  },
  {
   "cell_type": "markdown",
   "metadata": {},
   "source": [
    "- cast date column"
   ]
  },
  {
   "cell_type": "code",
   "execution_count": 20,
   "metadata": {},
   "outputs": [
    {
     "name": "stdout",
     "output_type": "stream",
     "text": [
      "<class 'pandas.core.frame.DataFrame'>\n",
      "Int64Index: 5856 entries, 0 to 5855\n",
      "Data columns (total 53 columns):\n",
      "date                                          5856 non-null datetime64[ns]\n",
      "primary_cleaner.input.sulfate                 5856 non-null float64\n",
      "primary_cleaner.input.depressant              5856 non-null float64\n",
      "primary_cleaner.input.feed_size               5856 non-null float64\n",
      "primary_cleaner.input.xanthate                5856 non-null float64\n",
      "primary_cleaner.state.floatbank8_a_air        5856 non-null float64\n",
      "primary_cleaner.state.floatbank8_a_level      5856 non-null float64\n",
      "primary_cleaner.state.floatbank8_b_air        5856 non-null float64\n",
      "primary_cleaner.state.floatbank8_b_level      5856 non-null float64\n",
      "primary_cleaner.state.floatbank8_c_air        5856 non-null float64\n",
      "primary_cleaner.state.floatbank8_c_level      5856 non-null float64\n",
      "primary_cleaner.state.floatbank8_d_air        5856 non-null float64\n",
      "primary_cleaner.state.floatbank8_d_level      5856 non-null float64\n",
      "rougher.input.feed_ag                         5856 non-null float64\n",
      "rougher.input.feed_pb                         5856 non-null float64\n",
      "rougher.input.feed_rate                       5856 non-null float64\n",
      "rougher.input.feed_size                       5856 non-null float64\n",
      "rougher.input.feed_sol                        5856 non-null float64\n",
      "rougher.input.feed_au                         5856 non-null float64\n",
      "rougher.input.floatbank10_sulfate             5856 non-null float64\n",
      "rougher.input.floatbank10_xanthate            5856 non-null float64\n",
      "rougher.input.floatbank11_sulfate             5856 non-null float64\n",
      "rougher.input.floatbank11_xanthate            5856 non-null float64\n",
      "rougher.state.floatbank10_a_air               5856 non-null float64\n",
      "rougher.state.floatbank10_a_level             5856 non-null float64\n",
      "rougher.state.floatbank10_b_air               5856 non-null float64\n",
      "rougher.state.floatbank10_b_level             5856 non-null float64\n",
      "rougher.state.floatbank10_c_air               5856 non-null float64\n",
      "rougher.state.floatbank10_c_level             5856 non-null float64\n",
      "rougher.state.floatbank10_d_air               5856 non-null float64\n",
      "rougher.state.floatbank10_d_level             5856 non-null float64\n",
      "rougher.state.floatbank10_e_air               5856 non-null float64\n",
      "rougher.state.floatbank10_e_level             5856 non-null float64\n",
      "rougher.state.floatbank10_f_air               5856 non-null float64\n",
      "rougher.state.floatbank10_f_level             5856 non-null float64\n",
      "secondary_cleaner.state.floatbank2_a_air      5856 non-null float64\n",
      "secondary_cleaner.state.floatbank2_a_level    5856 non-null float64\n",
      "secondary_cleaner.state.floatbank2_b_air      5856 non-null float64\n",
      "secondary_cleaner.state.floatbank2_b_level    5856 non-null float64\n",
      "secondary_cleaner.state.floatbank3_a_air      5856 non-null float64\n",
      "secondary_cleaner.state.floatbank3_a_level    5856 non-null float64\n",
      "secondary_cleaner.state.floatbank3_b_air      5856 non-null float64\n",
      "secondary_cleaner.state.floatbank3_b_level    5856 non-null float64\n",
      "secondary_cleaner.state.floatbank4_a_air      5856 non-null float64\n",
      "secondary_cleaner.state.floatbank4_a_level    5856 non-null float64\n",
      "secondary_cleaner.state.floatbank4_b_air      5856 non-null float64\n",
      "secondary_cleaner.state.floatbank4_b_level    5856 non-null float64\n",
      "secondary_cleaner.state.floatbank5_a_air      5856 non-null float64\n",
      "secondary_cleaner.state.floatbank5_a_level    5856 non-null float64\n",
      "secondary_cleaner.state.floatbank5_b_air      5856 non-null float64\n",
      "secondary_cleaner.state.floatbank5_b_level    5856 non-null float64\n",
      "secondary_cleaner.state.floatbank6_a_air      5856 non-null float64\n",
      "secondary_cleaner.state.floatbank6_a_level    5856 non-null float64\n",
      "dtypes: datetime64[ns](1), float64(52)\n",
      "memory usage: 2.4 MB\n"
     ]
    }
   ],
   "source": [
    "convert_date_time(df_test, 'date')\n",
    "df_test.info()"
   ]
  },
  {
   "cell_type": "markdown",
   "metadata": {},
   "source": [
    "- **Check missing values in full data**"
   ]
  },
  {
   "cell_type": "code",
   "execution_count": 21,
   "metadata": {},
   "outputs": [
    {
     "name": "stdout",
     "output_type": "stream",
     "text": [
      "Your selected dataframe has 87 columns.\n",
      "There are 85 columns that have missing values.\n"
     ]
    },
    {
     "data": {
      "text/html": [
       "<div>\n",
       "<style scoped>\n",
       "    .dataframe tbody tr th:only-of-type {\n",
       "        vertical-align: middle;\n",
       "    }\n",
       "\n",
       "    .dataframe tbody tr th {\n",
       "        vertical-align: top;\n",
       "    }\n",
       "\n",
       "    .dataframe thead th {\n",
       "        text-align: right;\n",
       "    }\n",
       "</style>\n",
       "<table border=\"1\" class=\"dataframe\">\n",
       "  <thead>\n",
       "    <tr style=\"text-align: right;\">\n",
       "      <th></th>\n",
       "      <th>Missing Values</th>\n",
       "      <th>% of Total Values</th>\n",
       "    </tr>\n",
       "  </thead>\n",
       "  <tbody>\n",
       "    <tr>\n",
       "      <td>rougher.output.recovery</td>\n",
       "      <td>3119</td>\n",
       "      <td>13.7</td>\n",
       "    </tr>\n",
       "    <tr>\n",
       "      <td>rougher.output.tail_ag</td>\n",
       "      <td>2737</td>\n",
       "      <td>12.0</td>\n",
       "    </tr>\n",
       "    <tr>\n",
       "      <td>rougher.output.tail_au</td>\n",
       "      <td>2736</td>\n",
       "      <td>12.0</td>\n",
       "    </tr>\n",
       "    <tr>\n",
       "      <td>rougher.output.tail_sol</td>\n",
       "      <td>2736</td>\n",
       "      <td>12.0</td>\n",
       "    </tr>\n",
       "    <tr>\n",
       "      <td>rougher.input.floatbank11_xanthate</td>\n",
       "      <td>2257</td>\n",
       "      <td>9.9</td>\n",
       "    </tr>\n",
       "    <tr>\n",
       "      <td>...</td>\n",
       "      <td>...</td>\n",
       "      <td>...</td>\n",
       "    </tr>\n",
       "    <tr>\n",
       "      <td>rougher.calculation.floatbank10_sulfate_to_au_feed</td>\n",
       "      <td>44</td>\n",
       "      <td>0.2</td>\n",
       "    </tr>\n",
       "    <tr>\n",
       "      <td>rougher.calculation.floatbank11_sulfate_to_au_feed</td>\n",
       "      <td>44</td>\n",
       "      <td>0.2</td>\n",
       "    </tr>\n",
       "    <tr>\n",
       "      <td>primary_cleaner.state.floatbank8_d_level</td>\n",
       "      <td>43</td>\n",
       "      <td>0.2</td>\n",
       "    </tr>\n",
       "    <tr>\n",
       "      <td>primary_cleaner.state.floatbank8_c_level</td>\n",
       "      <td>43</td>\n",
       "      <td>0.2</td>\n",
       "    </tr>\n",
       "    <tr>\n",
       "      <td>primary_cleaner.state.floatbank8_b_level</td>\n",
       "      <td>43</td>\n",
       "      <td>0.2</td>\n",
       "    </tr>\n",
       "  </tbody>\n",
       "</table>\n",
       "<p>85 rows × 2 columns</p>\n",
       "</div>"
      ],
      "text/plain": [
       "                                                    Missing Values  \\\n",
       "rougher.output.recovery                                       3119   \n",
       "rougher.output.tail_ag                                        2737   \n",
       "rougher.output.tail_au                                        2736   \n",
       "rougher.output.tail_sol                                       2736   \n",
       "rougher.input.floatbank11_xanthate                            2257   \n",
       "...                                                            ...   \n",
       "rougher.calculation.floatbank10_sulfate_to_au_feed              44   \n",
       "rougher.calculation.floatbank11_sulfate_to_au_feed              44   \n",
       "primary_cleaner.state.floatbank8_d_level                        43   \n",
       "primary_cleaner.state.floatbank8_c_level                        43   \n",
       "primary_cleaner.state.floatbank8_b_level                        43   \n",
       "\n",
       "                                                    % of Total Values  \n",
       "rougher.output.recovery                                          13.7  \n",
       "rougher.output.tail_ag                                           12.0  \n",
       "rougher.output.tail_au                                           12.0  \n",
       "rougher.output.tail_sol                                          12.0  \n",
       "rougher.input.floatbank11_xanthate                                9.9  \n",
       "...                                                               ...  \n",
       "rougher.calculation.floatbank10_sulfate_to_au_feed                0.2  \n",
       "rougher.calculation.floatbank11_sulfate_to_au_feed                0.2  \n",
       "primary_cleaner.state.floatbank8_d_level                          0.2  \n",
       "primary_cleaner.state.floatbank8_c_level                          0.2  \n",
       "primary_cleaner.state.floatbank8_b_level                          0.2  \n",
       "\n",
       "[85 rows x 2 columns]"
      ]
     },
     "execution_count": 21,
     "metadata": {},
     "output_type": "execute_result"
    }
   ],
   "source": [
    "missing_values_table(df_full)"
   ]
  },
  {
   "cell_type": "markdown",
   "metadata": {},
   "source": [
    "- Filling in missing values for test data"
   ]
  },
  {
   "cell_type": "code",
   "execution_count": 22,
   "metadata": {},
   "outputs": [],
   "source": [
    "fill_missing_values(df_full)"
   ]
  },
  {
   "cell_type": "code",
   "execution_count": 23,
   "metadata": {},
   "outputs": [
    {
     "name": "stdout",
     "output_type": "stream",
     "text": [
      "Your selected dataframe has 87 columns.\n",
      "There are 0 columns that have missing values.\n"
     ]
    },
    {
     "data": {
      "text/html": [
       "<div>\n",
       "<style scoped>\n",
       "    .dataframe tbody tr th:only-of-type {\n",
       "        vertical-align: middle;\n",
       "    }\n",
       "\n",
       "    .dataframe tbody tr th {\n",
       "        vertical-align: top;\n",
       "    }\n",
       "\n",
       "    .dataframe thead th {\n",
       "        text-align: right;\n",
       "    }\n",
       "</style>\n",
       "<table border=\"1\" class=\"dataframe\">\n",
       "  <thead>\n",
       "    <tr style=\"text-align: right;\">\n",
       "      <th></th>\n",
       "      <th>Missing Values</th>\n",
       "      <th>% of Total Values</th>\n",
       "    </tr>\n",
       "  </thead>\n",
       "  <tbody>\n",
       "  </tbody>\n",
       "</table>\n",
       "</div>"
      ],
      "text/plain": [
       "Empty DataFrame\n",
       "Columns: [Missing Values, % of Total Values]\n",
       "Index: []"
      ]
     },
     "execution_count": 23,
     "metadata": {},
     "output_type": "execute_result"
    }
   ],
   "source": [
    "#rechecking\n",
    "missing_values_table(df_full)"
   ]
  },
  {
   "cell_type": "markdown",
   "metadata": {},
   "source": [
    "- cast date column"
   ]
  },
  {
   "cell_type": "code",
   "execution_count": 24,
   "metadata": {},
   "outputs": [
    {
     "name": "stdout",
     "output_type": "stream",
     "text": [
      "<class 'pandas.core.frame.DataFrame'>\n",
      "Int64Index: 5856 entries, 0 to 5855\n",
      "Data columns (total 53 columns):\n",
      "date                                          5856 non-null datetime64[ns]\n",
      "primary_cleaner.input.sulfate                 5856 non-null float64\n",
      "primary_cleaner.input.depressant              5856 non-null float64\n",
      "primary_cleaner.input.feed_size               5856 non-null float64\n",
      "primary_cleaner.input.xanthate                5856 non-null float64\n",
      "primary_cleaner.state.floatbank8_a_air        5856 non-null float64\n",
      "primary_cleaner.state.floatbank8_a_level      5856 non-null float64\n",
      "primary_cleaner.state.floatbank8_b_air        5856 non-null float64\n",
      "primary_cleaner.state.floatbank8_b_level      5856 non-null float64\n",
      "primary_cleaner.state.floatbank8_c_air        5856 non-null float64\n",
      "primary_cleaner.state.floatbank8_c_level      5856 non-null float64\n",
      "primary_cleaner.state.floatbank8_d_air        5856 non-null float64\n",
      "primary_cleaner.state.floatbank8_d_level      5856 non-null float64\n",
      "rougher.input.feed_ag                         5856 non-null float64\n",
      "rougher.input.feed_pb                         5856 non-null float64\n",
      "rougher.input.feed_rate                       5856 non-null float64\n",
      "rougher.input.feed_size                       5856 non-null float64\n",
      "rougher.input.feed_sol                        5856 non-null float64\n",
      "rougher.input.feed_au                         5856 non-null float64\n",
      "rougher.input.floatbank10_sulfate             5856 non-null float64\n",
      "rougher.input.floatbank10_xanthate            5856 non-null float64\n",
      "rougher.input.floatbank11_sulfate             5856 non-null float64\n",
      "rougher.input.floatbank11_xanthate            5856 non-null float64\n",
      "rougher.state.floatbank10_a_air               5856 non-null float64\n",
      "rougher.state.floatbank10_a_level             5856 non-null float64\n",
      "rougher.state.floatbank10_b_air               5856 non-null float64\n",
      "rougher.state.floatbank10_b_level             5856 non-null float64\n",
      "rougher.state.floatbank10_c_air               5856 non-null float64\n",
      "rougher.state.floatbank10_c_level             5856 non-null float64\n",
      "rougher.state.floatbank10_d_air               5856 non-null float64\n",
      "rougher.state.floatbank10_d_level             5856 non-null float64\n",
      "rougher.state.floatbank10_e_air               5856 non-null float64\n",
      "rougher.state.floatbank10_e_level             5856 non-null float64\n",
      "rougher.state.floatbank10_f_air               5856 non-null float64\n",
      "rougher.state.floatbank10_f_level             5856 non-null float64\n",
      "secondary_cleaner.state.floatbank2_a_air      5856 non-null float64\n",
      "secondary_cleaner.state.floatbank2_a_level    5856 non-null float64\n",
      "secondary_cleaner.state.floatbank2_b_air      5856 non-null float64\n",
      "secondary_cleaner.state.floatbank2_b_level    5856 non-null float64\n",
      "secondary_cleaner.state.floatbank3_a_air      5856 non-null float64\n",
      "secondary_cleaner.state.floatbank3_a_level    5856 non-null float64\n",
      "secondary_cleaner.state.floatbank3_b_air      5856 non-null float64\n",
      "secondary_cleaner.state.floatbank3_b_level    5856 non-null float64\n",
      "secondary_cleaner.state.floatbank4_a_air      5856 non-null float64\n",
      "secondary_cleaner.state.floatbank4_a_level    5856 non-null float64\n",
      "secondary_cleaner.state.floatbank4_b_air      5856 non-null float64\n",
      "secondary_cleaner.state.floatbank4_b_level    5856 non-null float64\n",
      "secondary_cleaner.state.floatbank5_a_air      5856 non-null float64\n",
      "secondary_cleaner.state.floatbank5_a_level    5856 non-null float64\n",
      "secondary_cleaner.state.floatbank5_b_air      5856 non-null float64\n",
      "secondary_cleaner.state.floatbank5_b_level    5856 non-null float64\n",
      "secondary_cleaner.state.floatbank6_a_air      5856 non-null float64\n",
      "secondary_cleaner.state.floatbank6_a_level    5856 non-null float64\n",
      "dtypes: datetime64[ns](1), float64(52)\n",
      "memory usage: 2.4 MB\n"
     ]
    }
   ],
   "source": [
    "convert_date_time(df_full, 'date')\n",
    "df_test.info()"
   ]
  },
  {
   "cell_type": "markdown",
   "metadata": {},
   "source": [
    "**Conclusion**\n",
    "- we've get rid of missing values in the 3 datasets using the forward fill method in pandas. \n",
    "- We also converted `date` type to the datatime type in the 3 datasets."
   ]
  },
  {
   "cell_type": "markdown",
   "metadata": {},
   "source": [
    "<div class=\"alert alert-success\" role=\"alert\">\n",
    "Reviewer's comment v. 1:\n",
    "    \n",
    "Ok, lets move to the data analysis.\n",
    "</div>"
   ]
  },
  {
   "cell_type": "markdown",
   "metadata": {},
   "source": [
    "# <a id=\"2\">Analyze the data"
   ]
  },
  {
   "cell_type": "markdown",
   "metadata": {},
   "source": [
    "**How the concentrations of metals (Au, Ag, Pb) change depending on the purification stage**"
   ]
  },
  {
   "cell_type": "markdown",
   "metadata": {},
   "source": [
    "- To check the distribution of concentration of metals, we plot the distribution of concentrations across each stage"
   ]
  },
  {
   "cell_type": "code",
   "execution_count": 25,
   "metadata": {},
   "outputs": [],
   "source": [
    "metals = ['au', 'ag', 'pb']\n",
    "stage_parameter = ['rougher.output.concentrate', 'primary_cleaner.output.concentrate', 'final.output.concentrate']\n",
    "xcolors = ['pink', 'yellow', 'dodgerblue']"
   ]
  },
  {
   "cell_type": "code",
   "execution_count": 26,
   "metadata": {},
   "outputs": [],
   "source": [
    "# function to plot distribution of concentrations\n",
    "def plot_distribution(df):\n",
    "    kwargs = dict(hist_kws={'alpha': 0.6}, kde_kws={'linewidth':2})\n",
    "    for element in metals:\n",
    "        plt.figure(figsize=(11,8), dpi=80)\n",
    "        for features, colour in zip(stage_parameter, xcolors):\n",
    "            sns.distplot(df[features+'_'+element], color=colour, label=features+'_'+element, **kwargs)\n",
    "            plt.axvline(0, c=\"r\")\n",
    "        plt.title('Distribution of ' +element+ ' concentrations across purification stage')\n",
    "        plt.xlabel('Concentration of '+element)\n",
    "        plt.legend();"
   ]
  },
  {
   "cell_type": "code",
   "execution_count": 27,
   "metadata": {},
   "outputs": [
    {
     "data": {
      "image/png": "[encoded data removed]",
      "text/plain": [
       "<Figure size 880x640 with 1 Axes>"
      ]
     },
     "metadata": {
      "needs_background": "light"
     },
     "output_type": "display_data"
    },
    {
     "data": {
      "image/png": "[encoded data removed]",
      "text/plain": [
       "<Figure size 880x640 with 1 Axes>"
      ]
     },
     "metadata": {
      "needs_background": "light"
     },
     "output_type": "display_data"
    },
    {
     "data": {
      "image/png": "[encoded data removed]",
      "text/plain": [
       "<Figure size 880x640 with 1 Axes>"
      ]
     },
     "metadata": {
      "needs_background": "light"
     },
     "output_type": "display_data"
    }
   ],
   "source": [
    "plot_distribution(df_train)"
   ]
  },
  {
   "cell_type": "markdown",
   "metadata": {},
   "source": [
    "<div class=\"alert alert-success\" role=\"alert\">\n",
    "Reviewer's comment v. 1:\n",
    "    \n",
    "An excellent graphs 👍👍👍\n",
    "</div>"
   ]
  },
  {
   "cell_type": "markdown",
   "metadata": {},
   "source": [
    "**Conclusion**\n",
    "\n",
    "- We can see from those plots that:\n",
    "    - the concentration of gold (au) increased from `rougher.output` to `final.output`\n",
    "    - which means that the process of purification is working as it should\n",
    "    - the concentration of other metals decreased like (ag), or stay same suck as (pb)"
   ]
  },
  {
   "cell_type": "markdown",
   "metadata": {},
   "source": [
    "<div class=\"alert alert-success\" role=\"alert\">\n",
    "Reviewer's comment v. 1:\n",
    "    \n",
    "Well done that you clearly described changes in concentrations.\n",
    "</div>"
   ]
  },
  {
   "cell_type": "markdown",
   "metadata": {},
   "source": [
    "**Compare the feed particle size distributions in the training set and in the test set**"
   ]
  },
  {
   "cell_type": "code",
   "execution_count": 28,
   "metadata": {},
   "outputs": [],
   "source": [
    "#plot distribution of feed particle size\n",
    "def plot_particle_size_distribution(df):\n",
    "    kwargs = dict(hist_kws={'alpha': 0.5}, kde_kws={'linewidth':2})\n",
    "    plt.figure(figsize=(10,6), dpi=80)\n",
    "    for features, colour, labels in zip(input_feed, xcolors, xlabel_):\n",
    "        sns.distplot(features, color=colour, label=labels, **kwargs)\n",
    "        plt.axvline(0, c=\"r\")\n",
    "    plt.title('Feed particle size distribution for '+ [x.split('__', 1)[1] for x in xlabel_][0])\n",
    "    plt.xlabel('Distribution of feed particle size')\n",
    "    plt.legend();"
   ]
  },
  {
   "cell_type": "markdown",
   "metadata": {},
   "source": [
    "<div class=\"alert alert-danger\" role=\"alert\">\n",
    "Reviewer's comment v. 1:\n",
    "    \n",
    "Please note that as Data Scientist you should describe graphs in details and make a corresponding conclusion. Here it will be nice to describe the type of distribution, an outliers and so on. Please note that this applies to all other graphs too.\n",
    "    \n",
    "Please see the following link how graphs can be described: http://explainwell.org/index.php/table-of-contents-handle-numbers/phrases-and-6-analysis-steps-to-interpret-a-graph/\n",
    "</div>"
   ]
  },
  {
   "cell_type": "code",
   "execution_count": 29,
   "metadata": {},
   "outputs": [
    {
     "name": "stdout",
     "output_type": "stream",
     "text": [
      "Average particle size for rougher input train set is 60.19\n",
      "Average particle size for primary cleaner input train set is 7.30\n",
      "\n",
      "Average particle size for rougher input test set is 55.90\n",
      "Average particle size for primary cleaner input test set is 7.26\n"
     ]
    }
   ],
   "source": [
    "# average particle size for train set\n",
    "rougher_input_train = df_train['rougher.input.feed_size'].mean()\n",
    "rougher_input_test = df_test['rougher.input.feed_size'].mean()\n",
    "# average particle size for test set\n",
    "primary_cleaner_input_train, primary_cleaner_input_test = df_train['primary_cleaner.input.feed_size'].mean(), df_test['primary_cleaner.input.feed_size'].mean()\n",
    "\n",
    "print('Average particle size for rougher input train set is {:.2f}'.format(rougher_input_train))\n",
    "print('Average particle size for primary cleaner input train set is {:.2f}'.format(primary_cleaner_input_train))\n",
    "print()\n",
    "print('Average particle size for rougher input test set is {:.2f}'.format(rougher_input_test))\n",
    "print('Average particle size for primary cleaner input test set is {:.2f}'.format(primary_cleaner_input_test))"
   ]
  },
  {
   "cell_type": "code",
   "execution_count": 30,
   "metadata": {},
   "outputs": [
    {
     "data": {
      "image/png": "[encoded data removed]",
      "text/plain": [
       "<Figure size 800x480 with 1 Axes>"
      ]
     },
     "metadata": {
      "needs_background": "light"
     },
     "output_type": "display_data"
    }
   ],
   "source": [
    "input_feed = [df_train['rougher.input.feed_size'], df_test['rougher.input.feed_size']]\n",
    "xlabel_ = ['df_train__rougher.input.feed_size', 'df_test__rougher.input.feed_size']\n",
    "xcolors = ['pink', 'dodgerblue']\n",
    "plot_particle_size_distribution(df_train)"
   ]
  },
  {
   "cell_type": "markdown",
   "metadata": {},
   "source": [
    "- We can see that the average particle size for train and test sets is 60 and 56 respectively for rougher.input.feed_size. \n",
    "- the particle size distributions are similar. "
   ]
  },
  {
   "cell_type": "code",
   "execution_count": 31,
   "metadata": {},
   "outputs": [
    {
     "data": {
      "image/png": "[encoded data removed]",
      "text/plain": [
       "<Figure size 800x480 with 1 Axes>"
      ]
     },
     "metadata": {
      "needs_background": "light"
     },
     "output_type": "display_data"
    }
   ],
   "source": [
    "input_feed = [df_train['primary_cleaner.input.feed_size'], df_test['primary_cleaner.input.feed_size']]\n",
    "xlabel_ = ['df_train__primary_cleaner.input.feed_size', 'df_test__primary_cleaner.input.feed_size']\n",
    "xcolors = ['pink', 'dodgerblue']\n",
    "plot_particle_size_distribution(df_test)"
   ]
  },
  {
   "cell_type": "markdown",
   "metadata": {},
   "source": [
    "- We can see that the average particle size for train and test sets is 7.30 and 7.26 respectively for primary_cleaner.input.feed_size. Which means that they are almost similar\n",
    "- the particle size distributions look similar too"
   ]
  },
  {
   "cell_type": "markdown",
   "metadata": {},
   "source": [
    "<div class=\"alert alert-success\" role=\"alert\">\n",
    "Reviewer's comment v. 2:\n",
    "    \n",
    "It's great that you clearly analysed graphs 👍👍👍\n",
    "</div>"
   ]
  },
  {
   "cell_type": "markdown",
   "metadata": {},
   "source": [
    "**Conclusion**\n",
    "\n",
    "From our comparison of the feed particle size distribution for for the training and the test set, we can say that distribution hasnt any significant variation, which means that the model evaluation is correct\n",
    "\n",
    "From this we conclude that we can proceed to the training and testing on the dataset(df_train, df_test) with no problem."
   ]
  },
  {
   "cell_type": "markdown",
   "metadata": {},
   "source": [
    "<div class=\"alert alert-danger\" role=\"alert\">\n",
    "Reviewer's comment v. 1:\n",
    "    \n",
    "You correctly noted that the distributions look similar, but please calculate the average particle size for train and test.\n",
    "</div>"
   ]
  },
  {
   "cell_type": "markdown",
   "metadata": {},
   "source": [
    "<div class=\"alert alert-success\" role=\"alert\">\n",
    "Reviewer's comment v. 2:\n",
    "    \n",
    "You are right, particles from train and test have almost the same size.\n",
    "</div>"
   ]
  },
  {
   "cell_type": "markdown",
   "metadata": {},
   "source": [
    "**Do you notice any abnormal values in the total distribution?**"
   ]
  },
  {
   "cell_type": "markdown",
   "metadata": {},
   "source": [
    "- Let's check if there is any anomalies in total distribution of all substances at different stages"
   ]
  },
  {
   "cell_type": "code",
   "execution_count": 32,
   "metadata": {},
   "outputs": [],
   "source": [
    "#rougher.input.feed\n",
    "df_full['rougher.input.feed.total_concentration'] = df_full[['rougher.input.feed_ag', 'rougher.input.feed_pb', 'rougher.input.feed_sol', 'rougher.input.feed_au']].sum(axis=1)"
   ]
  },
  {
   "cell_type": "code",
   "execution_count": 33,
   "metadata": {},
   "outputs": [
    {
     "data": {
      "image/png": "[encoded data removed]",
      "text/plain": [
       "<Figure size 792x504 with 1 Axes>"
      ]
     },
     "metadata": {
      "needs_background": "light"
     },
     "output_type": "display_data"
    }
   ],
   "source": [
    "#are there any anomalies\n",
    "stage_1_total_conc = df_full['rougher.input.feed.total_concentration']\n",
    "plt.figure(figsize=(11,7))\n",
    "plt.hist(stage_1_total_conc, density=True, bins=100)\n",
    "plt.xlabel('rougher.input.feed_total concentration')\n",
    "plt.ylabel('frequency')\n",
    "plt.title(\"Distribution of total concentration in raw feed\");"
   ]
  },
  {
   "cell_type": "markdown",
   "metadata": {},
   "source": [
    "- This plot represents the distribution of total concentration in the raw feed. \n",
    "- We can clearly see that the distribution is skewed left\n",
    "- also we have a pick around 0\n",
    "\n",
    "Which means that we clearly have anomaly or outlier in the data that should be removed."
   ]
  },
  {
   "cell_type": "markdown",
   "metadata": {},
   "source": [
    "<div class=\"alert alert-danger\" role=\"alert\">\n",
    "Reviewer's comment v. 1:\n",
    "    \n",
    "Could you please add descriptions to the graphs?\n",
    "</div>"
   ]
  },
  {
   "cell_type": "markdown",
   "metadata": {},
   "source": [
    "<div class=\"alert alert-success\" role=\"alert\">\n",
    "Reviewer's comment v. 2:\n",
    "    \n",
    "Yes, you correctly noted a large amount of an anomaly values at zero point. Yes, the distribution is skewed to the left.\n",
    "</div>"
   ]
  },
  {
   "cell_type": "code",
   "execution_count": 34,
   "metadata": {},
   "outputs": [],
   "source": [
    "#rougher.output.concentrate\n",
    "df_full['rougher.output.concentrate.total_concentration'] = df_full[['rougher.output.concentrate_ag', 'rougher.output.concentrate_pb', 'rougher.output.concentrate_sol', 'rougher.output.concentrate_au']].sum(axis=1)"
   ]
  },
  {
   "cell_type": "code",
   "execution_count": 35,
   "metadata": {},
   "outputs": [
    {
     "data": {
      "image/png": "[encoded data removed]",
      "text/plain": [
       "<Figure size 792x504 with 1 Axes>"
      ]
     },
     "metadata": {
      "needs_background": "light"
     },
     "output_type": "display_data"
    }
   ],
   "source": [
    "##are there any anomalies\n",
    "stage_2_total_conc = df_full['rougher.output.concentrate.total_concentration']\n",
    "plt.figure(figsize=(11,7))\n",
    "plt.hist(stage_2_total_conc, density=True, bins=100)\n",
    "plt.xlabel('rougher.output.concentrate_total concentration')\n",
    "plt.ylabel('frequency')\n",
    "plt.title(\"Distribution of total concentration in rougher concentrate\");"
   ]
  },
  {
   "cell_type": "markdown",
   "metadata": {},
   "source": [
    "Same thing for this graph:\n",
    "\n",
    "- This plot represents the distribution of total concentration in rougher concentrate \n",
    "- We can clearly see that the distribution is skewed left\n",
    "- also we have a pick around 0\n",
    "\n",
    "Which means that we clearly have anomaly or outlier in the data that should be removed."
   ]
  },
  {
   "cell_type": "markdown",
   "metadata": {},
   "source": [
    "<div class=\"alert alert-success\" role=\"alert\">\n",
    "Reviewer's comment v. 2:\n",
    "    \n",
    "Yes, you are right :)\n",
    "</div>"
   ]
  },
  {
   "cell_type": "code",
   "execution_count": 36,
   "metadata": {},
   "outputs": [],
   "source": [
    "#final.output.concentrate\n",
    "df_full['final.output.concentrate.total_concentration'] = df_full[['final.output.concentrate_ag', 'final.output.concentrate_pb', 'final.output.concentrate_sol', 'final.output.concentrate_au']].sum(axis=1)"
   ]
  },
  {
   "cell_type": "code",
   "execution_count": 37,
   "metadata": {},
   "outputs": [
    {
     "data": {
      "image/png": "[encoded data removed]",
      "text/plain": [
       "<Figure size 792x504 with 1 Axes>"
      ]
     },
     "metadata": {
      "needs_background": "light"
     },
     "output_type": "display_data"
    }
   ],
   "source": [
    "##are there any anomalies\n",
    "stage_3_total_conc = df_full['final.output.concentrate.total_concentration'] \n",
    "plt.figure(figsize=(11,7))\n",
    "plt.hist(stage_3_total_conc, density=True, bins=100)\n",
    "plt.xlabel('final.output.concentrate_total concentration')\n",
    "plt.ylabel('frequency')\n",
    "plt.title(\"Distribution of total concentration in final concentrate\");"
   ]
  },
  {
   "cell_type": "markdown",
   "metadata": {},
   "source": [
    "Same thing for this graph:\n",
    "\n",
    "- This plot represents the distribution of total concentration in final concentrate \n",
    "- We can clearly see that the distribution is skewed left\n",
    "- also we have a pick around 0 (anomaly/outlier)\n",
    "\n",
    "Which means that we clearly have anomaly or outlier in the data that should be removed."
   ]
  },
  {
   "cell_type": "markdown",
   "metadata": {},
   "source": [
    "**Conclusion**\n",
    "\n",
    "After ploting histograms, \n",
    "- We see a peak around zero in all the 3 plots, it is obvious that these are anomalies, since it cant be that the concentrations of all substances together at some stage were equal to zero.\n",
    "- A possible cause of anomalies is errors that could accure from the system equipments, and the data was recorded in this form and cannot be reloaded... of simply the data was loaded under unusual conditions.\n",
    "- In all cases, what we are sure about is that we should get rid of those anomalies/outliers. To do that we will remove them by setting a treshold of 0.8 & 0.95"
   ]
  },
  {
   "cell_type": "markdown",
   "metadata": {},
   "source": [
    "<div class=\"alert alert-danger\" role=\"alert\">\n",
    "Reviewer's comment v. 1:\n",
    "    \n",
    "Could you please explain a possible reasons of zero values of concentrations?\n",
    "</div>"
   ]
  },
  {
   "cell_type": "markdown",
   "metadata": {},
   "source": [
    "<div class=\"alert alert-success\" role=\"alert\">\n",
    "Reviewer's comment v. 2:\n",
    "    \n",
    "Yes, zero values in the concentrations can be due the technical problems with measurements or technical errors.\n",
    "</div>"
   ]
  },
  {
   "cell_type": "code",
   "execution_count": 38,
   "metadata": {},
   "outputs": [
    {
     "name": "stdout",
     "output_type": "stream",
     "text": [
      "The shape of the new dataset is:  (19904, 90)\n",
      "\n"
     ]
    },
    {
     "data": {
      "text/html": [
       "<div>\n",
       "<style scoped>\n",
       "    .dataframe tbody tr th:only-of-type {\n",
       "        vertical-align: middle;\n",
       "    }\n",
       "\n",
       "    .dataframe tbody tr th {\n",
       "        vertical-align: top;\n",
       "    }\n",
       "\n",
       "    .dataframe thead th {\n",
       "        text-align: right;\n",
       "    }\n",
       "</style>\n",
       "<table border=\"1\" class=\"dataframe\">\n",
       "  <thead>\n",
       "    <tr style=\"text-align: right;\">\n",
       "      <th></th>\n",
       "      <th>final.output.concentrate_ag</th>\n",
       "      <th>final.output.concentrate_pb</th>\n",
       "      <th>final.output.concentrate_sol</th>\n",
       "      <th>final.output.concentrate_au</th>\n",
       "      <th>final.output.recovery</th>\n",
       "      <th>final.output.tail_ag</th>\n",
       "      <th>final.output.tail_pb</th>\n",
       "      <th>final.output.tail_sol</th>\n",
       "      <th>final.output.tail_au</th>\n",
       "      <th>primary_cleaner.input.sulfate</th>\n",
       "      <th>...</th>\n",
       "      <th>secondary_cleaner.state.floatbank4_b_level</th>\n",
       "      <th>secondary_cleaner.state.floatbank5_a_air</th>\n",
       "      <th>secondary_cleaner.state.floatbank5_a_level</th>\n",
       "      <th>secondary_cleaner.state.floatbank5_b_air</th>\n",
       "      <th>secondary_cleaner.state.floatbank5_b_level</th>\n",
       "      <th>secondary_cleaner.state.floatbank6_a_air</th>\n",
       "      <th>secondary_cleaner.state.floatbank6_a_level</th>\n",
       "      <th>rougher.input.feed.total_concentration</th>\n",
       "      <th>rougher.output.concentrate.total_concentration</th>\n",
       "      <th>final.output.concentrate.total_concentration</th>\n",
       "    </tr>\n",
       "  </thead>\n",
       "  <tbody>\n",
       "    <tr>\n",
       "      <td>count</td>\n",
       "      <td>19904.000000</td>\n",
       "      <td>19904.000000</td>\n",
       "      <td>19904.000000</td>\n",
       "      <td>19904.000000</td>\n",
       "      <td>19904.000000</td>\n",
       "      <td>19904.000000</td>\n",
       "      <td>19904.000000</td>\n",
       "      <td>19904.000000</td>\n",
       "      <td>19904.000000</td>\n",
       "      <td>19904.000000</td>\n",
       "      <td>...</td>\n",
       "      <td>19904.000000</td>\n",
       "      <td>19904.000000</td>\n",
       "      <td>19904.000000</td>\n",
       "      <td>19904.000000</td>\n",
       "      <td>19904.000000</td>\n",
       "      <td>19904.000000</td>\n",
       "      <td>19904.000000</td>\n",
       "      <td>19904.000000</td>\n",
       "      <td>19904.000000</td>\n",
       "      <td>19904.000000</td>\n",
       "    </tr>\n",
       "    <tr>\n",
       "      <td>mean</td>\n",
       "      <td>5.250317</td>\n",
       "      <td>10.005729</td>\n",
       "      <td>9.437927</td>\n",
       "      <td>44.024213</td>\n",
       "      <td>67.274249</td>\n",
       "      <td>9.722925</td>\n",
       "      <td>2.695731</td>\n",
       "      <td>10.405297</td>\n",
       "      <td>3.059586</td>\n",
       "      <td>143.984616</td>\n",
       "      <td>...</td>\n",
       "      <td>-461.784848</td>\n",
       "      <td>15.670516</td>\n",
       "      <td>-488.682801</td>\n",
       "      <td>12.217680</td>\n",
       "      <td>-487.183956</td>\n",
       "      <td>18.941251</td>\n",
       "      <td>-505.444267</td>\n",
       "      <td>57.056355</td>\n",
       "      <td>69.231266</td>\n",
       "      <td>68.718185</td>\n",
       "    </tr>\n",
       "    <tr>\n",
       "      <td>std</td>\n",
       "      <td>1.427628</td>\n",
       "      <td>1.575505</td>\n",
       "      <td>2.882103</td>\n",
       "      <td>4.686102</td>\n",
       "      <td>9.619950</td>\n",
       "      <td>2.396828</td>\n",
       "      <td>0.980749</td>\n",
       "      <td>3.041419</td>\n",
       "      <td>0.971711</td>\n",
       "      <td>45.810767</td>\n",
       "      <td>...</td>\n",
       "      <td>66.674388</td>\n",
       "      <td>5.510786</td>\n",
       "      <td>35.460418</td>\n",
       "      <td>5.307127</td>\n",
       "      <td>39.196781</td>\n",
       "      <td>5.541075</td>\n",
       "      <td>38.854243</td>\n",
       "      <td>7.863282</td>\n",
       "      <td>9.231440</td>\n",
       "      <td>6.498115</td>\n",
       "    </tr>\n",
       "    <tr>\n",
       "      <td>min</td>\n",
       "      <td>0.000000</td>\n",
       "      <td>0.135894</td>\n",
       "      <td>0.000000</td>\n",
       "      <td>0.225775</td>\n",
       "      <td>0.000000</td>\n",
       "      <td>0.000000</td>\n",
       "      <td>0.000000</td>\n",
       "      <td>0.000000</td>\n",
       "      <td>0.000000</td>\n",
       "      <td>0.003112</td>\n",
       "      <td>...</td>\n",
       "      <td>-800.836914</td>\n",
       "      <td>-0.372054</td>\n",
       "      <td>-797.323986</td>\n",
       "      <td>0.528083</td>\n",
       "      <td>-800.220337</td>\n",
       "      <td>-0.079426</td>\n",
       "      <td>-809.741464</td>\n",
       "      <td>0.913565</td>\n",
       "      <td>1.064979</td>\n",
       "      <td>0.835351</td>\n",
       "    </tr>\n",
       "    <tr>\n",
       "      <td>25%</td>\n",
       "      <td>4.278200</td>\n",
       "      <td>9.146978</td>\n",
       "      <td>7.629914</td>\n",
       "      <td>43.275641</td>\n",
       "      <td>63.350638</td>\n",
       "      <td>8.077092</td>\n",
       "      <td>2.023136</td>\n",
       "      <td>8.763196</td>\n",
       "      <td>2.463490</td>\n",
       "      <td>113.362840</td>\n",
       "      <td>...</td>\n",
       "      <td>-500.187016</td>\n",
       "      <td>10.988093</td>\n",
       "      <td>-500.458352</td>\n",
       "      <td>8.977880</td>\n",
       "      <td>-500.130066</td>\n",
       "      <td>14.983458</td>\n",
       "      <td>-500.739496</td>\n",
       "      <td>53.372708</td>\n",
       "      <td>66.195289</td>\n",
       "      <td>67.860212</td>\n",
       "    </tr>\n",
       "    <tr>\n",
       "      <td>50%</td>\n",
       "      <td>5.108484</td>\n",
       "      <td>10.105279</td>\n",
       "      <td>9.191454</td>\n",
       "      <td>44.936239</td>\n",
       "      <td>68.236471</td>\n",
       "      <td>9.809782</td>\n",
       "      <td>2.739593</td>\n",
       "      <td>10.527450</td>\n",
       "      <td>2.996648</td>\n",
       "      <td>143.095289</td>\n",
       "      <td>...</td>\n",
       "      <td>-499.473279</td>\n",
       "      <td>14.997593</td>\n",
       "      <td>-499.793222</td>\n",
       "      <td>11.021120</td>\n",
       "      <td>-499.934117</td>\n",
       "      <td>19.955170</td>\n",
       "      <td>-500.047765</td>\n",
       "      <td>57.549919</td>\n",
       "      <td>70.342238</td>\n",
       "      <td>69.554069</td>\n",
       "    </tr>\n",
       "    <tr>\n",
       "      <td>75%</td>\n",
       "      <td>5.952000</td>\n",
       "      <td>11.043546</td>\n",
       "      <td>10.969702</td>\n",
       "      <td>46.231796</td>\n",
       "      <td>72.741328</td>\n",
       "      <td>11.217990</td>\n",
       "      <td>3.344845</td>\n",
       "      <td>12.029298</td>\n",
       "      <td>3.588434</td>\n",
       "      <td>175.275803</td>\n",
       "      <td>...</td>\n",
       "      <td>-400.144280</td>\n",
       "      <td>18.025555</td>\n",
       "      <td>-498.348094</td>\n",
       "      <td>14.017480</td>\n",
       "      <td>-499.431386</td>\n",
       "      <td>23.991131</td>\n",
       "      <td>-499.481118</td>\n",
       "      <td>61.988720</td>\n",
       "      <td>74.598470</td>\n",
       "      <td>71.344193</td>\n",
       "    </tr>\n",
       "    <tr>\n",
       "      <td>max</td>\n",
       "      <td>16.001945</td>\n",
       "      <td>17.031899</td>\n",
       "      <td>19.615720</td>\n",
       "      <td>53.611374</td>\n",
       "      <td>100.000000</td>\n",
       "      <td>19.552149</td>\n",
       "      <td>6.086532</td>\n",
       "      <td>22.861749</td>\n",
       "      <td>9.789625</td>\n",
       "      <td>265.983123</td>\n",
       "      <td>...</td>\n",
       "      <td>-7.834746</td>\n",
       "      <td>43.709931</td>\n",
       "      <td>-244.483566</td>\n",
       "      <td>27.926001</td>\n",
       "      <td>-137.740004</td>\n",
       "      <td>32.188906</td>\n",
       "      <td>-104.427459</td>\n",
       "      <td>76.978947</td>\n",
       "      <td>90.964431</td>\n",
       "      <td>80.210644</td>\n",
       "    </tr>\n",
       "  </tbody>\n",
       "</table>\n",
       "<p>8 rows × 89 columns</p>\n",
       "</div>"
      ],
      "text/plain": [
       "       final.output.concentrate_ag  final.output.concentrate_pb  \\\n",
       "count                 19904.000000                 19904.000000   \n",
       "mean                      5.250317                    10.005729   \n",
       "std                       1.427628                     1.575505   \n",
       "min                       0.000000                     0.135894   \n",
       "25%                       4.278200                     9.146978   \n",
       "50%                       5.108484                    10.105279   \n",
       "75%                       5.952000                    11.043546   \n",
       "max                      16.001945                    17.031899   \n",
       "\n",
       "       final.output.concentrate_sol  final.output.concentrate_au  \\\n",
       "count                  19904.000000                 19904.000000   \n",
       "mean                       9.437927                    44.024213   \n",
       "std                        2.882103                     4.686102   \n",
       "min                        0.000000                     0.225775   \n",
       "25%                        7.629914                    43.275641   \n",
       "50%                        9.191454                    44.936239   \n",
       "75%                       10.969702                    46.231796   \n",
       "max                       19.615720                    53.611374   \n",
       "\n",
       "       final.output.recovery  final.output.tail_ag  final.output.tail_pb  \\\n",
       "count           19904.000000          19904.000000          19904.000000   \n",
       "mean               67.274249              9.722925              2.695731   \n",
       "std                 9.619950              2.396828              0.980749   \n",
       "min                 0.000000              0.000000              0.000000   \n",
       "25%                63.350638              8.077092              2.023136   \n",
       "50%                68.236471              9.809782              2.739593   \n",
       "75%                72.741328             11.217990              3.344845   \n",
       "max               100.000000             19.552149              6.086532   \n",
       "\n",
       "       final.output.tail_sol  final.output.tail_au  \\\n",
       "count           19904.000000          19904.000000   \n",
       "mean               10.405297              3.059586   \n",
       "std                 3.041419              0.971711   \n",
       "min                 0.000000              0.000000   \n",
       "25%                 8.763196              2.463490   \n",
       "50%                10.527450              2.996648   \n",
       "75%                12.029298              3.588434   \n",
       "max                22.861749              9.789625   \n",
       "\n",
       "       primary_cleaner.input.sulfate  ...  \\\n",
       "count                   19904.000000  ...   \n",
       "mean                      143.984616  ...   \n",
       "std                        45.810767  ...   \n",
       "min                         0.003112  ...   \n",
       "25%                       113.362840  ...   \n",
       "50%                       143.095289  ...   \n",
       "75%                       175.275803  ...   \n",
       "max                       265.983123  ...   \n",
       "\n",
       "       secondary_cleaner.state.floatbank4_b_level  \\\n",
       "count                                19904.000000   \n",
       "mean                                  -461.784848   \n",
       "std                                     66.674388   \n",
       "min                                   -800.836914   \n",
       "25%                                   -500.187016   \n",
       "50%                                   -499.473279   \n",
       "75%                                   -400.144280   \n",
       "max                                     -7.834746   \n",
       "\n",
       "       secondary_cleaner.state.floatbank5_a_air  \\\n",
       "count                              19904.000000   \n",
       "mean                                  15.670516   \n",
       "std                                    5.510786   \n",
       "min                                   -0.372054   \n",
       "25%                                   10.988093   \n",
       "50%                                   14.997593   \n",
       "75%                                   18.025555   \n",
       "max                                   43.709931   \n",
       "\n",
       "       secondary_cleaner.state.floatbank5_a_level  \\\n",
       "count                                19904.000000   \n",
       "mean                                  -488.682801   \n",
       "std                                     35.460418   \n",
       "min                                   -797.323986   \n",
       "25%                                   -500.458352   \n",
       "50%                                   -499.793222   \n",
       "75%                                   -498.348094   \n",
       "max                                   -244.483566   \n",
       "\n",
       "       secondary_cleaner.state.floatbank5_b_air  \\\n",
       "count                              19904.000000   \n",
       "mean                                  12.217680   \n",
       "std                                    5.307127   \n",
       "min                                    0.528083   \n",
       "25%                                    8.977880   \n",
       "50%                                   11.021120   \n",
       "75%                                   14.017480   \n",
       "max                                   27.926001   \n",
       "\n",
       "       secondary_cleaner.state.floatbank5_b_level  \\\n",
       "count                                19904.000000   \n",
       "mean                                  -487.183956   \n",
       "std                                     39.196781   \n",
       "min                                   -800.220337   \n",
       "25%                                   -500.130066   \n",
       "50%                                   -499.934117   \n",
       "75%                                   -499.431386   \n",
       "max                                   -137.740004   \n",
       "\n",
       "       secondary_cleaner.state.floatbank6_a_air  \\\n",
       "count                              19904.000000   \n",
       "mean                                  18.941251   \n",
       "std                                    5.541075   \n",
       "min                                   -0.079426   \n",
       "25%                                   14.983458   \n",
       "50%                                   19.955170   \n",
       "75%                                   23.991131   \n",
       "max                                   32.188906   \n",
       "\n",
       "       secondary_cleaner.state.floatbank6_a_level  \\\n",
       "count                                19904.000000   \n",
       "mean                                  -505.444267   \n",
       "std                                     38.854243   \n",
       "min                                   -809.741464   \n",
       "25%                                   -500.739496   \n",
       "50%                                   -500.047765   \n",
       "75%                                   -499.481118   \n",
       "max                                   -104.427459   \n",
       "\n",
       "       rougher.input.feed.total_concentration  \\\n",
       "count                            19904.000000   \n",
       "mean                                57.056355   \n",
       "std                                  7.863282   \n",
       "min                                  0.913565   \n",
       "25%                                 53.372708   \n",
       "50%                                 57.549919   \n",
       "75%                                 61.988720   \n",
       "max                                 76.978947   \n",
       "\n",
       "       rougher.output.concentrate.total_concentration  \\\n",
       "count                                    19904.000000   \n",
       "mean                                        69.231266   \n",
       "std                                          9.231440   \n",
       "min                                          1.064979   \n",
       "25%                                         66.195289   \n",
       "50%                                         70.342238   \n",
       "75%                                         74.598470   \n",
       "max                                         90.964431   \n",
       "\n",
       "       final.output.concentrate.total_concentration  \n",
       "count                                  19904.000000  \n",
       "mean                                      68.718185  \n",
       "std                                        6.498115  \n",
       "min                                        0.835351  \n",
       "25%                                       67.860212  \n",
       "50%                                       69.554069  \n",
       "75%                                       71.344193  \n",
       "max                                       80.210644  \n",
       "\n",
       "[8 rows x 89 columns]"
      ]
     },
     "execution_count": 38,
     "metadata": {},
     "output_type": "execute_result"
    }
   ],
   "source": [
    "# filtered full dataset without anomaly\n",
    "df_full_data = df_full[(df_full['rougher.input.feed.total_concentration'] > 0.8) & \n",
    "                                        (df_full['rougher.output.concentrate.total_concentration'] > 0.95) & \n",
    "                                        (df_full['final.output.concentrate.total_concentration'] > 0.8)]\n",
    "print('The shape of the new dataset is: ', format(df_full_data.shape))\n",
    "print()\n",
    "df_full_data.describe()"
   ]
  },
  {
   "cell_type": "markdown",
   "metadata": {},
   "source": [
    "- `date` = the index of the datasets"
   ]
  },
  {
   "cell_type": "code",
   "execution_count": 39,
   "metadata": {},
   "outputs": [],
   "source": [
    "# make date column the index in dataset\n",
    "df_test.set_index('date', inplace=True)\n",
    "df_train.set_index('date', inplace=True)\n",
    "df_full_data.set_index('date', inplace=True)"
   ]
  },
  {
   "cell_type": "markdown",
   "metadata": {},
   "source": [
    "- Using this new index is helping us to filter the `df_full` to a new train dataset by looking for the index of the train set that can be found in the full set.\n",
    "- which helps us to otain a train set without anomalies"
   ]
  },
  {
   "cell_type": "code",
   "execution_count": 40,
   "metadata": {},
   "outputs": [
    {
     "data": {
      "text/plain": [
       "(14614,)"
      ]
     },
     "execution_count": 40,
     "metadata": {},
     "output_type": "execute_result"
    }
   ],
   "source": [
    "# index of train set in full dataset\n",
    "df_train_data_index = df_full_data.index.intersection(df_train.index)\n",
    "df_train_data_index.shape"
   ]
  },
  {
   "cell_type": "code",
   "execution_count": 41,
   "metadata": {},
   "outputs": [
    {
     "data": {
      "text/html": [
       "<div>\n",
       "<style scoped>\n",
       "    .dataframe tbody tr th:only-of-type {\n",
       "        vertical-align: middle;\n",
       "    }\n",
       "\n",
       "    .dataframe tbody tr th {\n",
       "        vertical-align: top;\n",
       "    }\n",
       "\n",
       "    .dataframe thead th {\n",
       "        text-align: right;\n",
       "    }\n",
       "</style>\n",
       "<table border=\"1\" class=\"dataframe\">\n",
       "  <thead>\n",
       "    <tr style=\"text-align: right;\">\n",
       "      <th></th>\n",
       "      <th>date</th>\n",
       "      <th>final.output.concentrate_ag</th>\n",
       "      <th>final.output.concentrate_pb</th>\n",
       "      <th>final.output.concentrate_sol</th>\n",
       "      <th>final.output.concentrate_au</th>\n",
       "      <th>final.output.recovery</th>\n",
       "      <th>final.output.tail_ag</th>\n",
       "      <th>final.output.tail_pb</th>\n",
       "      <th>final.output.tail_sol</th>\n",
       "      <th>final.output.tail_au</th>\n",
       "      <th>...</th>\n",
       "      <th>secondary_cleaner.state.floatbank4_b_level</th>\n",
       "      <th>secondary_cleaner.state.floatbank5_a_air</th>\n",
       "      <th>secondary_cleaner.state.floatbank5_a_level</th>\n",
       "      <th>secondary_cleaner.state.floatbank5_b_air</th>\n",
       "      <th>secondary_cleaner.state.floatbank5_b_level</th>\n",
       "      <th>secondary_cleaner.state.floatbank6_a_air</th>\n",
       "      <th>secondary_cleaner.state.floatbank6_a_level</th>\n",
       "      <th>rougher.input.feed.total_concentration</th>\n",
       "      <th>rougher.output.concentrate.total_concentration</th>\n",
       "      <th>final.output.concentrate.total_concentration</th>\n",
       "    </tr>\n",
       "  </thead>\n",
       "  <tbody>\n",
       "    <tr>\n",
       "      <td>0</td>\n",
       "      <td>2016-01-15 00:00:00</td>\n",
       "      <td>6.055403</td>\n",
       "      <td>9.889648</td>\n",
       "      <td>5.507324</td>\n",
       "      <td>42.192020</td>\n",
       "      <td>70.541216</td>\n",
       "      <td>10.411962</td>\n",
       "      <td>0.895447</td>\n",
       "      <td>16.904297</td>\n",
       "      <td>2.143149</td>\n",
       "      <td>...</td>\n",
       "      <td>-504.715942</td>\n",
       "      <td>9.925633</td>\n",
       "      <td>-498.310211</td>\n",
       "      <td>8.079666</td>\n",
       "      <td>-500.470978</td>\n",
       "      <td>14.151341</td>\n",
       "      <td>-605.841980</td>\n",
       "      <td>51.680034</td>\n",
       "      <td>66.424950</td>\n",
       "      <td>63.644396</td>\n",
       "    </tr>\n",
       "    <tr>\n",
       "      <td>1</td>\n",
       "      <td>2016-01-15 01:00:00</td>\n",
       "      <td>6.029369</td>\n",
       "      <td>9.968944</td>\n",
       "      <td>5.257781</td>\n",
       "      <td>42.701629</td>\n",
       "      <td>69.266198</td>\n",
       "      <td>10.462676</td>\n",
       "      <td>0.927452</td>\n",
       "      <td>16.634514</td>\n",
       "      <td>2.224930</td>\n",
       "      <td>...</td>\n",
       "      <td>-501.331529</td>\n",
       "      <td>10.039245</td>\n",
       "      <td>-500.169983</td>\n",
       "      <td>7.984757</td>\n",
       "      <td>-500.582168</td>\n",
       "      <td>13.998353</td>\n",
       "      <td>-599.787184</td>\n",
       "      <td>50.659114</td>\n",
       "      <td>67.012710</td>\n",
       "      <td>63.957723</td>\n",
       "    </tr>\n",
       "    <tr>\n",
       "      <td>2</td>\n",
       "      <td>2016-01-15 02:00:00</td>\n",
       "      <td>6.055926</td>\n",
       "      <td>10.213995</td>\n",
       "      <td>5.383759</td>\n",
       "      <td>42.657501</td>\n",
       "      <td>68.116445</td>\n",
       "      <td>10.507046</td>\n",
       "      <td>0.953716</td>\n",
       "      <td>16.208849</td>\n",
       "      <td>2.257889</td>\n",
       "      <td>...</td>\n",
       "      <td>-501.133383</td>\n",
       "      <td>10.070913</td>\n",
       "      <td>-500.129135</td>\n",
       "      <td>8.013877</td>\n",
       "      <td>-500.517572</td>\n",
       "      <td>14.028663</td>\n",
       "      <td>-601.427363</td>\n",
       "      <td>50.609929</td>\n",
       "      <td>66.103793</td>\n",
       "      <td>64.311180</td>\n",
       "    </tr>\n",
       "    <tr>\n",
       "      <td>3</td>\n",
       "      <td>2016-01-15 03:00:00</td>\n",
       "      <td>6.047977</td>\n",
       "      <td>9.977019</td>\n",
       "      <td>4.858634</td>\n",
       "      <td>42.689819</td>\n",
       "      <td>68.347543</td>\n",
       "      <td>10.422762</td>\n",
       "      <td>0.883763</td>\n",
       "      <td>16.532835</td>\n",
       "      <td>2.146849</td>\n",
       "      <td>...</td>\n",
       "      <td>-501.193686</td>\n",
       "      <td>9.970366</td>\n",
       "      <td>-499.201640</td>\n",
       "      <td>7.977324</td>\n",
       "      <td>-500.255908</td>\n",
       "      <td>14.005551</td>\n",
       "      <td>-599.996129</td>\n",
       "      <td>51.061546</td>\n",
       "      <td>65.752751</td>\n",
       "      <td>63.573449</td>\n",
       "    </tr>\n",
       "    <tr>\n",
       "      <td>4</td>\n",
       "      <td>2016-01-15 04:00:00</td>\n",
       "      <td>6.148599</td>\n",
       "      <td>10.142511</td>\n",
       "      <td>4.939416</td>\n",
       "      <td>42.774141</td>\n",
       "      <td>66.927016</td>\n",
       "      <td>10.360302</td>\n",
       "      <td>0.792826</td>\n",
       "      <td>16.525686</td>\n",
       "      <td>2.055292</td>\n",
       "      <td>...</td>\n",
       "      <td>-501.053894</td>\n",
       "      <td>9.925709</td>\n",
       "      <td>-501.686727</td>\n",
       "      <td>7.894242</td>\n",
       "      <td>-500.356035</td>\n",
       "      <td>13.996647</td>\n",
       "      <td>-601.496691</td>\n",
       "      <td>47.859163</td>\n",
       "      <td>65.908382</td>\n",
       "      <td>64.004667</td>\n",
       "    </tr>\n",
       "  </tbody>\n",
       "</table>\n",
       "<p>5 rows × 90 columns</p>\n",
       "</div>"
      ],
      "text/plain": [
       "                 date  final.output.concentrate_ag  \\\n",
       "0 2016-01-15 00:00:00                     6.055403   \n",
       "1 2016-01-15 01:00:00                     6.029369   \n",
       "2 2016-01-15 02:00:00                     6.055926   \n",
       "3 2016-01-15 03:00:00                     6.047977   \n",
       "4 2016-01-15 04:00:00                     6.148599   \n",
       "\n",
       "   final.output.concentrate_pb  final.output.concentrate_sol  \\\n",
       "0                     9.889648                      5.507324   \n",
       "1                     9.968944                      5.257781   \n",
       "2                    10.213995                      5.383759   \n",
       "3                     9.977019                      4.858634   \n",
       "4                    10.142511                      4.939416   \n",
       "\n",
       "   final.output.concentrate_au  final.output.recovery  final.output.tail_ag  \\\n",
       "0                    42.192020              70.541216             10.411962   \n",
       "1                    42.701629              69.266198             10.462676   \n",
       "2                    42.657501              68.116445             10.507046   \n",
       "3                    42.689819              68.347543             10.422762   \n",
       "4                    42.774141              66.927016             10.360302   \n",
       "\n",
       "   final.output.tail_pb  final.output.tail_sol  final.output.tail_au  ...  \\\n",
       "0              0.895447              16.904297              2.143149  ...   \n",
       "1              0.927452              16.634514              2.224930  ...   \n",
       "2              0.953716              16.208849              2.257889  ...   \n",
       "3              0.883763              16.532835              2.146849  ...   \n",
       "4              0.792826              16.525686              2.055292  ...   \n",
       "\n",
       "   secondary_cleaner.state.floatbank4_b_level  \\\n",
       "0                                 -504.715942   \n",
       "1                                 -501.331529   \n",
       "2                                 -501.133383   \n",
       "3                                 -501.193686   \n",
       "4                                 -501.053894   \n",
       "\n",
       "   secondary_cleaner.state.floatbank5_a_air  \\\n",
       "0                                  9.925633   \n",
       "1                                 10.039245   \n",
       "2                                 10.070913   \n",
       "3                                  9.970366   \n",
       "4                                  9.925709   \n",
       "\n",
       "   secondary_cleaner.state.floatbank5_a_level  \\\n",
       "0                                 -498.310211   \n",
       "1                                 -500.169983   \n",
       "2                                 -500.129135   \n",
       "3                                 -499.201640   \n",
       "4                                 -501.686727   \n",
       "\n",
       "   secondary_cleaner.state.floatbank5_b_air  \\\n",
       "0                                  8.079666   \n",
       "1                                  7.984757   \n",
       "2                                  8.013877   \n",
       "3                                  7.977324   \n",
       "4                                  7.894242   \n",
       "\n",
       "   secondary_cleaner.state.floatbank5_b_level  \\\n",
       "0                                 -500.470978   \n",
       "1                                 -500.582168   \n",
       "2                                 -500.517572   \n",
       "3                                 -500.255908   \n",
       "4                                 -500.356035   \n",
       "\n",
       "   secondary_cleaner.state.floatbank6_a_air  \\\n",
       "0                                 14.151341   \n",
       "1                                 13.998353   \n",
       "2                                 14.028663   \n",
       "3                                 14.005551   \n",
       "4                                 13.996647   \n",
       "\n",
       "   secondary_cleaner.state.floatbank6_a_level  \\\n",
       "0                                 -605.841980   \n",
       "1                                 -599.787184   \n",
       "2                                 -601.427363   \n",
       "3                                 -599.996129   \n",
       "4                                 -601.496691   \n",
       "\n",
       "   rougher.input.feed.total_concentration  \\\n",
       "0                               51.680034   \n",
       "1                               50.659114   \n",
       "2                               50.609929   \n",
       "3                               51.061546   \n",
       "4                               47.859163   \n",
       "\n",
       "   rougher.output.concentrate.total_concentration  \\\n",
       "0                                       66.424950   \n",
       "1                                       67.012710   \n",
       "2                                       66.103793   \n",
       "3                                       65.752751   \n",
       "4                                       65.908382   \n",
       "\n",
       "   final.output.concentrate.total_concentration  \n",
       "0                                     63.644396  \n",
       "1                                     63.957723  \n",
       "2                                     64.311180  \n",
       "3                                     63.573449  \n",
       "4                                     64.004667  \n",
       "\n",
       "[5 rows x 90 columns]"
      ]
     },
     "execution_count": 41,
     "metadata": {},
     "output_type": "execute_result"
    }
   ],
   "source": [
    "# resulting train set\n",
    "df_train_data = df_full_data.loc[df_train_data_index]\n",
    "df_train_data.reset_index(inplace=True)\n",
    "df_train_data.head()"
   ]
  },
  {
   "cell_type": "markdown",
   "metadata": {},
   "source": [
    "<div class=\"alert alert-success\" role=\"alert\">\n",
    "Reviewer's comment v. 1:\n",
    "    \n",
    "👍👍👍\n",
    "</div>"
   ]
  },
  {
   "cell_type": "markdown",
   "metadata": {},
   "source": [
    "- We do the same process at the test dataset"
   ]
  },
  {
   "cell_type": "code",
   "execution_count": 42,
   "metadata": {},
   "outputs": [
    {
     "data": {
      "text/plain": [
       "(5290,)"
      ]
     },
     "execution_count": 42,
     "metadata": {},
     "output_type": "execute_result"
    }
   ],
   "source": [
    "# index of test set in full dataset\n",
    "df_test_data_index = df_full_data.index.intersection(df_test.index)\n",
    "df_test_data_index.shape"
   ]
  },
  {
   "cell_type": "code",
   "execution_count": 43,
   "metadata": {},
   "outputs": [
    {
     "data": {
      "text/html": [
       "<div>\n",
       "<style scoped>\n",
       "    .dataframe tbody tr th:only-of-type {\n",
       "        vertical-align: middle;\n",
       "    }\n",
       "\n",
       "    .dataframe tbody tr th {\n",
       "        vertical-align: top;\n",
       "    }\n",
       "\n",
       "    .dataframe thead th {\n",
       "        text-align: right;\n",
       "    }\n",
       "</style>\n",
       "<table border=\"1\" class=\"dataframe\">\n",
       "  <thead>\n",
       "    <tr style=\"text-align: right;\">\n",
       "      <th></th>\n",
       "      <th>date</th>\n",
       "      <th>final.output.concentrate_ag</th>\n",
       "      <th>final.output.concentrate_pb</th>\n",
       "      <th>final.output.concentrate_sol</th>\n",
       "      <th>final.output.concentrate_au</th>\n",
       "      <th>final.output.recovery</th>\n",
       "      <th>final.output.tail_ag</th>\n",
       "      <th>final.output.tail_pb</th>\n",
       "      <th>final.output.tail_sol</th>\n",
       "      <th>final.output.tail_au</th>\n",
       "      <th>...</th>\n",
       "      <th>secondary_cleaner.state.floatbank4_b_level</th>\n",
       "      <th>secondary_cleaner.state.floatbank5_a_air</th>\n",
       "      <th>secondary_cleaner.state.floatbank5_a_level</th>\n",
       "      <th>secondary_cleaner.state.floatbank5_b_air</th>\n",
       "      <th>secondary_cleaner.state.floatbank5_b_level</th>\n",
       "      <th>secondary_cleaner.state.floatbank6_a_air</th>\n",
       "      <th>secondary_cleaner.state.floatbank6_a_level</th>\n",
       "      <th>rougher.input.feed.total_concentration</th>\n",
       "      <th>rougher.output.concentrate.total_concentration</th>\n",
       "      <th>final.output.concentrate.total_concentration</th>\n",
       "    </tr>\n",
       "  </thead>\n",
       "  <tbody>\n",
       "    <tr>\n",
       "      <td>0</td>\n",
       "      <td>2016-09-01 00:59:59</td>\n",
       "      <td>7.578381</td>\n",
       "      <td>10.466295</td>\n",
       "      <td>11.990938</td>\n",
       "      <td>40.743891</td>\n",
       "      <td>70.273583</td>\n",
       "      <td>12.688885</td>\n",
       "      <td>3.844413</td>\n",
       "      <td>11.075686</td>\n",
       "      <td>4.537988</td>\n",
       "      <td>...</td>\n",
       "      <td>-501.289139</td>\n",
       "      <td>7.946562</td>\n",
       "      <td>-432.317850</td>\n",
       "      <td>4.872511</td>\n",
       "      <td>-500.037437</td>\n",
       "      <td>26.705889</td>\n",
       "      <td>-499.709414</td>\n",
       "      <td>72.871822</td>\n",
       "      <td>79.939838</td>\n",
       "      <td>70.779504</td>\n",
       "    </tr>\n",
       "    <tr>\n",
       "      <td>1</td>\n",
       "      <td>2016-09-01 01:59:59</td>\n",
       "      <td>7.813838</td>\n",
       "      <td>10.581152</td>\n",
       "      <td>12.216172</td>\n",
       "      <td>39.604292</td>\n",
       "      <td>68.910432</td>\n",
       "      <td>12.829171</td>\n",
       "      <td>3.918901</td>\n",
       "      <td>11.132824</td>\n",
       "      <td>4.675117</td>\n",
       "      <td>...</td>\n",
       "      <td>-499.634209</td>\n",
       "      <td>7.958270</td>\n",
       "      <td>-525.839648</td>\n",
       "      <td>4.878850</td>\n",
       "      <td>-500.162375</td>\n",
       "      <td>25.019940</td>\n",
       "      <td>-499.819438</td>\n",
       "      <td>71.669225</td>\n",
       "      <td>81.118880</td>\n",
       "      <td>70.215454</td>\n",
       "    </tr>\n",
       "    <tr>\n",
       "      <td>2</td>\n",
       "      <td>2016-09-01 02:59:59</td>\n",
       "      <td>7.623392</td>\n",
       "      <td>10.424024</td>\n",
       "      <td>12.313710</td>\n",
       "      <td>40.724190</td>\n",
       "      <td>68.143213</td>\n",
       "      <td>12.977846</td>\n",
       "      <td>4.026561</td>\n",
       "      <td>10.990134</td>\n",
       "      <td>4.828907</td>\n",
       "      <td>...</td>\n",
       "      <td>-500.827423</td>\n",
       "      <td>8.071056</td>\n",
       "      <td>-500.801673</td>\n",
       "      <td>4.905125</td>\n",
       "      <td>-499.828510</td>\n",
       "      <td>24.994862</td>\n",
       "      <td>-500.622559</td>\n",
       "      <td>73.202598</td>\n",
       "      <td>79.267044</td>\n",
       "      <td>71.085315</td>\n",
       "    </tr>\n",
       "    <tr>\n",
       "      <td>3</td>\n",
       "      <td>2016-09-01 03:59:59</td>\n",
       "      <td>8.552457</td>\n",
       "      <td>10.503229</td>\n",
       "      <td>13.074570</td>\n",
       "      <td>39.290997</td>\n",
       "      <td>67.776393</td>\n",
       "      <td>12.451947</td>\n",
       "      <td>3.780702</td>\n",
       "      <td>11.155935</td>\n",
       "      <td>4.969620</td>\n",
       "      <td>...</td>\n",
       "      <td>-499.474407</td>\n",
       "      <td>7.897085</td>\n",
       "      <td>-500.868509</td>\n",
       "      <td>4.931400</td>\n",
       "      <td>-499.963623</td>\n",
       "      <td>24.948919</td>\n",
       "      <td>-498.709987</td>\n",
       "      <td>70.757057</td>\n",
       "      <td>81.335254</td>\n",
       "      <td>71.421253</td>\n",
       "    </tr>\n",
       "    <tr>\n",
       "      <td>4</td>\n",
       "      <td>2016-09-01 04:59:59</td>\n",
       "      <td>8.078781</td>\n",
       "      <td>10.222788</td>\n",
       "      <td>12.475427</td>\n",
       "      <td>40.254524</td>\n",
       "      <td>61.467078</td>\n",
       "      <td>11.827846</td>\n",
       "      <td>3.632272</td>\n",
       "      <td>11.403663</td>\n",
       "      <td>5.256806</td>\n",
       "      <td>...</td>\n",
       "      <td>-500.397500</td>\n",
       "      <td>8.107890</td>\n",
       "      <td>-509.526725</td>\n",
       "      <td>4.957674</td>\n",
       "      <td>-500.360026</td>\n",
       "      <td>25.003331</td>\n",
       "      <td>-500.856333</td>\n",
       "      <td>68.654396</td>\n",
       "      <td>80.902631</td>\n",
       "      <td>71.031520</td>\n",
       "    </tr>\n",
       "  </tbody>\n",
       "</table>\n",
       "<p>5 rows × 90 columns</p>\n",
       "</div>"
      ],
      "text/plain": [
       "                 date  final.output.concentrate_ag  \\\n",
       "0 2016-09-01 00:59:59                     7.578381   \n",
       "1 2016-09-01 01:59:59                     7.813838   \n",
       "2 2016-09-01 02:59:59                     7.623392   \n",
       "3 2016-09-01 03:59:59                     8.552457   \n",
       "4 2016-09-01 04:59:59                     8.078781   \n",
       "\n",
       "   final.output.concentrate_pb  final.output.concentrate_sol  \\\n",
       "0                    10.466295                     11.990938   \n",
       "1                    10.581152                     12.216172   \n",
       "2                    10.424024                     12.313710   \n",
       "3                    10.503229                     13.074570   \n",
       "4                    10.222788                     12.475427   \n",
       "\n",
       "   final.output.concentrate_au  final.output.recovery  final.output.tail_ag  \\\n",
       "0                    40.743891              70.273583             12.688885   \n",
       "1                    39.604292              68.910432             12.829171   \n",
       "2                    40.724190              68.143213             12.977846   \n",
       "3                    39.290997              67.776393             12.451947   \n",
       "4                    40.254524              61.467078             11.827846   \n",
       "\n",
       "   final.output.tail_pb  final.output.tail_sol  final.output.tail_au  ...  \\\n",
       "0              3.844413              11.075686              4.537988  ...   \n",
       "1              3.918901              11.132824              4.675117  ...   \n",
       "2              4.026561              10.990134              4.828907  ...   \n",
       "3              3.780702              11.155935              4.969620  ...   \n",
       "4              3.632272              11.403663              5.256806  ...   \n",
       "\n",
       "   secondary_cleaner.state.floatbank4_b_level  \\\n",
       "0                                 -501.289139   \n",
       "1                                 -499.634209   \n",
       "2                                 -500.827423   \n",
       "3                                 -499.474407   \n",
       "4                                 -500.397500   \n",
       "\n",
       "   secondary_cleaner.state.floatbank5_a_air  \\\n",
       "0                                  7.946562   \n",
       "1                                  7.958270   \n",
       "2                                  8.071056   \n",
       "3                                  7.897085   \n",
       "4                                  8.107890   \n",
       "\n",
       "   secondary_cleaner.state.floatbank5_a_level  \\\n",
       "0                                 -432.317850   \n",
       "1                                 -525.839648   \n",
       "2                                 -500.801673   \n",
       "3                                 -500.868509   \n",
       "4                                 -509.526725   \n",
       "\n",
       "   secondary_cleaner.state.floatbank5_b_air  \\\n",
       "0                                  4.872511   \n",
       "1                                  4.878850   \n",
       "2                                  4.905125   \n",
       "3                                  4.931400   \n",
       "4                                  4.957674   \n",
       "\n",
       "   secondary_cleaner.state.floatbank5_b_level  \\\n",
       "0                                 -500.037437   \n",
       "1                                 -500.162375   \n",
       "2                                 -499.828510   \n",
       "3                                 -499.963623   \n",
       "4                                 -500.360026   \n",
       "\n",
       "   secondary_cleaner.state.floatbank6_a_air  \\\n",
       "0                                 26.705889   \n",
       "1                                 25.019940   \n",
       "2                                 24.994862   \n",
       "3                                 24.948919   \n",
       "4                                 25.003331   \n",
       "\n",
       "   secondary_cleaner.state.floatbank6_a_level  \\\n",
       "0                                 -499.709414   \n",
       "1                                 -499.819438   \n",
       "2                                 -500.622559   \n",
       "3                                 -498.709987   \n",
       "4                                 -500.856333   \n",
       "\n",
       "   rougher.input.feed.total_concentration  \\\n",
       "0                               72.871822   \n",
       "1                               71.669225   \n",
       "2                               73.202598   \n",
       "3                               70.757057   \n",
       "4                               68.654396   \n",
       "\n",
       "   rougher.output.concentrate.total_concentration  \\\n",
       "0                                       79.939838   \n",
       "1                                       81.118880   \n",
       "2                                       79.267044   \n",
       "3                                       81.335254   \n",
       "4                                       80.902631   \n",
       "\n",
       "   final.output.concentrate.total_concentration  \n",
       "0                                     70.779504  \n",
       "1                                     70.215454  \n",
       "2                                     71.085315  \n",
       "3                                     71.421253  \n",
       "4                                     71.031520  \n",
       "\n",
       "[5 rows x 90 columns]"
      ]
     },
     "execution_count": 43,
     "metadata": {},
     "output_type": "execute_result"
    }
   ],
   "source": [
    "#resulting test set\n",
    "df_test_data = df_full_data.loc[df_test_data_index]\n",
    "df_test_data.reset_index(inplace=True)\n",
    "df_test_data.head()"
   ]
  },
  {
   "cell_type": "markdown",
   "metadata": {},
   "source": [
    "**Conclusion**\n",
    "\n",
    "From the previous analysis, we can conclude that:\n",
    "- for the distribution of metals across purification stage, \n",
    "    - the concentration of gold (au) increased from `rougher.output` to `final.output`. Which means that the process is working as it should be\n",
    "- After comparing the feed particle size distribution for both training and test sets, we noticed that the distributions are almost similar\n",
    "- After seeking if there is any anomalies, we've seen an abnormal peak value around 0\n",
    "    - using a treshold of 0.8 & 0.95, we removed those anomalies\n",
    "- and finaly using `date` column as an index for the resulting datasets"
   ]
  },
  {
   "cell_type": "markdown",
   "metadata": {},
   "source": [
    "<div class=\"alert alert-success\" role=\"alert\">\n",
    "Reviewer's comment v. 1:\n",
    "    \n",
    "Good job that you summed up main results of this part of the project.\n",
    "</div>"
   ]
  },
  {
   "cell_type": "markdown",
   "metadata": {},
   "source": [
    "# <a id=\"3\">Build the model"
   ]
  },
  {
   "cell_type": "markdown",
   "metadata": {},
   "source": [
    "**Calculate the final sMAPE value using the following formulas**\n",
    "$$ Final~sMAPE = 25\\% * sMAPE(rougher) + 75\\% * sMAPE(final) $$ "
   ]
  },
  {
   "cell_type": "code",
   "execution_count": 44,
   "metadata": {},
   "outputs": [],
   "source": [
    "# function to compute the sMAPE\n",
    "def smape(y_true, y_pred):\n",
    "    smape = (np.abs(y_true - y_pred)/((np.abs(y_true) + np.abs(y_pred))/2)).mean()\n",
    "    return smape\n",
    "\n",
    "# function to calculate the final sMAPE value\n",
    "def smape_final(y_true, y_pred):\n",
    "    smape_out_rougher = smape(y_true[:,0], y_pred[:,0])\n",
    "    smape_out_final =smape(y_true[:,1], y_pred[:,1])\n",
    "    return (0.25 * smape_out_rougher) + (0.75 * smape_out_final)\n",
    "\n",
    "# user-defined scoring function\n",
    "smape_score = make_scorer(smape_final)"
   ]
  },
  {
   "cell_type": "code",
   "execution_count": 45,
   "metadata": {},
   "outputs": [],
   "source": [
    "# declare variables for features and target\n",
    "features_train = df_train_data.drop(['date', 'rougher.output.recovery', 'final.output.recovery'], axis=1)\n",
    "features_test = df_test_data.drop(['date', 'rougher.output.recovery', 'final.output.recovery'], axis=1)\n",
    "target_train = df_train_data[['rougher.output.recovery', 'final.output.recovery']]\n",
    "target_test = df_test_data[['rougher.output.recovery', 'final.output.recovery']]"
   ]
  },
  {
   "cell_type": "markdown",
   "metadata": {},
   "source": [
    "<div class=\"alert alert-success\" role=\"alert\">\n",
    "Reviewer's comment v. 1:\n",
    "    \n",
    "Ok :)\n",
    "</div>"
   ]
  },
  {
   "cell_type": "markdown",
   "metadata": {},
   "source": [
    "- Features scaling"
   ]
  },
  {
   "cell_type": "code",
   "execution_count": 46,
   "metadata": {},
   "outputs": [],
   "source": [
    "# features scaling\n",
    "scaler = StandardScaler()\n",
    "scaler.fit(features_train)\n",
    "# transform the training set and the test set using transform()\n",
    "features_train = scaler.transform(features_train)\n",
    "features_test  = scaler.transform(features_test)\n",
    "\n",
    "# target data as numpy array\n",
    "target_train = target_train.values\n",
    "target_test = target_test.values"
   ]
  },
  {
   "cell_type": "markdown",
   "metadata": {},
   "source": [
    "<div class=\"alert alert-success\" role=\"alert\">\n",
    "Reviewer's comment v. 1:\n",
    "    \n",
    "Well done that you have used features scaling.\n",
    "    \n",
    "Maybe this link will be interesting for you: https://www.analyticsvidhya.com/blog/2020/04/feature-scaling-machine-learning-normalization-standardization/ \n",
    "</div>"
   ]
  },
  {
   "cell_type": "markdown",
   "metadata": {},
   "source": [
    "**Baseline Model**"
   ]
  },
  {
   "cell_type": "code",
   "execution_count": 47,
   "metadata": {},
   "outputs": [],
   "source": [
    "# baseline model using a dummy regressor\n",
    "dummy_regr = DummyRegressor(strategy=\"mean\")\n",
    "dummy_regr.fit(features_train, target_train)\n",
    "dummy_regr_test_predictions = dummy_regr.predict(features_test)"
   ]
  },
  {
   "cell_type": "code",
   "execution_count": 48,
   "metadata": {},
   "outputs": [
    {
     "name": "stdout",
     "output_type": "stream",
     "text": [
      "0.0833\n"
     ]
    }
   ],
   "source": [
    "# evaluate baseline model\n",
    "print('{:.3}'.format(smape_final(target_test, dummy_regr_test_predictions)))"
   ]
  },
  {
   "cell_type": "markdown",
   "metadata": {},
   "source": [
    "<div class=\"alert alert-warning\" role=\"alert\">\n",
    "Reviewer's comment v. 1:\n",
    "    \n",
    "Please note that you can use .format to output only required number of decimal places (https://pyformat.info/).\n",
    "</div>"
   ]
  },
  {
   "cell_type": "markdown",
   "metadata": {},
   "source": [
    "<div class=\"alert alert-success\" role=\"alert\">\n",
    "Reviewer's comment v. 2:\n",
    "    \n",
    "Good job for using formatting of the data output.\n",
    "</div>"
   ]
  },
  {
   "cell_type": "markdown",
   "metadata": {},
   "source": [
    "- We can improve the score of the final sMAPE by developing other models and tuning the hyperparameters."
   ]
  },
  {
   "cell_type": "markdown",
   "metadata": {},
   "source": [
    "**Linear Regression**"
   ]
  },
  {
   "cell_type": "code",
   "execution_count": 49,
   "metadata": {},
   "outputs": [
    {
     "name": "stdout",
     "output_type": "stream",
     "text": [
      "Mean smape:  4.55%\n",
      "sMAPE range of values are:  [0.05369331 0.0354282  0.04232437 0.03861486 0.05744188]\n",
      "\n",
      "Execution time: 2.4286362305283546 mins\n"
     ]
    }
   ],
   "source": [
    "# build model\n",
    "start_time = timeit.default_timer()\n",
    "lr_regr = LinearRegression().fit(features_train, target_train) # train the model \n",
    "lr_regr_test_predictions = lr_regr.predict(features_test)\n",
    "\n",
    "# cross-validation for linear model\n",
    "cv_score_lr = cross_val_score(lr_regr, features_train, target_train, cv=5, scoring=smape_score)\n",
    "print('Mean smape:  {:.2%}'.format(cv_score_lr.mean()))\n",
    "print('sMAPE range of values are: ', cv_score_lr)\n",
    "print()\n",
    "print('Execution time: ' + str((timeit.default_timer() - start_time)) + ' mins')"
   ]
  },
  {
   "cell_type": "code",
   "execution_count": 50,
   "metadata": {},
   "outputs": [
    {
     "name": "stdout",
     "output_type": "stream",
     "text": [
      "The final sMAPE score is: 3.07%\n"
     ]
    }
   ],
   "source": [
    "# compute final smape for linear regression\n",
    "print('The final sMAPE score is: {:.2%}'.format(smape_final(target_test, lr_regr_test_predictions)))"
   ]
  },
  {
   "cell_type": "markdown",
   "metadata": {},
   "source": [
    "- We can see that the final sMAPE value of Linear Regression model is 3.07%, with an execution time of 2.8 min\n",
    "- let's see if we can improve more with other algorithms"
   ]
  },
  {
   "cell_type": "markdown",
   "metadata": {},
   "source": [
    "<div class=\"alert alert-danger\" role=\"alert\">\n",
    "Reviewer's comment v. 1:\n",
    "    \n",
    "Could you please add short description to each of the models (hyperparameters, metric and so on)?\n",
    "</div>"
   ]
  },
  {
   "cell_type": "markdown",
   "metadata": {},
   "source": [
    "<div class=\"alert alert-success\" role=\"alert\">\n",
    "Reviewer's comment v. 2:\n",
    "    \n",
    "Well done that you clearly described the model.\n",
    "</div>"
   ]
  },
  {
   "cell_type": "markdown",
   "metadata": {},
   "source": [
    "**Random Forest Regression**"
   ]
  },
  {
   "cell_type": "code",
   "execution_count": 51,
   "metadata": {},
   "outputs": [
    {
     "name": "stdout",
     "output_type": "stream",
     "text": [
      "Mean smape:  3.89%\n",
      "sMAPE range of values are:  [0.04828884 0.04102082 0.03236552 0.03158435 0.04123971]\n",
      "\n",
      "Execution time: 0.7596630344788233 mins\n"
     ]
    }
   ],
   "source": [
    "# build random forest regression model\n",
    "start_time = timeit.default_timer()\n",
    "rf_regr = RandomForestRegressor().fit(features_train, target_train) # train the model \n",
    "rf_regr_test_predictions = rf_regr.predict(features_test)\n",
    "\n",
    "# cross-validation for random forest regression\n",
    "cv_score_rf = cross_val_score(rf_regr, features_train, target_train, cv=5, scoring=smape_score)\n",
    "print('Mean smape:  {:.2%}'.format(cv_score_rf.mean()))\n",
    "print('sMAPE range of values are: ', cv_score_rf)\n",
    "print()\n",
    "print(\"Execution time: \" + str((timeit.default_timer() - start_time)/60) + ' mins')"
   ]
  },
  {
   "cell_type": "code",
   "execution_count": 52,
   "metadata": {},
   "outputs": [
    {
     "name": "stdout",
     "output_type": "stream",
     "text": [
      "The final sMAPE score is: 2.30%\n"
     ]
    }
   ],
   "source": [
    "# compute final smape for random forest\n",
    "print('The final sMAPE score is: {:.2%}'.format(smape_final(target_test, rf_regr_test_predictions)))"
   ]
  },
  {
   "cell_type": "markdown",
   "metadata": {},
   "source": [
    "**Random forest with hyperparameter tuning**"
   ]
  },
  {
   "cell_type": "code",
   "execution_count": 53,
   "metadata": {},
   "outputs": [
    {
     "name": "stdout",
     "output_type": "stream",
     "text": [
      "n_estimators: 10, Mean smape: 3.9401%\n",
      "n_estimators: 25, Mean smape: 3.4874%\n",
      "n_estimators: 50, Mean smape: 3.3105%\n"
     ]
    }
   ],
   "source": [
    "# define the cross validation scheme\n",
    "for i in [10, 25, 50]:\n",
    "    rf = RandomForestRegressor(n_estimators = i, random_state = 12345)\n",
    "    rf.fit(features_train, target_train)\n",
    "    cross_val_scores_rf = cross_val_score(rf, features_train, target_train, cv=5, scoring=smape_score)\n",
    "    print('n_estimators: ' + str(i) + ', Mean smape: {:.4%}'.format(cross_val_scores_rf.mean()))"
   ]
  },
  {
   "cell_type": "code",
   "execution_count": 54,
   "metadata": {},
   "outputs": [
    {
     "name": "stdout",
     "output_type": "stream",
     "text": [
      "The best hyperparameters are: {'n_estimators': 10}\n",
      "\n",
      "Execution time: 2.7381610312809546 mins\n"
     ]
    }
   ],
   "source": [
    "start_time = timeit.default_timer()\n",
    "# hyperparameter optimization\n",
    "\n",
    "# define hyperparameters to tune\n",
    "grid = {\n",
    "    \"n_estimators\" : [10, 25, 50]\n",
    "}\n",
    "# define the model \n",
    "regressor = RandomForestRegressor(random_state = 12345)\n",
    "# define the grid search\n",
    "grid_search_rf = GridSearchCV(estimator = regressor, param_grid = grid, scoring=smape_score)\n",
    "# execute search\n",
    "grid_search_rf.fit(features_train, target_train)\n",
    "# summarize result\n",
    "print('The best hyperparameters are: {}'.format(grid_search_rf.best_params_))\n",
    "print()\n",
    "print(\"Execution time: \" + str((timeit.default_timer() - start_time)/60) + ' mins')"
   ]
  },
  {
   "cell_type": "code",
   "execution_count": 55,
   "metadata": {},
   "outputs": [],
   "source": [
    "# create the random forest regressor model\n",
    "def random_forest_regressor(X_train, y_train, X_test, y_test):\n",
    "    \"\"\"\n",
    "    This is a random forest regressor function developed to train\n",
    "    the model, make prediction on testing dataset, \n",
    "    and compute evaluation metrics for testing datasets\n",
    "    \"\"\"\n",
    "    # build the model\n",
    "    model = RandomForestRegressor(**grid_search_rf.best_params_)\n",
    "    model.fit(X_train, y_train) # train the model \n",
    "    # make predictions on testing set\n",
    "    rf_test_predictions = model.predict(X_test)\n",
    "    \n",
    "    # compute final smape for random forest\n",
    "    print('The final sMAPE is: {:.2%}'.format(smape_final(target_test, rf_test_predictions)))"
   ]
  },
  {
   "cell_type": "code",
   "execution_count": 56,
   "metadata": {},
   "outputs": [
    {
     "name": "stdout",
     "output_type": "stream",
     "text": [
      "The final sMAPE is: 2.24%\n"
     ]
    }
   ],
   "source": [
    "# determine final sMAPE for random forest regressor\n",
    "random_forest_regressor(features_train, target_train, features_test, target_test)"
   ]
  },
  {
   "cell_type": "markdown",
   "metadata": {},
   "source": [
    "For the RF:\n",
    "- we used grid search to find the hyperparameters for the random forest algorithm\n",
    "- We have obtained a sMAPE of 2.36% before the hyperparams tunning\n",
    "- sMAPE of 2.28% after hyperparams tunning\n",
    "\n",
    "the sMAPE score slightly improved but no significant change."
   ]
  },
  {
   "cell_type": "markdown",
   "metadata": {},
   "source": [
    "**Decision Tree Regression**"
   ]
  },
  {
   "cell_type": "markdown",
   "metadata": {},
   "source": [
    "<div class=\"alert alert-warning\" role=\"alert\">\n",
    "Reviewer's comment v. 1:\n",
    "    \n",
    "Please note that you can avoid warnings (if necessary) by using the code below.\n",
    "</div>"
   ]
  },
  {
   "cell_type": "code",
   "execution_count": 57,
   "metadata": {},
   "outputs": [],
   "source": [
    "import sys\n",
    "import warnings\n",
    "if not sys.warnoptions:\n",
    "       warnings.simplefilter(\"ignore\")"
   ]
  },
  {
   "cell_type": "code",
   "execution_count": 58,
   "metadata": {},
   "outputs": [
    {
     "name": "stdout",
     "output_type": "stream",
     "text": [
      "Mean smape:  nan%\n",
      "sMAPE range of values are:  [0.0704108         nan        nan        nan 0.06151426]\n",
      "\n",
      "Execution time: 0.12560010266800722 mins\n"
     ]
    }
   ],
   "source": [
    "# build decision tree regression model\n",
    "start_time = timeit.default_timer()\n",
    "dt_regr = DecisionTreeRegressor().fit(features_train, target_train) # train the model \n",
    "dt_regr_test_predictions = dt_regr.predict(features_test)\n",
    "\n",
    "# cross-validation for decision tree regression\n",
    "cv_score_dt = cross_val_score(dt_regr, features_train, target_train, cv=5, scoring=smape_score)\n",
    "print('Mean smape:  {:.4%}'.format(cv_score_dt.mean()))\n",
    "print('sMAPE range of values are: ', cv_score_dt)\n",
    "print()\n",
    "print(\"Execution time: \" + str((timeit.default_timer() - start_time)/60) + ' mins')"
   ]
  },
  {
   "cell_type": "code",
   "execution_count": 59,
   "metadata": {},
   "outputs": [
    {
     "name": "stdout",
     "output_type": "stream",
     "text": [
      "The final sMAPE score is: 3.69%\n"
     ]
    }
   ],
   "source": [
    "# compute final smape for decision tree model\n",
    "print('The final sMAPE score is: {:.2%}'.format(smape_final(target_test, dt_regr_test_predictions)))"
   ]
  },
  {
   "cell_type": "markdown",
   "metadata": {},
   "source": [
    "**Decision Tree with hyperparameter**"
   ]
  },
  {
   "cell_type": "code",
   "execution_count": 60,
   "metadata": {},
   "outputs": [
    {
     "name": "stdout",
     "output_type": "stream",
     "text": [
      "Max depth: 2, Mean smape: 9.4577%\n",
      "Max depth: 4, Mean smape: 8.2789%\n",
      "Max depth: 8, Mean smape: nan%\n",
      "Max depth: 16, Mean smape: nan%\n"
     ]
    }
   ],
   "source": [
    "# define the cross validation scheme\n",
    "for i in [2, 4, 8, 16]:\n",
    "    dt = DecisionTreeRegressor(max_depth = i, random_state = 12345)\n",
    "    dt.fit(features_train, target_train)\n",
    "    cross_val_scores_dt = cross_val_score(dt, features_train, target_train, cv=5, scoring=smape_score)\n",
    "    print('Max depth: ' + str(i) + ', Mean smape: {:.4%}'.format(cross_val_scores_dt.mean()))"
   ]
  },
  {
   "cell_type": "code",
   "execution_count": 61,
   "metadata": {},
   "outputs": [
    {
     "name": "stdout",
     "output_type": "stream",
     "text": [
      "The best hyperparameters are: {'max_depth': 2, 'min_samples_split': 8}\n",
      "\n",
      "Execution time: 0.4019886904706558 mins\n"
     ]
    }
   ],
   "source": [
    "start_time = timeit.default_timer()\n",
    "# hyperparameter optimization\n",
    "\n",
    "# define hyperparameters to tune\n",
    "params_ = {\n",
    "    \"max_depth\" : [2, 4, 8, 16],\n",
    "    \"min_samples_split\" : [2, 4, 8, 16]\n",
    "    }\n",
    "# define the model\n",
    "dt_regressor = DecisionTreeRegressor()\n",
    "\n",
    "# define the grid search\n",
    "grid_search_dt = GridSearchCV(estimator = dt_regressor, param_grid = params_, scoring=smape_score)\n",
    "# execute search\n",
    "grid_search_dt.fit(features_train, target_train)\n",
    "# summarize result\n",
    "print('The best hyperparameters are: {}'.format(grid_search_dt.best_params_))\n",
    "print()\n",
    "print(\"Execution time: \" + str((timeit.default_timer() - start_time)/60) + ' mins')"
   ]
  },
  {
   "cell_type": "code",
   "execution_count": 62,
   "metadata": {},
   "outputs": [],
   "source": [
    "# create the decision tree regressor model\n",
    "def decision_tree_regressor(X_train, y_train, X_test, y_test):\n",
    "    \"\"\"\n",
    "    This is a decision tree regressor function developed to train\n",
    "    the model, make prediction on testing dataset, \n",
    "    and compute evaluation metrics for testing datasets\n",
    "    \"\"\"\n",
    "    # build the model\n",
    "    dt_model = DecisionTreeRegressor(**grid_search_dt.best_params_)\n",
    "    dt_model.fit(X_train, y_train) # train the model \n",
    "    # make predictions on testing set\n",
    "    dt_test_predictions = dt_model.predict(X_test)\n",
    "    \n",
    "    # compute final smape for decision tree regressor\n",
    "    print('The final sMAPE is: {:.2%}'.format(smape_final(target_test, dt_test_predictions)))"
   ]
  },
  {
   "cell_type": "code",
   "execution_count": 63,
   "metadata": {},
   "outputs": [
    {
     "name": "stdout",
     "output_type": "stream",
     "text": [
      "The final sMAPE is: 7.34%\n"
     ]
    }
   ],
   "source": [
    "# determine final sMAPE for decision tree regressor\n",
    "decision_tree_regressor(features_train, target_train, features_test, target_test)"
   ]
  },
  {
   "cell_type": "markdown",
   "metadata": {},
   "source": [
    "- For the DT, we obtained an\n",
    "    - sMAPE = 3.69%\tbefore hyperparams tunning\n",
    "    - sMAPE = 7.34% after hyperparams tunning\n",
    "- We can see that the hyperparameter tunning does not always help to improve the model's results."
   ]
  },
  {
   "cell_type": "markdown",
   "metadata": {},
   "source": [
    "<div class=\"alert alert-success\" role=\"alert\">\n",
    "Reviewer's comment v. 2:\n",
    "    \n",
    "👍👍👍\n",
    "</div>"
   ]
  },
  {
   "cell_type": "markdown",
   "metadata": {},
   "source": [
    "**And this is a summary of our results**\n",
    "\n",
    "|**Regressor**| **Final sMAPE without tuning**  | **Final sMAPE with tuning**  |\n",
    "|---|---|---|\n",
    "| Dummy\t|8.33%  | -\t|\n",
    "| LinearRegressor| 3.07% | - |\n",
    "| RandomForest| 2.36% | 2.28% |\n",
    "| DecisionTree| 3.69% | 7.34% |"
   ]
  },
  {
   "cell_type": "markdown",
   "metadata": {},
   "source": [
    "<div class=\"alert alert-success\" role=\"alert\">\n",
    "Reviewer's comment v. 1:\n",
    "    \n",
    "Good job that you summed up results of analysis of the models in the summary table.\n",
    "</div>"
   ]
  },
  {
   "cell_type": "markdown",
   "metadata": {},
   "source": [
    "<div class=\"alert alert-success\" role=\"alert\">\n",
    "Reviewer's comment v. 1:\n",
    "    \n",
    "Please see additional materials for models development: https://milkandhoney.ai/insights/best-practice-approach-to-machine-learning-model-development \n",
    "</div>"
   ]
  },
  {
   "cell_type": "markdown",
   "metadata": {},
   "source": [
    "# <a id=\"4\">Overall conclusion"
   ]
  },
  {
   "cell_type": "markdown",
   "metadata": {},
   "source": [
    "The business objectif of this project is to simulate the gold recovery process from gold ore, predict the amount of gold recovered and optimize gold production for the Zyfra Group.\n",
    "- In the first part, we downloaded the 3 datasets and investigated the general information.\n",
    "- we found missing values in the 3 datasets, and figured out that we have to cast `date` column type into datetime.\n",
    "- we checked after that if recovery is calculated correctly. Using the training set, we've calculated recovery for the rougher.output.recovery feature, find that:\n",
    "    - the `calculated_recovery` and `rougher.output.recovery` have similar values.\n",
    "    - The MAE score is 0.0. Which means that the calculated value from the simulated recovery process is similar to the `rougher.output.recovery`\n",
    "- we've analyze the features not available in the test set. and concluded that:\n",
    "    - we have 34 features in the train set that are not available in the test set.\n",
    "    - The features not available in the test set include features containing the concentration of metals (Au, Ag, Pb).\n",
    "    - The parameters type are output - product parameters and calculation characteristics.\n",
    "- We jumped after that to the data preprocessing part:\n",
    "    - Got rid of missing values in the 3 datasets using the forward fill method in pandas.\n",
    "    - We also converted `date` type to the datatime type in the 3 datasets.\n",
    "- In the data analysis step, we checked \n",
    "    - how the concentrations of metals (Au, Ag, Pb) change depending on the purification stage. To do so, we've ploted the distribution of concentrations across each stage. And concluded that \n",
    "        - the concentration of gold (au) increased from `rougher.output` to `final.output`, which means that the process of purification is working as it should. Also, the concentration of other metals decreased like (ag), or stay same suck as (pb).\n",
    "     - We compared the feed particle size distributions in the training set and in the test set, and ploted the particle_size_distribution for both the train and test sets and found that, \n",
    "        - the particle size distributions are similar\n",
    "        - the distribution hasnt any significant variation, which means that the model evaluation is correct\n",
    "        - which means that we can proceed to the training and testing on the dataset(df_train, df_test) with no problem.\n",
    "      - We checked after that if there is any anomalies in total distribution of all substances at different stages, by ploting the distribution of total concentration in raw feed/rougher concentrate/final concentrate. We found a peak around zero, which show the existance anomalies. We removed them by setting a treshold of 0.8 & 0.95.\n",
    "          - we used new index `date` to filter the `df_full` set to a new train dataset by looking for the index of the train set that can be found in the full set. This process helps us to otain a train set without anomalies, and we did the same to the test set. \n",
    "- In model building part, \n",
    "    - we wrote a function to calculate the final sMAPE value. \n",
    "    - We trained different models, made an evaluation using cross-validation, and hyperparameter tuning. \n",
    "    - We tested the model, and observed that the best performing model is :\n",
    "        - the Random Forest Regressor with an sMAPE of 2.36% before the hyperparams tunning and sMAPE of 2.28% after hyperparams tunning. \n",
    "    - We've seen that the hyperparams tunning did not help much to improve(minimize)the sMAPE score.\n",
    "                   \n",
    "The Random Forest Model is the best model to predict the amount of gold recovered and optimize gold production."
   ]
  },
  {
   "cell_type": "markdown",
   "metadata": {},
   "source": [
    "<div class=\"alert alert-success\" role=\"alert\">\n",
    "Reviewer's comment v. 1:\n",
    "    \n",
    "You have made an excellent conclusion. Well done that you described it as a logical sequence of actions.\n",
    "</div>"
   ]
  },
  {
   "cell_type": "code",
   "execution_count": null,
   "metadata": {},
   "outputs": [],
   "source": []
  }
 ],
 "metadata": {
  "ExecuteTimeLog": [
   {
    "duration": 1555,
    "start_time": "2021-08-07T05:40:14.086Z"
   },
   {
    "duration": 8411,
    "start_time": "2021-08-07T05:40:37.655Z"
   },
   {
    "duration": 11,
    "start_time": "2021-08-07T05:41:20.628Z"
   },
   {
    "duration": 1669,
    "start_time": "2021-08-07T05:43:47.535Z"
   },
   {
    "duration": 611,
    "start_time": "2021-08-07T05:45:06.037Z"
   },
   {
    "duration": 324,
    "start_time": "2021-08-07T05:46:33.892Z"
   },
   {
    "duration": 709,
    "start_time": "2021-08-07T05:46:48.656Z"
   },
   {
    "duration": 13,
    "start_time": "2021-08-07T06:11:46.820Z"
   },
   {
    "duration": 19,
    "start_time": "2021-08-07T06:12:52.858Z"
   },
   {
    "duration": 885,
    "start_time": "2021-08-07T06:12:59.127Z"
   },
   {
    "duration": 10,
    "start_time": "2021-08-07T06:15:03.981Z"
   },
   {
    "duration": 635,
    "start_time": "2021-08-07T06:15:06.881Z"
   },
   {
    "duration": 12,
    "start_time": "2021-08-07T06:15:37.636Z"
   },
   {
    "duration": 724,
    "start_time": "2021-08-07T06:15:59.646Z"
   },
   {
    "duration": 388,
    "start_time": "2021-08-07T06:16:10.792Z"
   },
   {
    "duration": 1059,
    "start_time": "2021-08-07T06:16:21.240Z"
   },
   {
    "duration": 558,
    "start_time": "2021-08-07T06:41:28.656Z"
   },
   {
    "duration": 5,
    "start_time": "2021-08-07T06:41:53.488Z"
   },
   {
    "duration": 10,
    "start_time": "2021-08-07T06:41:58.005Z"
   },
   {
    "duration": 217,
    "start_time": "2021-08-07T06:43:39.241Z"
   },
   {
    "duration": 11,
    "start_time": "2021-08-07T06:43:55.599Z"
   },
   {
    "duration": 12,
    "start_time": "2021-08-07T06:45:26.180Z"
   },
   {
    "duration": 287,
    "start_time": "2021-08-07T07:04:17.123Z"
   },
   {
    "duration": 7,
    "start_time": "2021-08-07T07:04:22.724Z"
   },
   {
    "duration": 297,
    "start_time": "2021-08-07T07:51:30.612Z"
   },
   {
    "duration": 6,
    "start_time": "2021-08-07T07:51:48.109Z"
   },
   {
    "duration": 6,
    "start_time": "2021-08-07T07:52:13.538Z"
   },
   {
    "duration": 5,
    "start_time": "2021-08-07T07:52:17.080Z"
   },
   {
    "duration": 6,
    "start_time": "2021-08-07T07:54:57.255Z"
   },
   {
    "duration": 14,
    "start_time": "2021-08-07T07:56:18.866Z"
   },
   {
    "duration": 32,
    "start_time": "2021-08-07T07:57:20.761Z"
   },
   {
    "duration": 26,
    "start_time": "2021-08-07T07:58:19.568Z"
   },
   {
    "duration": 36,
    "start_time": "2021-08-07T07:58:58.415Z"
   },
   {
    "duration": 8,
    "start_time": "2021-08-07T08:00:43.212Z"
   },
   {
    "duration": 26,
    "start_time": "2021-08-07T08:01:05.038Z"
   },
   {
    "duration": 6,
    "start_time": "2021-08-07T08:02:57.172Z"
   },
   {
    "duration": 20,
    "start_time": "2021-08-07T08:03:02.209Z"
   },
   {
    "duration": 12,
    "start_time": "2021-08-07T08:03:36.054Z"
   },
   {
    "duration": 32,
    "start_time": "2021-08-07T08:03:40.379Z"
   },
   {
    "duration": 35,
    "start_time": "2021-08-07T08:05:28.434Z"
   },
   {
    "duration": 22,
    "start_time": "2021-08-07T08:06:26.264Z"
   },
   {
    "duration": 21,
    "start_time": "2021-08-07T08:07:01.228Z"
   },
   {
    "duration": 31,
    "start_time": "2021-08-07T08:07:08.588Z"
   },
   {
    "duration": 1543,
    "start_time": "2021-08-07T15:42:13.246Z"
   },
   {
    "duration": 15,
    "start_time": "2021-08-07T15:42:14.792Z"
   },
   {
    "duration": 2505,
    "start_time": "2021-08-07T15:42:14.810Z"
   },
   {
    "duration": 712,
    "start_time": "2021-08-07T15:42:17.318Z"
   },
   {
    "duration": 392,
    "start_time": "2021-08-07T15:42:18.032Z"
   },
   {
    "duration": 796,
    "start_time": "2021-08-07T15:42:18.427Z"
   },
   {
    "duration": 4,
    "start_time": "2021-08-07T15:42:19.226Z"
   },
   {
    "duration": 23,
    "start_time": "2021-08-07T15:42:19.234Z"
   },
   {
    "duration": 12,
    "start_time": "2021-08-07T15:42:19.261Z"
   },
   {
    "duration": 14,
    "start_time": "2021-08-07T15:42:19.275Z"
   },
   {
    "duration": 15,
    "start_time": "2021-08-07T15:42:19.292Z"
   },
   {
    "duration": 16,
    "start_time": "2021-08-07T15:42:19.309Z"
   },
   {
    "duration": 53,
    "start_time": "2021-08-07T15:42:19.327Z"
   },
   {
    "duration": 9,
    "start_time": "2021-08-07T15:42:19.383Z"
   },
   {
    "duration": 29,
    "start_time": "2021-08-07T15:42:19.395Z"
   },
   {
    "duration": 59,
    "start_time": "2021-08-07T15:42:19.427Z"
   },
   {
    "duration": 24,
    "start_time": "2021-08-07T15:42:19.488Z"
   },
   {
    "duration": 5,
    "start_time": "2021-08-07T15:42:19.515Z"
   },
   {
    "duration": 19,
    "start_time": "2021-08-07T15:42:19.555Z"
   },
   {
    "duration": 23,
    "start_time": "2021-08-07T15:42:19.577Z"
   },
   {
    "duration": 77,
    "start_time": "2021-08-07T15:42:19.603Z"
   },
   {
    "duration": 12,
    "start_time": "2021-08-07T15:42:19.683Z"
   },
   {
    "duration": 59,
    "start_time": "2021-08-07T15:42:19.701Z"
   },
   {
    "duration": 32,
    "start_time": "2021-08-07T15:42:19.763Z"
   },
   {
    "duration": 4,
    "start_time": "2021-08-07T15:50:11.725Z"
   },
   {
    "duration": 6,
    "start_time": "2021-08-07T15:50:26.586Z"
   },
   {
    "duration": 4015,
    "start_time": "2021-08-07T15:50:46.104Z"
   },
   {
    "duration": 5,
    "start_time": "2021-08-07T15:50:57.709Z"
   },
   {
    "duration": 6,
    "start_time": "2021-08-07T15:51:13.531Z"
   },
   {
    "duration": 3774,
    "start_time": "2021-08-07T15:51:28.251Z"
   },
   {
    "duration": 4,
    "start_time": "2021-08-07T15:51:50.188Z"
   },
   {
    "duration": 6,
    "start_time": "2021-08-07T15:51:51.831Z"
   },
   {
    "duration": 3966,
    "start_time": "2021-08-07T15:51:56.074Z"
   },
   {
    "duration": 4,
    "start_time": "2021-08-07T17:02:37.613Z"
   },
   {
    "duration": 5,
    "start_time": "2021-08-07T17:02:39.655Z"
   },
   {
    "duration": 4473,
    "start_time": "2021-08-07T17:02:42.405Z"
   },
   {
    "duration": 7,
    "start_time": "2021-08-07T17:43:05.963Z"
   },
   {
    "duration": 399,
    "start_time": "2021-08-07T17:45:54.840Z"
   },
   {
    "duration": 4,
    "start_time": "2021-08-07T17:46:26.001Z"
   },
   {
    "duration": 1017,
    "start_time": "2021-08-07T17:47:28.603Z"
   },
   {
    "duration": 4,
    "start_time": "2021-08-07T17:47:47.194Z"
   },
   {
    "duration": 1011,
    "start_time": "2021-08-07T17:47:48.911Z"
   },
   {
    "duration": 7,
    "start_time": "2021-08-07T17:47:53.015Z"
   },
   {
    "duration": 4,
    "start_time": "2021-08-07T17:47:54.732Z"
   },
   {
    "duration": 915,
    "start_time": "2021-08-07T17:47:57.566Z"
   },
   {
    "duration": 8,
    "start_time": "2021-08-07T17:48:13.716Z"
   },
   {
    "duration": 4,
    "start_time": "2021-08-07T17:48:19.173Z"
   },
   {
    "duration": 904,
    "start_time": "2021-08-07T17:48:21.581Z"
   },
   {
    "duration": 4,
    "start_time": "2021-08-07T17:48:41.221Z"
   },
   {
    "duration": 1119,
    "start_time": "2021-08-07T17:48:45.383Z"
   },
   {
    "duration": 6,
    "start_time": "2021-08-07T17:48:54.225Z"
   },
   {
    "duration": 1126,
    "start_time": "2021-08-07T17:48:56.297Z"
   },
   {
    "duration": 4,
    "start_time": "2021-08-07T17:51:58.327Z"
   },
   {
    "duration": 1170,
    "start_time": "2021-08-07T17:52:15.636Z"
   },
   {
    "duration": 4,
    "start_time": "2021-08-07T17:53:33.987Z"
   },
   {
    "duration": 957,
    "start_time": "2021-08-07T17:53:36.997Z"
   },
   {
    "duration": 8,
    "start_time": "2021-08-07T18:09:08.856Z"
   },
   {
    "duration": 628,
    "start_time": "2021-08-07T18:11:37.611Z"
   },
   {
    "duration": 638,
    "start_time": "2021-08-07T18:12:07.596Z"
   },
   {
    "duration": 19,
    "start_time": "2021-08-07T18:22:47.618Z"
   },
   {
    "duration": 762,
    "start_time": "2021-08-07T18:24:59.230Z"
   },
   {
    "duration": 15,
    "start_time": "2021-08-07T18:26:10.403Z"
   },
   {
    "duration": 645,
    "start_time": "2021-08-07T18:27:35.490Z"
   },
   {
    "duration": 137,
    "start_time": "2021-08-07T18:47:21.736Z"
   },
   {
    "duration": 509,
    "start_time": "2021-08-07T19:02:00.522Z"
   },
   {
    "duration": 7,
    "start_time": "2021-08-07T19:05:22.240Z"
   },
   {
    "duration": 30,
    "start_time": "2021-08-07T19:05:39.077Z"
   },
   {
    "duration": 9,
    "start_time": "2021-08-07T19:13:55.003Z"
   },
   {
    "duration": 538,
    "start_time": "2021-08-07T19:15:51.573Z"
   },
   {
    "duration": 38,
    "start_time": "2021-08-07T19:15:59.182Z"
   },
   {
    "duration": 6,
    "start_time": "2021-08-07T19:17:05.301Z"
   },
   {
    "duration": 34,
    "start_time": "2021-08-07T19:18:09.598Z"
   },
   {
    "duration": 6,
    "start_time": "2021-08-07T19:46:11.976Z"
   },
   {
    "duration": 13,
    "start_time": "2021-08-07T19:48:07.780Z"
   },
   {
    "duration": 30,
    "start_time": "2021-08-07T19:48:44.845Z"
   },
   {
    "duration": 18,
    "start_time": "2021-08-07T19:49:06.779Z"
   },
   {
    "duration": 3,
    "start_time": "2021-08-07T19:49:21.854Z"
   },
   {
    "duration": 350,
    "start_time": "2021-08-07T19:50:43.228Z"
   },
   {
    "duration": 6,
    "start_time": "2021-08-07T19:51:25.672Z"
   },
   {
    "duration": 265,
    "start_time": "2021-08-07T19:51:33.193Z"
   },
   {
    "duration": 25,
    "start_time": "2021-08-07T19:52:46.385Z"
   },
   {
    "duration": 272,
    "start_time": "2021-08-07T19:52:55.542Z"
   },
   {
    "duration": 320,
    "start_time": "2021-08-07T19:55:13.186Z"
   },
   {
    "duration": 296,
    "start_time": "2021-08-07T20:00:00.999Z"
   },
   {
    "duration": 39,
    "start_time": "2021-08-07T20:05:30.870Z"
   },
   {
    "duration": 263,
    "start_time": "2021-08-07T20:05:34.902Z"
   },
   {
    "duration": 288,
    "start_time": "2021-08-07T20:10:21.560Z"
   },
   {
    "duration": 304,
    "start_time": "2021-08-07T20:10:47.430Z"
   },
   {
    "duration": 310,
    "start_time": "2021-08-07T20:12:54.032Z"
   },
   {
    "duration": 288,
    "start_time": "2021-08-07T20:13:19.117Z"
   },
   {
    "duration": 340,
    "start_time": "2021-08-07T20:20:33.743Z"
   },
   {
    "duration": 42,
    "start_time": "2021-08-07T20:20:54.515Z"
   },
   {
    "duration": 262,
    "start_time": "2021-08-07T20:20:57.423Z"
   },
   {
    "duration": 256,
    "start_time": "2021-08-07T20:24:22.368Z"
   },
   {
    "duration": 256,
    "start_time": "2021-08-07T20:24:51.829Z"
   },
   {
    "duration": 6,
    "start_time": "2021-08-07T20:25:33.843Z"
   },
   {
    "duration": 11,
    "start_time": "2021-08-07T20:26:21.559Z"
   },
   {
    "duration": 411,
    "start_time": "2021-08-07T20:31:30.449Z"
   },
   {
    "duration": 1618,
    "start_time": "2021-08-07T20:31:52.085Z"
   },
   {
    "duration": 17,
    "start_time": "2021-08-07T20:31:56.357Z"
   },
   {
    "duration": 3047,
    "start_time": "2021-08-07T20:32:05.022Z"
   },
   {
    "duration": 785,
    "start_time": "2021-08-07T20:32:14.730Z"
   },
   {
    "duration": 372,
    "start_time": "2021-08-07T20:32:21.217Z"
   },
   {
    "duration": 745,
    "start_time": "2021-08-07T20:32:27.590Z"
   },
   {
    "duration": 4,
    "start_time": "2021-08-07T20:32:38.937Z"
   },
   {
    "duration": 10,
    "start_time": "2021-08-07T20:32:42.588Z"
   },
   {
    "duration": 11,
    "start_time": "2021-08-07T20:32:47.416Z"
   },
   {
    "duration": 12,
    "start_time": "2021-08-07T20:32:50.632Z"
   },
   {
    "duration": 7,
    "start_time": "2021-08-07T20:32:54.329Z"
   },
   {
    "duration": 6,
    "start_time": "2021-08-07T20:32:58.193Z"
   },
   {
    "duration": 34,
    "start_time": "2021-08-07T20:33:01.179Z"
   },
   {
    "duration": 9,
    "start_time": "2021-08-07T20:33:04.442Z"
   },
   {
    "duration": 27,
    "start_time": "2021-08-07T20:33:07.056Z"
   },
   {
    "duration": 34,
    "start_time": "2021-08-07T20:33:18.258Z"
   },
   {
    "duration": 25,
    "start_time": "2021-08-07T20:33:23.182Z"
   },
   {
    "duration": 6,
    "start_time": "2021-08-07T20:33:28.191Z"
   },
   {
    "duration": 18,
    "start_time": "2021-08-07T20:33:30.261Z"
   },
   {
    "duration": 21,
    "start_time": "2021-08-07T20:33:34.792Z"
   },
   {
    "duration": 35,
    "start_time": "2021-08-07T20:33:40.693Z"
   },
   {
    "duration": 12,
    "start_time": "2021-08-07T20:33:44.443Z"
   },
   {
    "duration": 30,
    "start_time": "2021-08-07T20:33:48.118Z"
   },
   {
    "duration": 30,
    "start_time": "2021-08-07T20:33:51.877Z"
   },
   {
    "duration": 4,
    "start_time": "2021-08-07T20:33:59.244Z"
   },
   {
    "duration": 7,
    "start_time": "2021-08-07T20:34:04.283Z"
   },
   {
    "duration": 4836,
    "start_time": "2021-08-07T20:34:06.894Z"
   },
   {
    "duration": 7,
    "start_time": "2021-08-07T20:34:25.641Z"
   },
   {
    "duration": 4,
    "start_time": "2021-08-07T20:34:28.987Z"
   },
   {
    "duration": 4,
    "start_time": "2021-08-07T20:34:31.249Z"
   },
   {
    "duration": 1128,
    "start_time": "2021-08-07T20:34:34.242Z"
   },
   {
    "duration": 8,
    "start_time": "2021-08-07T20:35:45.954Z"
   },
   {
    "duration": 1131,
    "start_time": "2021-08-07T20:36:03.572Z"
   },
   {
    "duration": 19,
    "start_time": "2021-08-07T20:36:09.413Z"
   },
   {
    "duration": 698,
    "start_time": "2021-08-07T20:36:13.496Z"
   },
   {
    "duration": 15,
    "start_time": "2021-08-07T20:36:17.202Z"
   },
   {
    "duration": 721,
    "start_time": "2021-08-07T20:36:52.300Z"
   },
   {
    "duration": 529,
    "start_time": "2021-08-07T20:37:35.036Z"
   },
   {
    "duration": 7,
    "start_time": "2021-08-07T20:38:40.183Z"
   },
   {
    "duration": 14,
    "start_time": "2021-08-07T20:38:56.628Z"
   },
   {
    "duration": 23,
    "start_time": "2021-08-07T20:39:43.347Z"
   },
   {
    "duration": 17,
    "start_time": "2021-08-07T20:40:22.261Z"
   },
   {
    "duration": 26,
    "start_time": "2021-08-07T20:40:26.990Z"
   },
   {
    "duration": 170,
    "start_time": "2021-08-07T20:41:49.854Z"
   },
   {
    "duration": 389,
    "start_time": "2021-08-07T20:42:50.708Z"
   },
   {
    "duration": 389,
    "start_time": "2021-08-07T20:43:06.846Z"
   },
   {
    "duration": 381,
    "start_time": "2021-08-07T20:44:22.153Z"
   },
   {
    "duration": 284,
    "start_time": "2021-08-07T20:45:22.259Z"
   },
   {
    "duration": 1556,
    "start_time": "2021-08-07T20:45:41.656Z"
   },
   {
    "duration": 16,
    "start_time": "2021-08-07T20:45:45.189Z"
   },
   {
    "duration": 2251,
    "start_time": "2021-08-07T20:45:51.591Z"
   },
   {
    "duration": 4,
    "start_time": "2021-08-07T20:45:59.000Z"
   },
   {
    "duration": 17,
    "start_time": "2021-08-07T20:46:01.751Z"
   },
   {
    "duration": 12,
    "start_time": "2021-08-07T20:46:04.142Z"
   },
   {
    "duration": 12,
    "start_time": "2021-08-07T20:46:07.806Z"
   },
   {
    "duration": 6,
    "start_time": "2021-08-07T20:46:11.223Z"
   },
   {
    "duration": 5,
    "start_time": "2021-08-07T20:46:17.579Z"
   },
   {
    "duration": 31,
    "start_time": "2021-08-07T20:46:21.596Z"
   },
   {
    "duration": 9,
    "start_time": "2021-08-07T20:46:25.274Z"
   },
   {
    "duration": 25,
    "start_time": "2021-08-07T20:46:27.606Z"
   },
   {
    "duration": 36,
    "start_time": "2021-08-07T20:46:30.962Z"
   },
   {
    "duration": 25,
    "start_time": "2021-08-07T20:46:35.115Z"
   },
   {
    "duration": 5,
    "start_time": "2021-08-07T20:46:39.318Z"
   },
   {
    "duration": 20,
    "start_time": "2021-08-07T20:46:41.999Z"
   },
   {
    "duration": 23,
    "start_time": "2021-08-07T20:46:44.160Z"
   },
   {
    "duration": 34,
    "start_time": "2021-08-07T20:46:47.534Z"
   },
   {
    "duration": 11,
    "start_time": "2021-08-07T20:46:50.324Z"
   },
   {
    "duration": 31,
    "start_time": "2021-08-07T20:46:52.540Z"
   },
   {
    "duration": 31,
    "start_time": "2021-08-07T20:46:56.245Z"
   },
   {
    "duration": 4,
    "start_time": "2021-08-07T20:47:02.087Z"
   },
   {
    "duration": 6,
    "start_time": "2021-08-07T20:47:04.560Z"
   },
   {
    "duration": 4463,
    "start_time": "2021-08-07T20:47:07.482Z"
   },
   {
    "duration": 7,
    "start_time": "2021-08-07T20:47:16.673Z"
   },
   {
    "duration": 5,
    "start_time": "2021-08-07T20:47:19.351Z"
   },
   {
    "duration": 1173,
    "start_time": "2021-08-07T20:47:23.223Z"
   },
   {
    "duration": 5,
    "start_time": "2021-08-07T20:47:28.007Z"
   },
   {
    "duration": 1078,
    "start_time": "2021-08-07T20:47:30.040Z"
   },
   {
    "duration": 8,
    "start_time": "2021-08-07T20:47:37.067Z"
   },
   {
    "duration": 730,
    "start_time": "2021-08-07T20:47:41.247Z"
   },
   {
    "duration": 20,
    "start_time": "2021-08-07T20:47:45.840Z"
   },
   {
    "duration": 691,
    "start_time": "2021-08-07T20:47:49.111Z"
   },
   {
    "duration": 16,
    "start_time": "2021-08-07T20:47:53.395Z"
   },
   {
    "duration": 835,
    "start_time": "2021-08-07T20:47:55.520Z"
   },
   {
    "duration": 402,
    "start_time": "2021-08-07T20:48:12.957Z"
   },
   {
    "duration": 7,
    "start_time": "2021-08-07T20:48:22.301Z"
   },
   {
    "duration": 7,
    "start_time": "2021-08-07T20:49:27.488Z"
   },
   {
    "duration": 37,
    "start_time": "2021-08-07T20:50:34.614Z"
   },
   {
    "duration": 7,
    "start_time": "2021-08-07T20:51:20.488Z"
   },
   {
    "duration": 34,
    "start_time": "2021-08-07T20:52:10.001Z"
   },
   {
    "duration": 456,
    "start_time": "2021-08-07T20:52:26.343Z"
   },
   {
    "duration": 9,
    "start_time": "2021-08-07T20:52:37.421Z"
   },
   {
    "duration": 18,
    "start_time": "2021-08-07T20:53:14.186Z"
   },
   {
    "duration": 24,
    "start_time": "2021-08-07T20:53:20.892Z"
   },
   {
    "duration": 23,
    "start_time": "2021-08-07T20:53:26.130Z"
   },
   {
    "duration": 6,
    "start_time": "2021-08-07T20:54:13.784Z"
   },
   {
    "duration": 15,
    "start_time": "2021-08-07T20:54:55.726Z"
   },
   {
    "duration": 21,
    "start_time": "2021-08-07T20:55:28.881Z"
   },
   {
    "duration": 18,
    "start_time": "2021-08-07T20:55:41.423Z"
   },
   {
    "duration": 17,
    "start_time": "2021-08-07T20:55:48.786Z"
   },
   {
    "duration": 22,
    "start_time": "2021-08-07T20:55:56.857Z"
   },
   {
    "duration": 40,
    "start_time": "2021-08-07T20:56:31.877Z"
   },
   {
    "duration": 5,
    "start_time": "2021-08-07T20:56:50.669Z"
   },
   {
    "duration": 6,
    "start_time": "2021-08-07T20:57:56.013Z"
   },
   {
    "duration": 2538,
    "start_time": "2021-08-07T21:08:32.818Z"
   },
   {
    "duration": 272,
    "start_time": "2021-08-07T21:09:14.923Z"
   },
   {
    "duration": 5,
    "start_time": "2021-08-07T21:09:40.364Z"
   },
   {
    "duration": 60500,
    "start_time": "2021-08-07T21:12:49.301Z"
   },
   {
    "duration": 5,
    "start_time": "2021-08-07T21:19:01.579Z"
   },
   {
    "duration": 1538,
    "start_time": "2021-08-07T21:51:26.159Z"
   },
   {
    "duration": 15,
    "start_time": "2021-08-07T21:51:27.700Z"
   },
   {
    "duration": 2459,
    "start_time": "2021-08-07T21:51:27.719Z"
   },
   {
    "duration": 722,
    "start_time": "2021-08-07T21:51:30.180Z"
   },
   {
    "duration": 385,
    "start_time": "2021-08-07T21:51:30.904Z"
   },
   {
    "duration": 786,
    "start_time": "2021-08-07T21:51:31.291Z"
   },
   {
    "duration": 3,
    "start_time": "2021-08-07T21:51:32.080Z"
   },
   {
    "duration": 10,
    "start_time": "2021-08-07T21:51:32.087Z"
   },
   {
    "duration": 9,
    "start_time": "2021-08-07T21:51:32.101Z"
   },
   {
    "duration": 46,
    "start_time": "2021-08-07T21:51:32.112Z"
   },
   {
    "duration": 10,
    "start_time": "2021-08-07T21:51:32.160Z"
   },
   {
    "duration": 5,
    "start_time": "2021-08-07T21:51:32.173Z"
   },
   {
    "duration": 41,
    "start_time": "2021-08-07T21:51:32.181Z"
   },
   {
    "duration": 33,
    "start_time": "2021-08-07T21:51:32.225Z"
   },
   {
    "duration": 27,
    "start_time": "2021-08-07T21:51:32.261Z"
   },
   {
    "duration": 36,
    "start_time": "2021-08-07T21:51:32.290Z"
   },
   {
    "duration": 26,
    "start_time": "2021-08-07T21:51:32.354Z"
   },
   {
    "duration": 8,
    "start_time": "2021-08-07T21:51:32.382Z"
   },
   {
    "duration": 31,
    "start_time": "2021-08-07T21:51:32.393Z"
   },
   {
    "duration": 42,
    "start_time": "2021-08-07T21:51:32.426Z"
   },
   {
    "duration": 35,
    "start_time": "2021-08-07T21:51:32.470Z"
   },
   {
    "duration": 11,
    "start_time": "2021-08-07T21:51:32.508Z"
   },
   {
    "duration": 59,
    "start_time": "2021-08-07T21:51:32.524Z"
   },
   {
    "duration": 29,
    "start_time": "2021-08-07T21:51:32.586Z"
   },
   {
    "duration": 3,
    "start_time": "2021-08-07T21:51:32.618Z"
   },
   {
    "duration": 10,
    "start_time": "2021-08-07T21:51:32.656Z"
   },
   {
    "duration": 4807,
    "start_time": "2021-08-07T21:51:32.669Z"
   },
   {
    "duration": 7,
    "start_time": "2021-08-07T21:51:37.478Z"
   },
   {
    "duration": 12,
    "start_time": "2021-08-07T21:51:37.488Z"
   },
   {
    "duration": 1034,
    "start_time": "2021-08-07T21:51:37.502Z"
   },
   {
    "duration": 4,
    "start_time": "2021-08-07T21:51:38.538Z"
   },
   {
    "duration": 1092,
    "start_time": "2021-08-07T21:51:38.544Z"
   },
   {
    "duration": 16,
    "start_time": "2021-08-07T21:51:39.639Z"
   },
   {
    "duration": 713,
    "start_time": "2021-08-07T21:51:39.657Z"
   },
   {
    "duration": 20,
    "start_time": "2021-08-07T21:51:40.373Z"
   },
   {
    "duration": 828,
    "start_time": "2021-08-07T21:51:40.396Z"
   },
   {
    "duration": 30,
    "start_time": "2021-08-07T21:51:41.226Z"
   },
   {
    "duration": 727,
    "start_time": "2021-08-07T21:51:41.258Z"
   },
   {
    "duration": 421,
    "start_time": "2021-08-07T21:51:41.988Z"
   },
   {
    "duration": 7,
    "start_time": "2021-08-07T21:51:42.412Z"
   },
   {
    "duration": 18,
    "start_time": "2021-08-07T21:51:42.422Z"
   },
   {
    "duration": 38,
    "start_time": "2021-08-07T21:51:42.455Z"
   },
   {
    "duration": 6,
    "start_time": "2021-08-07T21:51:42.495Z"
   },
   {
    "duration": 62,
    "start_time": "2021-08-07T21:51:42.504Z"
   },
   {
    "duration": 6,
    "start_time": "2021-08-07T21:51:42.568Z"
   },
   {
    "duration": 19,
    "start_time": "2021-08-07T21:51:42.577Z"
   },
   {
    "duration": 67,
    "start_time": "2021-08-07T21:51:42.598Z"
   },
   {
    "duration": 5,
    "start_time": "2021-08-07T21:51:42.668Z"
   },
   {
    "duration": 8,
    "start_time": "2021-08-07T21:51:42.675Z"
   },
   {
    "duration": 3276,
    "start_time": "2021-08-07T21:51:42.686Z"
   },
   {
    "duration": 93,
    "start_time": "2021-08-07T21:51:45.965Z"
   },
   {
    "duration": 61577,
    "start_time": "2021-08-07T21:51:46.061Z"
   },
   {
    "duration": 6,
    "start_time": "2021-08-07T21:52:47.640Z"
   },
   {
    "duration": 2244,
    "start_time": "2021-08-07T22:07:55.533Z"
   },
   {
    "duration": 25,
    "start_time": "2021-08-07T22:07:57.781Z"
   },
   {
    "duration": 2929,
    "start_time": "2021-08-07T22:07:57.810Z"
   },
   {
    "duration": 1056,
    "start_time": "2021-08-07T22:08:00.743Z"
   },
   {
    "duration": 533,
    "start_time": "2021-08-07T22:08:01.802Z"
   },
   {
    "duration": 1125,
    "start_time": "2021-08-07T22:08:02.338Z"
   },
   {
    "duration": 5,
    "start_time": "2021-08-07T22:08:03.466Z"
   },
   {
    "duration": 31,
    "start_time": "2021-08-07T22:08:03.477Z"
   },
   {
    "duration": 21,
    "start_time": "2021-08-07T22:08:03.513Z"
   },
   {
    "duration": 40,
    "start_time": "2021-08-07T22:08:03.537Z"
   },
   {
    "duration": 40,
    "start_time": "2021-08-07T22:08:03.581Z"
   },
   {
    "duration": 23,
    "start_time": "2021-08-07T22:08:03.624Z"
   },
   {
    "duration": 63,
    "start_time": "2021-08-07T22:08:03.650Z"
   },
   {
    "duration": 13,
    "start_time": "2021-08-07T22:08:03.716Z"
   },
   {
    "duration": 53,
    "start_time": "2021-08-07T22:08:03.732Z"
   },
   {
    "duration": 79,
    "start_time": "2021-08-07T22:08:03.788Z"
   },
   {
    "duration": 36,
    "start_time": "2021-08-07T22:08:03.871Z"
   },
   {
    "duration": 6,
    "start_time": "2021-08-07T22:08:03.909Z"
   },
   {
    "duration": 52,
    "start_time": "2021-08-07T22:08:03.918Z"
   },
   {
    "duration": 24,
    "start_time": "2021-08-07T22:08:03.973Z"
   },
   {
    "duration": 73,
    "start_time": "2021-08-07T22:08:04.000Z"
   },
   {
    "duration": 14,
    "start_time": "2021-08-07T22:08:04.076Z"
   },
   {
    "duration": 58,
    "start_time": "2021-08-07T22:08:04.096Z"
   },
   {
    "duration": 31,
    "start_time": "2021-08-07T22:08:04.158Z"
   },
   {
    "duration": 5,
    "start_time": "2021-08-07T22:08:04.193Z"
   },
   {
    "duration": 9,
    "start_time": "2021-08-07T22:08:04.201Z"
   },
   {
    "duration": 4583,
    "start_time": "2021-08-07T22:08:04.213Z"
   },
   {
    "duration": 9,
    "start_time": "2021-08-07T22:08:08.799Z"
   },
   {
    "duration": 32,
    "start_time": "2021-08-07T22:08:08.811Z"
   },
   {
    "duration": 1161,
    "start_time": "2021-08-07T22:08:08.845Z"
   },
   {
    "duration": 5,
    "start_time": "2021-08-07T22:08:10.009Z"
   },
   {
    "duration": 1523,
    "start_time": "2021-08-07T22:08:10.018Z"
   },
   {
    "duration": 15,
    "start_time": "2021-08-07T22:08:11.544Z"
   },
   {
    "duration": 1172,
    "start_time": "2021-08-07T22:08:11.561Z"
   },
   {
    "duration": 35,
    "start_time": "2021-08-07T22:08:12.736Z"
   },
   {
    "duration": 1304,
    "start_time": "2021-08-07T22:08:12.774Z"
   },
   {
    "duration": 20,
    "start_time": "2021-08-07T22:08:14.081Z"
   },
   {
    "duration": 1109,
    "start_time": "2021-08-07T22:08:14.104Z"
   },
   {
    "duration": 592,
    "start_time": "2021-08-07T22:08:15.216Z"
   },
   {
    "duration": 8,
    "start_time": "2021-08-07T22:08:15.812Z"
   },
   {
    "duration": 33,
    "start_time": "2021-08-07T22:08:15.823Z"
   },
   {
    "duration": 53,
    "start_time": "2021-08-07T22:08:15.860Z"
   },
   {
    "duration": 8,
    "start_time": "2021-08-07T22:08:15.916Z"
   },
   {
    "duration": 49,
    "start_time": "2021-08-07T22:08:15.954Z"
   },
   {
    "duration": 8,
    "start_time": "2021-08-07T22:08:16.007Z"
   },
   {
    "duration": 53,
    "start_time": "2021-08-07T22:08:16.018Z"
   },
   {
    "duration": 61,
    "start_time": "2021-08-07T22:08:16.074Z"
   },
   {
    "duration": 18,
    "start_time": "2021-08-07T22:08:16.138Z"
   },
   {
    "duration": 14,
    "start_time": "2021-08-07T22:08:16.159Z"
   },
   {
    "duration": 3081,
    "start_time": "2021-08-07T22:08:16.176Z"
   },
   {
    "duration": 4,
    "start_time": "2021-08-07T22:08:19.260Z"
   },
   {
    "duration": 63849,
    "start_time": "2021-08-07T22:08:19.267Z"
   },
   {
    "duration": 5,
    "start_time": "2021-08-07T22:09:23.119Z"
   },
   {
    "duration": 408298,
    "start_time": "2021-08-07T22:09:23.127Z"
   },
   {
    "duration": 2092,
    "start_time": "2021-08-07T22:16:29.886Z"
   },
   {
    "duration": 22,
    "start_time": "2021-08-07T22:16:31.982Z"
   },
   {
    "duration": 2290,
    "start_time": "2021-08-07T22:16:32.008Z"
   },
   {
    "duration": 807,
    "start_time": "2021-08-07T22:16:34.302Z"
   },
   {
    "duration": 402,
    "start_time": "2021-08-07T22:16:35.111Z"
   },
   {
    "duration": 806,
    "start_time": "2021-08-07T22:16:35.516Z"
   },
   {
    "duration": 4,
    "start_time": "2021-08-07T22:16:36.325Z"
   },
   {
    "duration": 34,
    "start_time": "2021-08-07T22:16:36.333Z"
   },
   {
    "duration": 12,
    "start_time": "2021-08-07T22:16:36.372Z"
   },
   {
    "duration": 11,
    "start_time": "2021-08-07T22:16:36.386Z"
   },
   {
    "duration": 8,
    "start_time": "2021-08-07T22:16:36.399Z"
   },
   {
    "duration": 46,
    "start_time": "2021-08-07T22:16:36.409Z"
   },
   {
    "duration": 32,
    "start_time": "2021-08-07T22:16:36.458Z"
   },
   {
    "duration": 9,
    "start_time": "2021-08-07T22:16:36.492Z"
   },
   {
    "duration": 69,
    "start_time": "2021-08-07T22:16:36.504Z"
   },
   {
    "duration": 34,
    "start_time": "2021-08-07T22:16:36.576Z"
   },
   {
    "duration": 45,
    "start_time": "2021-08-07T22:16:36.613Z"
   },
   {
    "duration": 5,
    "start_time": "2021-08-07T22:16:36.661Z"
   },
   {
    "duration": 22,
    "start_time": "2021-08-07T22:16:36.668Z"
   },
   {
    "duration": 21,
    "start_time": "2021-08-07T22:16:36.692Z"
   },
   {
    "duration": 72,
    "start_time": "2021-08-07T22:16:36.715Z"
   },
   {
    "duration": 11,
    "start_time": "2021-08-07T22:16:36.789Z"
   },
   {
    "duration": 56,
    "start_time": "2021-08-07T22:16:36.805Z"
   },
   {
    "duration": 30,
    "start_time": "2021-08-07T22:16:36.864Z"
   },
   {
    "duration": 4,
    "start_time": "2021-08-07T22:16:36.896Z"
   },
   {
    "duration": 9,
    "start_time": "2021-08-07T22:16:36.903Z"
   },
   {
    "duration": 5035,
    "start_time": "2021-08-07T22:16:36.914Z"
   },
   {
    "duration": 6,
    "start_time": "2021-08-07T22:16:41.955Z"
   },
   {
    "duration": 27,
    "start_time": "2021-08-07T22:16:41.964Z"
   },
   {
    "duration": 1166,
    "start_time": "2021-08-07T22:16:41.994Z"
   },
   {
    "duration": 4,
    "start_time": "2021-08-07T22:16:43.163Z"
   },
   {
    "duration": 1226,
    "start_time": "2021-08-07T22:16:43.170Z"
   },
   {
    "duration": 9,
    "start_time": "2021-08-07T22:16:44.398Z"
   },
   {
    "duration": 776,
    "start_time": "2021-08-07T22:16:44.409Z"
   },
   {
    "duration": 20,
    "start_time": "2021-08-07T22:16:45.188Z"
   },
   {
    "duration": 888,
    "start_time": "2021-08-07T22:16:45.210Z"
   },
   {
    "duration": 17,
    "start_time": "2021-08-07T22:16:46.100Z"
   },
   {
    "duration": 788,
    "start_time": "2021-08-07T22:16:46.120Z"
   },
   {
    "duration": 433,
    "start_time": "2021-08-07T22:16:46.910Z"
   },
   {
    "duration": 12,
    "start_time": "2021-08-07T22:16:47.345Z"
   },
   {
    "duration": 19,
    "start_time": "2021-08-07T22:16:47.360Z"
   },
   {
    "duration": 60,
    "start_time": "2021-08-07T22:16:47.381Z"
   },
   {
    "duration": 6,
    "start_time": "2021-08-07T22:16:47.443Z"
   },
   {
    "duration": 53,
    "start_time": "2021-08-07T22:16:47.451Z"
   },
   {
    "duration": 8,
    "start_time": "2021-08-07T22:16:47.507Z"
   },
   {
    "duration": 31,
    "start_time": "2021-08-07T22:16:47.517Z"
   },
   {
    "duration": 61,
    "start_time": "2021-08-07T22:16:47.550Z"
   },
   {
    "duration": 5,
    "start_time": "2021-08-07T22:16:47.613Z"
   },
   {
    "duration": 25,
    "start_time": "2021-08-07T22:16:47.621Z"
   },
   {
    "duration": 3114,
    "start_time": "2021-08-07T22:16:47.649Z"
   },
   {
    "duration": 8,
    "start_time": "2021-08-07T22:16:50.766Z"
   },
   {
    "duration": 62834,
    "start_time": "2021-08-07T22:16:50.777Z"
   },
   {
    "duration": 5,
    "start_time": "2021-08-07T22:17:53.614Z"
   },
   {
    "duration": 987867,
    "start_time": "2021-08-07T22:17:53.621Z"
   },
   {
    "duration": 784625,
    "start_time": "2021-08-07T22:34:29.338Z"
   },
   {
    "duration": 249930,
    "start_time": "2021-08-07T22:49:09.140Z"
   },
   {
    "duration": 532672,
    "start_time": "2021-08-07T22:54:30.569Z"
   },
   {
    "duration": 220553,
    "start_time": "2021-08-07T23:06:00.417Z"
   },
   {
    "duration": 5,
    "start_time": "2021-08-07T23:10:37.874Z"
   },
   {
    "duration": 13508,
    "start_time": "2021-08-07T23:10:56.007Z"
   },
   {
    "duration": 2540,
    "start_time": "2021-08-07T23:14:30.225Z"
   },
   {
    "duration": 10490,
    "start_time": "2021-08-07T23:14:46.073Z"
   },
   {
    "duration": 274,
    "start_time": "2021-08-07T23:17:05.795Z"
   },
   {
    "duration": 5,
    "start_time": "2021-08-07T23:17:11.389Z"
   },
   {
    "duration": 10141,
    "start_time": "2021-08-07T23:18:25.992Z"
   },
   {
    "duration": 5,
    "start_time": "2021-08-07T23:18:47.695Z"
   },
   {
    "duration": 20359,
    "start_time": "2021-08-07T23:21:20.068Z"
   },
   {
    "duration": 1550,
    "start_time": "2021-08-07T23:26:51.346Z"
   },
   {
    "duration": 16,
    "start_time": "2021-08-07T23:26:52.899Z"
   },
   {
    "duration": 2501,
    "start_time": "2021-08-07T23:26:52.918Z"
   },
   {
    "duration": 709,
    "start_time": "2021-08-07T23:26:55.422Z"
   },
   {
    "duration": 393,
    "start_time": "2021-08-07T23:26:56.134Z"
   },
   {
    "duration": 805,
    "start_time": "2021-08-07T23:26:56.530Z"
   },
   {
    "duration": 16,
    "start_time": "2021-08-07T23:26:57.338Z"
   },
   {
    "duration": 11,
    "start_time": "2021-08-07T23:26:57.359Z"
   },
   {
    "duration": 12,
    "start_time": "2021-08-07T23:26:57.374Z"
   },
   {
    "duration": 13,
    "start_time": "2021-08-07T23:26:57.389Z"
   },
   {
    "duration": 51,
    "start_time": "2021-08-07T23:26:57.405Z"
   },
   {
    "duration": 6,
    "start_time": "2021-08-07T23:26:57.459Z"
   },
   {
    "duration": 34,
    "start_time": "2021-08-07T23:26:57.467Z"
   },
   {
    "duration": 9,
    "start_time": "2021-08-07T23:26:57.503Z"
   },
   {
    "duration": 59,
    "start_time": "2021-08-07T23:26:57.515Z"
   },
   {
    "duration": 34,
    "start_time": "2021-08-07T23:26:57.576Z"
   },
   {
    "duration": 54,
    "start_time": "2021-08-07T23:26:57.612Z"
   },
   {
    "duration": 6,
    "start_time": "2021-08-07T23:26:57.668Z"
   },
   {
    "duration": 24,
    "start_time": "2021-08-07T23:26:57.676Z"
   },
   {
    "duration": 21,
    "start_time": "2021-08-07T23:26:57.702Z"
   },
   {
    "duration": 35,
    "start_time": "2021-08-07T23:26:57.755Z"
   },
   {
    "duration": 10,
    "start_time": "2021-08-07T23:26:57.793Z"
   },
   {
    "duration": 58,
    "start_time": "2021-08-07T23:26:57.809Z"
   },
   {
    "duration": 31,
    "start_time": "2021-08-07T23:26:57.870Z"
   },
   {
    "duration": 4,
    "start_time": "2021-08-07T23:26:57.903Z"
   },
   {
    "duration": 6,
    "start_time": "2021-08-07T23:26:57.910Z"
   },
   {
    "duration": 4653,
    "start_time": "2021-08-07T23:26:57.919Z"
   },
   {
    "duration": 7,
    "start_time": "2021-08-07T23:27:02.574Z"
   },
   {
    "duration": 11,
    "start_time": "2021-08-07T23:27:02.584Z"
   },
   {
    "duration": 1027,
    "start_time": "2021-08-07T23:27:02.598Z"
   },
   {
    "duration": 4,
    "start_time": "2021-08-07T23:27:03.628Z"
   },
   {
    "duration": 1103,
    "start_time": "2021-08-07T23:27:03.635Z"
   },
   {
    "duration": 19,
    "start_time": "2021-08-07T23:27:04.740Z"
   },
   {
    "duration": 814,
    "start_time": "2021-08-07T23:27:04.761Z"
   },
   {
    "duration": 19,
    "start_time": "2021-08-07T23:27:05.577Z"
   },
   {
    "duration": 942,
    "start_time": "2021-08-07T23:27:05.599Z"
   },
   {
    "duration": 21,
    "start_time": "2021-08-07T23:27:06.544Z"
   },
   {
    "duration": 737,
    "start_time": "2021-08-07T23:27:06.567Z"
   },
   {
    "duration": 409,
    "start_time": "2021-08-07T23:27:07.306Z"
   },
   {
    "duration": 7,
    "start_time": "2021-08-07T23:27:07.718Z"
   },
   {
    "duration": 29,
    "start_time": "2021-08-07T23:27:07.727Z"
   },
   {
    "duration": 36,
    "start_time": "2021-08-07T23:27:07.758Z"
   },
   {
    "duration": 6,
    "start_time": "2021-08-07T23:27:07.797Z"
   },
   {
    "duration": 63,
    "start_time": "2021-08-07T23:27:07.805Z"
   },
   {
    "duration": 6,
    "start_time": "2021-08-07T23:27:07.871Z"
   },
   {
    "duration": 16,
    "start_time": "2021-08-07T23:27:07.879Z"
   },
   {
    "duration": 66,
    "start_time": "2021-08-07T23:27:07.897Z"
   },
   {
    "duration": 4,
    "start_time": "2021-08-07T23:27:07.966Z"
   },
   {
    "duration": 11,
    "start_time": "2021-08-07T23:27:07.973Z"
   },
   {
    "duration": 3170,
    "start_time": "2021-08-07T23:27:07.986Z"
   },
   {
    "duration": 98,
    "start_time": "2021-08-07T23:27:11.159Z"
   },
   {
    "duration": 61550,
    "start_time": "2021-08-07T23:27:11.259Z"
   },
   {
    "duration": 4,
    "start_time": "2021-08-07T23:28:12.811Z"
   },
   {
    "duration": 512257,
    "start_time": "2021-08-07T23:28:12.818Z"
   },
   {
    "duration": 219791,
    "start_time": "2021-08-07T23:36:45.078Z"
   },
   {
    "duration": 7,
    "start_time": "2021-08-07T23:40:24.872Z"
   },
   {
    "duration": 12193,
    "start_time": "2021-08-07T23:40:24.881Z"
   },
   {
    "duration": 10181,
    "start_time": "2021-08-07T23:40:37.076Z"
   },
   {
    "duration": 5,
    "start_time": "2021-08-07T23:40:47.259Z"
   },
   {
    "duration": 20131,
    "start_time": "2021-08-07T23:40:47.266Z"
   },
   {
    "duration": 32154,
    "start_time": "2021-08-07T23:41:07.400Z"
   },
   {
    "duration": 5,
    "start_time": "2021-08-07T23:41:39.557Z"
   },
   {
    "duration": 356,
    "start_time": "2021-08-07T23:41:39.565Z"
   },
   {
    "duration": 5,
    "start_time": "2021-08-07T23:53:15.838Z"
   },
   {
    "duration": 5,
    "start_time": "2021-08-07T23:53:19.473Z"
   },
   {
    "duration": 5,
    "start_time": "2021-08-07T23:53:21.044Z"
   },
   {
    "duration": 10685,
    "start_time": "2021-08-07T23:53:24.141Z"
   },
   {
    "duration": 5,
    "start_time": "2021-08-07T23:53:52.671Z"
   },
   {
    "duration": 1499,
    "start_time": "2021-08-08T12:48:39.536Z"
   },
   {
    "duration": 16,
    "start_time": "2021-08-08T12:48:41.038Z"
   },
   {
    "duration": 5255,
    "start_time": "2021-08-08T12:48:41.057Z"
   },
   {
    "duration": 735,
    "start_time": "2021-08-08T12:48:46.316Z"
   },
   {
    "duration": 410,
    "start_time": "2021-08-08T12:48:47.055Z"
   },
   {
    "duration": 782,
    "start_time": "2021-08-08T12:48:47.468Z"
   },
   {
    "duration": 3,
    "start_time": "2021-08-08T12:48:48.253Z"
   },
   {
    "duration": 27,
    "start_time": "2021-08-08T12:48:48.260Z"
   },
   {
    "duration": 13,
    "start_time": "2021-08-08T12:48:48.300Z"
   },
   {
    "duration": 18,
    "start_time": "2021-08-08T12:48:48.315Z"
   },
   {
    "duration": 10,
    "start_time": "2021-08-08T12:48:48.336Z"
   },
   {
    "duration": 10,
    "start_time": "2021-08-08T12:48:48.348Z"
   },
   {
    "duration": 64,
    "start_time": "2021-08-08T12:48:48.361Z"
   },
   {
    "duration": 9,
    "start_time": "2021-08-08T12:48:48.427Z"
   },
   {
    "duration": 28,
    "start_time": "2021-08-08T12:48:48.440Z"
   },
   {
    "duration": 35,
    "start_time": "2021-08-08T12:48:48.500Z"
   },
   {
    "duration": 25,
    "start_time": "2021-08-08T12:48:48.538Z"
   },
   {
    "duration": 38,
    "start_time": "2021-08-08T12:48:48.566Z"
   },
   {
    "duration": 22,
    "start_time": "2021-08-08T12:48:48.607Z"
   },
   {
    "duration": 21,
    "start_time": "2021-08-08T12:48:48.632Z"
   },
   {
    "duration": 63,
    "start_time": "2021-08-08T12:48:48.655Z"
   },
   {
    "duration": 11,
    "start_time": "2021-08-08T12:48:48.721Z"
   },
   {
    "duration": 28,
    "start_time": "2021-08-08T12:48:48.738Z"
   },
   {
    "duration": 67,
    "start_time": "2021-08-08T12:48:48.769Z"
   },
   {
    "duration": 5,
    "start_time": "2021-08-08T12:48:48.839Z"
   },
   {
    "duration": 9,
    "start_time": "2021-08-08T12:48:48.847Z"
   },
   {
    "duration": 4395,
    "start_time": "2021-08-08T12:48:48.858Z"
   },
   {
    "duration": 6,
    "start_time": "2021-08-08T12:48:53.256Z"
   },
   {
    "duration": 9,
    "start_time": "2021-08-08T12:48:53.264Z"
   },
   {
    "duration": 1142,
    "start_time": "2021-08-08T12:48:53.276Z"
   },
   {
    "duration": 4,
    "start_time": "2021-08-08T12:48:54.420Z"
   },
   {
    "duration": 1134,
    "start_time": "2021-08-08T12:48:54.426Z"
   },
   {
    "duration": 8,
    "start_time": "2021-08-08T12:48:55.562Z"
   },
   {
    "duration": 731,
    "start_time": "2021-08-08T12:48:55.573Z"
   },
   {
    "duration": 18,
    "start_time": "2021-08-08T12:48:56.307Z"
   },
   {
    "duration": 812,
    "start_time": "2021-08-08T12:48:56.327Z"
   },
   {
    "duration": 19,
    "start_time": "2021-08-08T12:48:57.141Z"
   },
   {
    "duration": 750,
    "start_time": "2021-08-08T12:48:57.163Z"
   },
   {
    "duration": 411,
    "start_time": "2021-08-08T12:48:57.916Z"
   },
   {
    "duration": 6,
    "start_time": "2021-08-08T12:48:58.329Z"
   },
   {
    "duration": 10,
    "start_time": "2021-08-08T12:48:58.338Z"
   },
   {
    "duration": 62,
    "start_time": "2021-08-08T12:48:58.350Z"
   },
   {
    "duration": 6,
    "start_time": "2021-08-08T12:48:58.414Z"
   },
   {
    "duration": 34,
    "start_time": "2021-08-08T12:48:58.423Z"
   },
   {
    "duration": 5,
    "start_time": "2021-08-08T12:48:58.460Z"
   },
   {
    "duration": 43,
    "start_time": "2021-08-08T12:48:58.468Z"
   },
   {
    "duration": 43,
    "start_time": "2021-08-08T12:48:58.514Z"
   },
   {
    "duration": 5,
    "start_time": "2021-08-08T12:48:58.559Z"
   },
   {
    "duration": 16,
    "start_time": "2021-08-08T12:48:58.566Z"
   },
   {
    "duration": 2801,
    "start_time": "2021-08-08T12:48:58.600Z"
   },
   {
    "duration": 6,
    "start_time": "2021-08-08T12:49:01.404Z"
   },
   {
    "duration": 61673,
    "start_time": "2021-08-08T12:49:01.414Z"
   },
   {
    "duration": 13,
    "start_time": "2021-08-08T12:50:03.089Z"
   },
   {
    "duration": 531804,
    "start_time": "2021-08-08T12:50:03.104Z"
   },
   {
    "duration": 222479,
    "start_time": "2021-08-08T12:58:54.911Z"
   },
   {
    "duration": 9,
    "start_time": "2021-08-08T13:02:37.393Z"
   },
   {
    "duration": 12667,
    "start_time": "2021-08-08T13:02:37.404Z"
   },
   {
    "duration": 10416,
    "start_time": "2021-08-08T13:02:50.074Z"
   },
   {
    "duration": 11,
    "start_time": "2021-08-08T13:03:00.492Z"
   },
   {
    "duration": 20196,
    "start_time": "2021-08-08T13:03:00.505Z"
   },
   {
    "duration": 33252,
    "start_time": "2021-08-08T13:03:20.704Z"
   },
   {
    "duration": 5,
    "start_time": "2021-08-08T13:03:53.959Z"
   },
   {
    "duration": 346,
    "start_time": "2021-08-08T13:03:53.966Z"
   },
   {
    "duration": 1531,
    "start_time": "2021-08-08T20:50:03.508Z"
   },
   {
    "duration": 15,
    "start_time": "2021-08-08T20:50:05.042Z"
   },
   {
    "duration": 5817,
    "start_time": "2021-08-08T20:50:05.061Z"
   },
   {
    "duration": 751,
    "start_time": "2021-08-08T20:50:10.881Z"
   },
   {
    "duration": 401,
    "start_time": "2021-08-08T20:50:11.635Z"
   },
   {
    "duration": 798,
    "start_time": "2021-08-08T20:50:12.039Z"
   },
   {
    "duration": 5,
    "start_time": "2021-08-08T20:50:12.840Z"
   },
   {
    "duration": 11,
    "start_time": "2021-08-08T20:50:12.851Z"
   },
   {
    "duration": 42,
    "start_time": "2021-08-08T20:50:12.865Z"
   },
   {
    "duration": 12,
    "start_time": "2021-08-08T20:50:12.911Z"
   },
   {
    "duration": 8,
    "start_time": "2021-08-08T20:50:12.926Z"
   },
   {
    "duration": 6,
    "start_time": "2021-08-08T20:50:12.938Z"
   },
   {
    "duration": 77,
    "start_time": "2021-08-08T20:50:12.947Z"
   },
   {
    "duration": 11,
    "start_time": "2021-08-08T20:50:13.028Z"
   },
   {
    "duration": 68,
    "start_time": "2021-08-08T20:50:13.042Z"
   },
   {
    "duration": 36,
    "start_time": "2021-08-08T20:50:13.113Z"
   },
   {
    "duration": 60,
    "start_time": "2021-08-08T20:50:13.152Z"
   },
   {
    "duration": 8,
    "start_time": "2021-08-08T20:50:13.215Z"
   },
   {
    "duration": 21,
    "start_time": "2021-08-08T20:50:13.226Z"
   },
   {
    "duration": 56,
    "start_time": "2021-08-08T20:50:13.251Z"
   },
   {
    "duration": 35,
    "start_time": "2021-08-08T20:50:13.309Z"
   },
   {
    "duration": 11,
    "start_time": "2021-08-08T20:50:13.346Z"
   },
   {
    "duration": 60,
    "start_time": "2021-08-08T20:50:13.364Z"
   },
   {
    "duration": 30,
    "start_time": "2021-08-08T20:50:13.427Z"
   },
   {
    "duration": 4,
    "start_time": "2021-08-08T20:50:13.459Z"
   },
   {
    "duration": 35,
    "start_time": "2021-08-08T20:50:13.465Z"
   },
   {
    "duration": 4629,
    "start_time": "2021-08-08T20:50:13.503Z"
   },
   {
    "duration": 6,
    "start_time": "2021-08-08T20:50:18.134Z"
   },
   {
    "duration": 11,
    "start_time": "2021-08-08T20:50:18.143Z"
   },
   {
    "duration": 1023,
    "start_time": "2021-08-08T20:50:18.156Z"
   },
   {
    "duration": 4,
    "start_time": "2021-08-08T20:50:19.181Z"
   },
   {
    "duration": 1078,
    "start_time": "2021-08-08T20:50:19.187Z"
   },
   {
    "duration": 8,
    "start_time": "2021-08-08T20:50:20.267Z"
   },
   {
    "duration": 712,
    "start_time": "2021-08-08T20:50:20.278Z"
   },
   {
    "duration": 20,
    "start_time": "2021-08-08T20:50:21.000Z"
   },
   {
    "duration": 913,
    "start_time": "2021-08-08T20:50:21.023Z"
   },
   {
    "duration": 17,
    "start_time": "2021-08-08T20:50:21.940Z"
   },
   {
    "duration": 746,
    "start_time": "2021-08-08T20:50:21.959Z"
   },
   {
    "duration": 416,
    "start_time": "2021-08-08T20:50:22.708Z"
   },
   {
    "duration": 8,
    "start_time": "2021-08-08T20:50:23.127Z"
   },
   {
    "duration": 9,
    "start_time": "2021-08-08T20:50:23.138Z"
   },
   {
    "duration": 66,
    "start_time": "2021-08-08T20:50:23.150Z"
   },
   {
    "duration": 6,
    "start_time": "2021-08-08T20:50:23.219Z"
   },
   {
    "duration": 34,
    "start_time": "2021-08-08T20:50:23.228Z"
   },
   {
    "duration": 6,
    "start_time": "2021-08-08T20:50:23.265Z"
   },
   {
    "duration": 14,
    "start_time": "2021-08-08T20:50:23.301Z"
   },
   {
    "duration": 41,
    "start_time": "2021-08-08T20:50:23.318Z"
   },
   {
    "duration": 5,
    "start_time": "2021-08-08T20:50:23.362Z"
   },
   {
    "duration": 34,
    "start_time": "2021-08-08T20:50:23.369Z"
   },
   {
    "duration": 3100,
    "start_time": "2021-08-08T20:50:23.406Z"
   },
   {
    "duration": 95,
    "start_time": "2021-08-08T20:50:26.509Z"
   },
   {
    "duration": 60262,
    "start_time": "2021-08-08T20:50:26.609Z"
   },
   {
    "duration": 4,
    "start_time": "2021-08-08T20:51:26.874Z"
   },
   {
    "duration": 516377,
    "start_time": "2021-08-08T20:51:26.881Z"
   },
   {
    "duration": 215863,
    "start_time": "2021-08-08T21:00:03.261Z"
   },
   {
    "duration": 5,
    "start_time": "2021-08-08T21:03:39.127Z"
   },
   {
    "duration": 12210,
    "start_time": "2021-08-08T21:03:39.135Z"
   },
   {
    "duration": 9923,
    "start_time": "2021-08-08T21:03:51.348Z"
   },
   {
    "duration": 5,
    "start_time": "2021-08-08T21:04:01.274Z"
   },
   {
    "duration": 19827,
    "start_time": "2021-08-08T21:04:01.301Z"
   },
   {
    "duration": 31409,
    "start_time": "2021-08-08T21:04:21.131Z"
   },
   {
    "duration": 4,
    "start_time": "2021-08-08T21:04:52.542Z"
   },
   {
    "duration": 341,
    "start_time": "2021-08-08T21:04:52.549Z"
   },
   {
    "duration": 1537,
    "start_time": "2021-08-09T05:10:26.097Z"
   },
   {
    "duration": 16,
    "start_time": "2021-08-09T05:10:27.637Z"
   },
   {
    "duration": 6935,
    "start_time": "2021-08-09T05:10:27.656Z"
   },
   {
    "duration": 686,
    "start_time": "2021-08-09T05:10:34.594Z"
   },
   {
    "duration": 380,
    "start_time": "2021-08-09T05:10:35.283Z"
   },
   {
    "duration": 769,
    "start_time": "2021-08-09T05:10:35.666Z"
   },
   {
    "duration": 4,
    "start_time": "2021-08-09T05:10:36.438Z"
   },
   {
    "duration": 13,
    "start_time": "2021-08-09T05:10:36.447Z"
   },
   {
    "duration": 37,
    "start_time": "2021-08-09T05:10:36.464Z"
   },
   {
    "duration": 13,
    "start_time": "2021-08-09T05:10:36.504Z"
   },
   {
    "duration": 14,
    "start_time": "2021-08-09T05:10:36.520Z"
   },
   {
    "duration": 11,
    "start_time": "2021-08-09T05:10:36.537Z"
   },
   {
    "duration": 70,
    "start_time": "2021-08-09T05:10:36.550Z"
   },
   {
    "duration": 10,
    "start_time": "2021-08-09T05:10:36.624Z"
   },
   {
    "duration": 25,
    "start_time": "2021-08-09T05:10:36.637Z"
   },
   {
    "duration": 35,
    "start_time": "2021-08-09T05:10:36.701Z"
   },
   {
    "duration": 26,
    "start_time": "2021-08-09T05:10:36.739Z"
   },
   {
    "duration": 38,
    "start_time": "2021-08-09T05:10:36.768Z"
   },
   {
    "duration": 21,
    "start_time": "2021-08-09T05:10:36.808Z"
   },
   {
    "duration": 21,
    "start_time": "2021-08-09T05:10:36.832Z"
   },
   {
    "duration": 73,
    "start_time": "2021-08-09T05:10:36.856Z"
   },
   {
    "duration": 13,
    "start_time": "2021-08-09T05:10:36.932Z"
   },
   {
    "duration": 70,
    "start_time": "2021-08-09T05:10:36.953Z"
   },
   {
    "duration": 27,
    "start_time": "2021-08-09T05:10:37.026Z"
   },
   {
    "duration": 4,
    "start_time": "2021-08-09T05:10:37.055Z"
   },
   {
    "duration": 8,
    "start_time": "2021-08-09T05:10:37.061Z"
   },
   {
    "duration": 4331,
    "start_time": "2021-08-09T05:10:37.100Z"
   },
   {
    "duration": 6,
    "start_time": "2021-08-09T05:10:41.433Z"
   },
   {
    "duration": 9,
    "start_time": "2021-08-09T05:10:41.442Z"
   },
   {
    "duration": 1073,
    "start_time": "2021-08-09T05:10:41.454Z"
   },
   {
    "duration": 4,
    "start_time": "2021-08-09T05:10:42.529Z"
   },
   {
    "duration": 1048,
    "start_time": "2021-08-09T05:10:42.535Z"
   },
   {
    "duration": 16,
    "start_time": "2021-08-09T05:10:43.586Z"
   },
   {
    "duration": 699,
    "start_time": "2021-08-09T05:10:43.604Z"
   },
   {
    "duration": 19,
    "start_time": "2021-08-09T05:10:44.306Z"
   },
   {
    "duration": 811,
    "start_time": "2021-08-09T05:10:44.328Z"
   },
   {
    "duration": 16,
    "start_time": "2021-08-09T05:10:45.142Z"
   },
   {
    "duration": 729,
    "start_time": "2021-08-09T05:10:45.161Z"
   },
   {
    "duration": 415,
    "start_time": "2021-08-09T05:10:45.893Z"
   },
   {
    "duration": 7,
    "start_time": "2021-08-09T05:10:46.310Z"
   },
   {
    "duration": 16,
    "start_time": "2021-08-09T05:10:46.319Z"
   },
   {
    "duration": 64,
    "start_time": "2021-08-09T05:10:46.338Z"
   },
   {
    "duration": 6,
    "start_time": "2021-08-09T05:10:46.405Z"
   },
   {
    "duration": 37,
    "start_time": "2021-08-09T05:10:46.414Z"
   },
   {
    "duration": 6,
    "start_time": "2021-08-09T05:10:46.453Z"
   },
   {
    "duration": 52,
    "start_time": "2021-08-09T05:10:46.461Z"
   },
   {
    "duration": 49,
    "start_time": "2021-08-09T05:10:46.516Z"
   },
   {
    "duration": 4,
    "start_time": "2021-08-09T05:10:46.568Z"
   },
   {
    "duration": 25,
    "start_time": "2021-08-09T05:10:46.575Z"
   },
   {
    "duration": 2999,
    "start_time": "2021-08-09T05:10:46.602Z"
   },
   {
    "duration": 7,
    "start_time": "2021-08-09T05:10:49.605Z"
   },
   {
    "duration": 60568,
    "start_time": "2021-08-09T05:10:49.701Z"
   },
   {
    "duration": 5,
    "start_time": "2021-08-09T05:11:50.272Z"
   },
   {
    "duration": 528000,
    "start_time": "2021-08-09T05:11:50.280Z"
   },
   {
    "duration": 222392,
    "start_time": "2021-08-09T05:20:38.282Z"
   },
   {
    "duration": 6,
    "start_time": "2021-08-09T05:24:20.677Z"
   },
   {
    "duration": 12544,
    "start_time": "2021-08-09T05:24:20.701Z"
   },
   {
    "duration": 10261,
    "start_time": "2021-08-09T05:24:33.248Z"
   },
   {
    "duration": 4,
    "start_time": "2021-08-09T05:24:43.512Z"
   },
   {
    "duration": 20541,
    "start_time": "2021-08-09T05:24:43.519Z"
   },
   {
    "duration": 33229,
    "start_time": "2021-08-09T05:25:04.063Z"
   },
   {
    "duration": 7,
    "start_time": "2021-08-09T05:25:37.294Z"
   },
   {
    "duration": 365,
    "start_time": "2021-08-09T05:25:37.303Z"
   },
   {
    "duration": 4,
    "start_time": "2021-08-09T07:11:19.649Z"
   },
   {
    "duration": 1519,
    "start_time": "2021-08-09T20:32:33.093Z"
   },
   {
    "duration": 16,
    "start_time": "2021-08-09T20:32:36.789Z"
   },
   {
    "duration": 5630,
    "start_time": "2021-08-09T20:32:42.861Z"
   },
   {
    "duration": 736,
    "start_time": "2021-08-09T20:32:52.471Z"
   },
   {
    "duration": 380,
    "start_time": "2021-08-09T20:33:08.201Z"
   },
   {
    "duration": 773,
    "start_time": "2021-08-09T20:33:20.246Z"
   },
   {
    "duration": 4,
    "start_time": "2021-08-09T20:35:21.974Z"
   },
   {
    "duration": 9,
    "start_time": "2021-08-09T20:35:46.871Z"
   },
   {
    "duration": 11,
    "start_time": "2021-08-09T20:35:59.251Z"
   },
   {
    "duration": 10,
    "start_time": "2021-08-09T20:36:20.437Z"
   },
   {
    "duration": 8,
    "start_time": "2021-08-09T20:37:06.736Z"
   },
   {
    "duration": 6,
    "start_time": "2021-08-09T20:37:36.375Z"
   },
   {
    "duration": 31,
    "start_time": "2021-08-09T20:39:45.490Z"
   },
   {
    "duration": 10,
    "start_time": "2021-08-09T20:40:01.017Z"
   },
   {
    "duration": 26,
    "start_time": "2021-08-09T22:20:14.434Z"
   },
   {
    "duration": 36,
    "start_time": "2021-08-09T22:33:39.105Z"
   },
   {
    "duration": 25,
    "start_time": "2021-08-09T22:33:44.389Z"
   },
   {
    "duration": 6,
    "start_time": "2021-08-09T22:33:48.929Z"
   },
   {
    "duration": 23,
    "start_time": "2021-08-09T22:33:51.544Z"
   },
   {
    "duration": 21,
    "start_time": "2021-08-09T22:33:54.598Z"
   },
   {
    "duration": 43,
    "start_time": "2021-08-09T22:34:00.852Z"
   },
   {
    "duration": 11,
    "start_time": "2021-08-09T22:34:45.385Z"
   },
   {
    "duration": 32,
    "start_time": "2021-08-09T22:34:47.939Z"
   },
   {
    "duration": 28,
    "start_time": "2021-08-09T22:34:51.020Z"
   },
   {
    "duration": 4,
    "start_time": "2021-08-09T22:34:57.797Z"
   },
   {
    "duration": 7,
    "start_time": "2021-08-09T22:35:01.834Z"
   },
   {
    "duration": 5127,
    "start_time": "2021-08-09T22:35:06.180Z"
   },
   {
    "duration": 7,
    "start_time": "2021-08-09T22:36:24.414Z"
   },
   {
    "duration": 5,
    "start_time": "2021-08-09T22:36:30.299Z"
   },
   {
    "duration": 1105,
    "start_time": "2021-08-09T22:36:33.022Z"
   },
   {
    "duration": 4,
    "start_time": "2021-08-09T22:37:07.499Z"
   },
   {
    "duration": 1096,
    "start_time": "2021-08-09T22:37:11.208Z"
   },
   {
    "duration": 10,
    "start_time": "2021-08-09T22:39:23.113Z"
   },
   {
    "duration": 9,
    "start_time": "2021-08-09T22:45:29.162Z"
   },
   {
    "duration": 1079,
    "start_time": "2021-08-09T22:50:03.793Z"
   },
   {
    "duration": 9,
    "start_time": "2021-08-09T22:51:50.456Z"
   },
   {
    "duration": 6,
    "start_time": "2021-08-09T22:52:21.573Z"
   },
   {
    "duration": 8,
    "start_time": "2021-08-09T22:52:24.729Z"
   },
   {
    "duration": 944,
    "start_time": "2021-08-09T22:52:36.619Z"
   },
   {
    "duration": 1134,
    "start_time": "2021-08-09T22:52:58.938Z"
   },
   {
    "duration": 1537,
    "start_time": "2021-08-09T23:15:10.874Z"
   },
   {
    "duration": 17,
    "start_time": "2021-08-09T23:15:22.340Z"
   },
   {
    "duration": 1493,
    "start_time": "2021-08-09T23:23:34.690Z"
   },
   {
    "duration": 17,
    "start_time": "2021-08-09T23:23:38.709Z"
   },
   {
    "duration": 3607,
    "start_time": "2021-08-09T23:23:43.738Z"
   },
   {
    "duration": 767,
    "start_time": "2021-08-09T23:23:50.331Z"
   },
   {
    "duration": 369,
    "start_time": "2021-08-09T23:23:56.656Z"
   },
   {
    "duration": 760,
    "start_time": "2021-08-09T23:56:03.396Z"
   },
   {
    "duration": 4,
    "start_time": "2021-08-09T23:56:18.968Z"
   },
   {
    "duration": 14,
    "start_time": "2021-08-09T23:57:30.513Z"
   },
   {
    "duration": 11,
    "start_time": "2021-08-09T23:57:36.592Z"
   },
   {
    "duration": 10,
    "start_time": "2021-08-10T00:07:56.943Z"
   },
   {
    "duration": 6,
    "start_time": "2021-08-10T00:08:09.734Z"
   },
   {
    "duration": 5,
    "start_time": "2021-08-10T00:08:56.733Z"
   },
   {
    "duration": 34,
    "start_time": "2021-08-10T00:09:01.343Z"
   },
   {
    "duration": 9,
    "start_time": "2021-08-10T00:09:09.054Z"
   },
   {
    "duration": 24,
    "start_time": "2021-08-10T00:09:11.983Z"
   },
   {
    "duration": 34,
    "start_time": "2021-08-10T00:09:15.680Z"
   },
   {
    "duration": 25,
    "start_time": "2021-08-10T00:09:22.613Z"
   },
   {
    "duration": 6,
    "start_time": "2021-08-10T00:09:32.203Z"
   },
   {
    "duration": 26,
    "start_time": "2021-08-10T00:09:34.834Z"
   },
   {
    "duration": 35,
    "start_time": "2021-08-10T00:09:38.238Z"
   },
   {
    "duration": 33,
    "start_time": "2021-08-10T00:09:45.747Z"
   },
   {
    "duration": 11,
    "start_time": "2021-08-10T00:09:51.834Z"
   },
   {
    "duration": 28,
    "start_time": "2021-08-10T00:09:54.326Z"
   },
   {
    "duration": 47,
    "start_time": "2021-08-10T00:10:27.678Z"
   },
   {
    "duration": 4,
    "start_time": "2021-08-10T00:11:54.424Z"
   },
   {
    "duration": 6,
    "start_time": "2021-08-10T00:11:59.429Z"
   },
   {
    "duration": 4835,
    "start_time": "2021-08-10T00:12:01.663Z"
   },
   {
    "duration": 6,
    "start_time": "2021-08-10T00:12:27.742Z"
   },
   {
    "duration": 9,
    "start_time": "2021-08-10T00:12:31.412Z"
   },
   {
    "duration": 953,
    "start_time": "2021-08-10T00:13:13.094Z"
   },
   {
    "duration": 1012,
    "start_time": "2021-08-10T00:15:16.187Z"
   },
   {
    "duration": 8,
    "start_time": "2021-08-10T00:30:09.217Z"
   },
   {
    "duration": 669,
    "start_time": "2021-08-10T00:30:15.531Z"
   },
   {
    "duration": 19,
    "start_time": "2021-08-10T01:04:41.625Z"
   },
   {
    "duration": 766,
    "start_time": "2021-08-10T01:04:43.518Z"
   },
   {
    "duration": 16,
    "start_time": "2021-08-10T01:07:04.175Z"
   },
   {
    "duration": 812,
    "start_time": "2021-08-10T01:07:07.551Z"
   },
   {
    "duration": 387,
    "start_time": "2021-08-10T01:21:11.885Z"
   },
   {
    "duration": 7,
    "start_time": "2021-08-10T01:21:16.343Z"
   },
   {
    "duration": 7,
    "start_time": "2021-08-10T01:21:18.799Z"
   },
   {
    "duration": 37,
    "start_time": "2021-08-10T01:21:21.062Z"
   },
   {
    "duration": 6,
    "start_time": "2021-08-10T01:21:23.381Z"
   },
   {
    "duration": 31,
    "start_time": "2021-08-10T01:21:26.612Z"
   },
   {
    "duration": 6,
    "start_time": "2021-08-10T01:21:34.032Z"
   },
   {
    "duration": 15,
    "start_time": "2021-08-10T01:21:36.458Z"
   },
   {
    "duration": 41,
    "start_time": "2021-08-10T01:21:38.919Z"
   },
   {
    "duration": 5,
    "start_time": "2021-08-10T01:21:47.618Z"
   },
   {
    "duration": 6,
    "start_time": "2021-08-10T01:21:59.655Z"
   },
   {
    "duration": 6,
    "start_time": "2021-08-10T01:23:49.417Z"
   },
   {
    "duration": 14,
    "start_time": "2021-08-10T01:23:51.649Z"
   },
   {
    "duration": 37,
    "start_time": "2021-08-10T01:23:54.521Z"
   },
   {
    "duration": 5,
    "start_time": "2021-08-10T01:23:57.148Z"
   },
   {
    "duration": 6,
    "start_time": "2021-08-10T01:23:59.942Z"
   },
   {
    "duration": 120,
    "start_time": "2021-08-10T01:24:12.921Z"
   },
   {
    "duration": 5,
    "start_time": "2021-08-10T01:24:39.483Z"
   },
   {
    "duration": 13,
    "start_time": "2021-08-10T01:24:42.935Z"
   },
   {
    "duration": 34,
    "start_time": "2021-08-10T01:24:45.713Z"
   },
   {
    "duration": 5,
    "start_time": "2021-08-10T01:24:49.979Z"
   },
   {
    "duration": 6,
    "start_time": "2021-08-10T01:26:05.415Z"
   },
   {
    "duration": 13,
    "start_time": "2021-08-10T01:26:07.908Z"
   },
   {
    "duration": 35,
    "start_time": "2021-08-10T01:26:10.046Z"
   },
   {
    "duration": 4,
    "start_time": "2021-08-10T01:26:12.328Z"
   },
   {
    "duration": 6,
    "start_time": "2021-08-10T01:26:14.313Z"
   },
   {
    "duration": 6,
    "start_time": "2021-08-10T01:26:30.541Z"
   },
   {
    "duration": 13,
    "start_time": "2021-08-10T01:26:33.428Z"
   },
   {
    "duration": 34,
    "start_time": "2021-08-10T01:26:35.761Z"
   },
   {
    "duration": 4,
    "start_time": "2021-08-10T01:26:39.545Z"
   },
   {
    "duration": 5,
    "start_time": "2021-08-10T01:26:41.774Z"
   },
   {
    "duration": 1386,
    "start_time": "2021-08-10T01:26:52.419Z"
   },
   {
    "duration": 1647,
    "start_time": "2021-08-10T01:27:36.430Z"
   },
   {
    "duration": 16,
    "start_time": "2021-08-10T01:27:38.080Z"
   },
   {
    "duration": 5334,
    "start_time": "2021-08-10T01:27:38.098Z"
   },
   {
    "duration": 695,
    "start_time": "2021-08-10T01:27:43.435Z"
   },
   {
    "duration": 389,
    "start_time": "2021-08-10T01:27:44.133Z"
   },
   {
    "duration": 781,
    "start_time": "2021-08-10T01:27:44.525Z"
   },
   {
    "duration": 4,
    "start_time": "2021-08-10T01:27:45.309Z"
   },
   {
    "duration": 13,
    "start_time": "2021-08-10T01:27:45.316Z"
   },
   {
    "duration": 27,
    "start_time": "2021-08-10T01:27:45.332Z"
   },
   {
    "duration": 12,
    "start_time": "2021-08-10T01:27:45.361Z"
   },
   {
    "duration": 9,
    "start_time": "2021-08-10T01:27:45.375Z"
   },
   {
    "duration": 7,
    "start_time": "2021-08-10T01:27:45.387Z"
   },
   {
    "duration": 66,
    "start_time": "2021-08-10T01:27:45.396Z"
   },
   {
    "duration": 9,
    "start_time": "2021-08-10T01:27:45.464Z"
   },
   {
    "duration": 29,
    "start_time": "2021-08-10T01:27:45.476Z"
   },
   {
    "duration": 68,
    "start_time": "2021-08-10T01:27:45.507Z"
   },
   {
    "duration": 24,
    "start_time": "2021-08-10T01:27:45.577Z"
   },
   {
    "duration": 5,
    "start_time": "2021-08-10T01:27:45.604Z"
   },
   {
    "duration": 46,
    "start_time": "2021-08-10T01:27:45.611Z"
   },
   {
    "duration": 23,
    "start_time": "2021-08-10T01:27:45.659Z"
   },
   {
    "duration": 34,
    "start_time": "2021-08-10T01:27:45.684Z"
   },
   {
    "duration": 42,
    "start_time": "2021-08-10T01:27:45.721Z"
   },
   {
    "duration": 27,
    "start_time": "2021-08-10T01:27:45.768Z"
   },
   {
    "duration": 29,
    "start_time": "2021-08-10T01:27:45.798Z"
   },
   {
    "duration": 4,
    "start_time": "2021-08-10T01:27:45.855Z"
   },
   {
    "duration": 11,
    "start_time": "2021-08-10T01:27:45.861Z"
   },
   {
    "duration": 4570,
    "start_time": "2021-08-10T01:27:45.874Z"
   },
   {
    "duration": 9,
    "start_time": "2021-08-10T01:27:50.446Z"
   },
   {
    "duration": 12,
    "start_time": "2021-08-10T01:27:50.458Z"
   },
   {
    "duration": 985,
    "start_time": "2021-08-10T01:27:50.473Z"
   },
   {
    "duration": 1043,
    "start_time": "2021-08-10T01:27:51.461Z"
   },
   {
    "duration": 8,
    "start_time": "2021-08-10T01:27:52.506Z"
   },
   {
    "duration": 685,
    "start_time": "2021-08-10T01:27:52.516Z"
   },
   {
    "duration": 20,
    "start_time": "2021-08-10T01:27:53.203Z"
   },
   {
    "duration": 805,
    "start_time": "2021-08-10T01:27:53.226Z"
   },
   {
    "duration": 33,
    "start_time": "2021-08-10T01:27:54.034Z"
   },
   {
    "duration": 707,
    "start_time": "2021-08-10T01:27:54.069Z"
   },
   {
    "duration": 404,
    "start_time": "2021-08-10T01:27:54.778Z"
   },
   {
    "duration": 6,
    "start_time": "2021-08-10T01:27:55.185Z"
   },
   {
    "duration": 16,
    "start_time": "2021-08-10T01:27:55.193Z"
   },
   {
    "duration": 58,
    "start_time": "2021-08-10T01:27:55.211Z"
   },
   {
    "duration": 5,
    "start_time": "2021-08-10T01:27:55.272Z"
   },
   {
    "duration": 42,
    "start_time": "2021-08-10T01:27:55.279Z"
   },
   {
    "duration": 6,
    "start_time": "2021-08-10T01:27:55.323Z"
   },
   {
    "duration": 34,
    "start_time": "2021-08-10T01:27:55.331Z"
   },
   {
    "duration": 52,
    "start_time": "2021-08-10T01:27:55.368Z"
   },
   {
    "duration": 5,
    "start_time": "2021-08-10T01:27:55.423Z"
   },
   {
    "duration": 27,
    "start_time": "2021-08-10T01:27:55.431Z"
   },
   {
    "duration": 1372,
    "start_time": "2021-08-10T01:27:55.460Z"
   },
   {
    "duration": -220,
    "start_time": "2021-08-10T01:27:57.055Z"
   },
   {
    "duration": -227,
    "start_time": "2021-08-10T01:27:57.063Z"
   },
   {
    "duration": -231,
    "start_time": "2021-08-10T01:27:57.069Z"
   },
   {
    "duration": -238,
    "start_time": "2021-08-10T01:27:57.077Z"
   },
   {
    "duration": -283,
    "start_time": "2021-08-10T01:27:57.123Z"
   },
   {
    "duration": -290,
    "start_time": "2021-08-10T01:27:57.132Z"
   },
   {
    "duration": -296,
    "start_time": "2021-08-10T01:27:57.139Z"
   },
   {
    "duration": -305,
    "start_time": "2021-08-10T01:27:57.149Z"
   },
   {
    "duration": -312,
    "start_time": "2021-08-10T01:27:57.158Z"
   },
   {
    "duration": -318,
    "start_time": "2021-08-10T01:27:57.165Z"
   },
   {
    "duration": -323,
    "start_time": "2021-08-10T01:27:57.172Z"
   },
   {
    "duration": -328,
    "start_time": "2021-08-10T01:27:57.178Z"
   },
   {
    "duration": -333,
    "start_time": "2021-08-10T01:27:57.184Z"
   },
   {
    "duration": -338,
    "start_time": "2021-08-10T01:27:57.191Z"
   },
   {
    "duration": 6,
    "start_time": "2021-08-10T01:31:31.467Z"
   },
   {
    "duration": 14,
    "start_time": "2021-08-10T01:31:34.136Z"
   },
   {
    "duration": 42,
    "start_time": "2021-08-10T01:31:36.661Z"
   },
   {
    "duration": 4,
    "start_time": "2021-08-10T01:31:42.541Z"
   },
   {
    "duration": 5,
    "start_time": "2021-08-10T01:31:45.150Z"
   },
   {
    "duration": 1184,
    "start_time": "2021-08-10T01:31:47.540Z"
   },
   {
    "duration": 6,
    "start_time": "2021-08-10T01:33:47.933Z"
   },
   {
    "duration": 15,
    "start_time": "2021-08-10T01:33:50.855Z"
   },
   {
    "duration": 39,
    "start_time": "2021-08-10T01:33:52.982Z"
   },
   {
    "duration": 5,
    "start_time": "2021-08-10T01:33:55.243Z"
   },
   {
    "duration": 138,
    "start_time": "2021-08-10T01:34:35.348Z"
   },
   {
    "duration": 6,
    "start_time": "2021-08-10T01:34:48.778Z"
   },
   {
    "duration": 2662,
    "start_time": "2021-08-10T01:35:09.799Z"
   },
   {
    "duration": 6,
    "start_time": "2021-08-10T01:36:07.851Z"
   },
   {
    "duration": 2913,
    "start_time": "2021-08-10T01:36:37.044Z"
   },
   {
    "duration": 2965,
    "start_time": "2021-08-10T01:36:57.040Z"
   },
   {
    "duration": 2951,
    "start_time": "2021-08-10T01:37:22.112Z"
   },
   {
    "duration": 5,
    "start_time": "2021-08-10T01:37:28.141Z"
   },
   {
    "duration": 59458,
    "start_time": "2021-08-10T01:37:31.439Z"
   },
   {
    "duration": 4,
    "start_time": "2021-08-10T01:42:01.761Z"
   },
   {
    "duration": 9795,
    "start_time": "2021-08-10T01:42:03.733Z"
   },
   {
    "duration": 5,
    "start_time": "2021-08-10T01:42:17.589Z"
   },
   {
    "duration": 19275,
    "start_time": "2021-08-10T01:42:26.308Z"
   },
   {
    "duration": 31368,
    "start_time": "2021-08-10T01:45:51.615Z"
   },
   {
    "duration": 1539,
    "start_time": "2021-08-10T01:47:53.770Z"
   },
   {
    "duration": 18,
    "start_time": "2021-08-10T01:47:55.313Z"
   },
   {
    "duration": 4850,
    "start_time": "2021-08-10T01:47:55.335Z"
   },
   {
    "duration": 783,
    "start_time": "2021-08-10T01:48:00.187Z"
   },
   {
    "duration": 384,
    "start_time": "2021-08-10T01:48:00.972Z"
   },
   {
    "duration": 782,
    "start_time": "2021-08-10T01:48:01.358Z"
   },
   {
    "duration": 13,
    "start_time": "2021-08-10T01:48:02.143Z"
   },
   {
    "duration": 36,
    "start_time": "2021-08-10T01:48:02.162Z"
   },
   {
    "duration": 25,
    "start_time": "2021-08-10T01:48:02.202Z"
   },
   {
    "duration": 51,
    "start_time": "2021-08-10T01:48:02.230Z"
   },
   {
    "duration": 24,
    "start_time": "2021-08-10T01:48:02.284Z"
   },
   {
    "duration": 32,
    "start_time": "2021-08-10T01:48:02.311Z"
   },
   {
    "duration": 59,
    "start_time": "2021-08-10T01:48:02.345Z"
   },
   {
    "duration": 8,
    "start_time": "2021-08-10T01:48:02.407Z"
   },
   {
    "duration": 31,
    "start_time": "2021-08-10T01:48:02.417Z"
   },
   {
    "duration": 33,
    "start_time": "2021-08-10T01:48:02.450Z"
   },
   {
    "duration": 24,
    "start_time": "2021-08-10T01:48:02.485Z"
   },
   {
    "duration": 5,
    "start_time": "2021-08-10T01:48:02.511Z"
   },
   {
    "duration": 50,
    "start_time": "2021-08-10T01:48:02.518Z"
   },
   {
    "duration": 19,
    "start_time": "2021-08-10T01:48:02.570Z"
   },
   {
    "duration": 65,
    "start_time": "2021-08-10T01:48:02.592Z"
   },
   {
    "duration": 13,
    "start_time": "2021-08-10T01:48:02.661Z"
   },
   {
    "duration": 31,
    "start_time": "2021-08-10T01:48:02.682Z"
   },
   {
    "duration": 67,
    "start_time": "2021-08-10T01:48:02.718Z"
   },
   {
    "duration": 5,
    "start_time": "2021-08-10T01:48:02.788Z"
   },
   {
    "duration": 16,
    "start_time": "2021-08-10T01:48:02.796Z"
   },
   {
    "duration": 4259,
    "start_time": "2021-08-10T01:48:02.814Z"
   },
   {
    "duration": 6,
    "start_time": "2021-08-10T01:48:07.076Z"
   },
   {
    "duration": 18,
    "start_time": "2021-08-10T01:48:07.084Z"
   },
   {
    "duration": 1260,
    "start_time": "2021-08-10T01:48:07.104Z"
   },
   {
    "duration": 1123,
    "start_time": "2021-08-10T01:48:08.366Z"
   },
   {
    "duration": 8,
    "start_time": "2021-08-10T01:48:09.492Z"
   },
   {
    "duration": 702,
    "start_time": "2021-08-10T01:48:09.502Z"
   },
   {
    "duration": 20,
    "start_time": "2021-08-10T01:48:10.207Z"
   },
   {
    "duration": 814,
    "start_time": "2021-08-10T01:48:10.229Z"
   },
   {
    "duration": 21,
    "start_time": "2021-08-10T01:48:11.047Z"
   },
   {
    "duration": 697,
    "start_time": "2021-08-10T01:48:11.071Z"
   },
   {
    "duration": 393,
    "start_time": "2021-08-10T01:48:11.770Z"
   },
   {
    "duration": 7,
    "start_time": "2021-08-10T01:48:12.165Z"
   },
   {
    "duration": 29,
    "start_time": "2021-08-10T01:48:12.175Z"
   },
   {
    "duration": 53,
    "start_time": "2021-08-10T01:48:12.206Z"
   },
   {
    "duration": 6,
    "start_time": "2021-08-10T01:48:12.262Z"
   },
   {
    "duration": 34,
    "start_time": "2021-08-10T01:48:12.270Z"
   },
   {
    "duration": 5,
    "start_time": "2021-08-10T01:48:12.307Z"
   },
   {
    "duration": 47,
    "start_time": "2021-08-10T01:48:12.315Z"
   },
   {
    "duration": 45,
    "start_time": "2021-08-10T01:48:12.365Z"
   },
   {
    "duration": 6,
    "start_time": "2021-08-10T01:48:12.413Z"
   },
   {
    "duration": 6,
    "start_time": "2021-08-10T01:48:12.422Z"
   },
   {
    "duration": 3426,
    "start_time": "2021-08-10T01:48:12.431Z"
   },
   {
    "duration": 4,
    "start_time": "2021-08-10T01:48:15.860Z"
   },
   {
    "duration": 59814,
    "start_time": "2021-08-10T01:48:15.866Z"
   },
   {
    "duration": 5,
    "start_time": "2021-08-10T01:49:15.682Z"
   },
   {
    "duration": 509169,
    "start_time": "2021-08-10T01:49:15.689Z"
   },
   {
    "duration": 212114,
    "start_time": "2021-08-10T01:57:44.861Z"
   },
   {
    "duration": 5,
    "start_time": "2021-08-10T02:01:16.978Z"
   },
   {
    "duration": 12005,
    "start_time": "2021-08-10T02:01:16.985Z"
   },
   {
    "duration": 4,
    "start_time": "2021-08-10T02:01:28.992Z"
   },
   {
    "duration": 9907,
    "start_time": "2021-08-10T02:01:28.998Z"
   },
   {
    "duration": 5,
    "start_time": "2021-08-10T02:01:38.907Z"
   },
   {
    "duration": 19469,
    "start_time": "2021-08-10T02:01:38.914Z"
   },
   {
    "duration": 31705,
    "start_time": "2021-08-10T02:01:58.386Z"
   },
   {
    "duration": 5,
    "start_time": "2021-08-10T02:02:30.093Z"
   },
   {
    "duration": 347,
    "start_time": "2021-08-10T02:02:30.100Z"
   },
   {
    "duration": 1143,
    "start_time": "2021-08-11T04:23:20.300Z"
   },
   {
    "duration": 11,
    "start_time": "2021-08-11T04:23:21.446Z"
   },
   {
    "duration": 2350,
    "start_time": "2021-08-11T04:23:21.462Z"
   },
   {
    "duration": 447,
    "start_time": "2021-08-11T04:23:23.814Z"
   },
   {
    "duration": 214,
    "start_time": "2021-08-11T04:23:24.263Z"
   },
   {
    "duration": 447,
    "start_time": "2021-08-11T04:23:24.478Z"
   },
   {
    "duration": 2,
    "start_time": "2021-08-11T04:23:24.927Z"
   },
   {
    "duration": 14,
    "start_time": "2021-08-11T04:23:24.931Z"
   },
   {
    "duration": 14,
    "start_time": "2021-08-11T04:23:24.947Z"
   },
   {
    "duration": 8,
    "start_time": "2021-08-11T04:23:24.963Z"
   },
   {
    "duration": 8,
    "start_time": "2021-08-11T04:23:24.972Z"
   },
   {
    "duration": 5,
    "start_time": "2021-08-11T04:23:24.982Z"
   },
   {
    "duration": 25,
    "start_time": "2021-08-11T04:23:24.989Z"
   },
   {
    "duration": 6,
    "start_time": "2021-08-11T04:23:25.015Z"
   },
   {
    "duration": 33,
    "start_time": "2021-08-11T04:23:25.023Z"
   },
   {
    "duration": 22,
    "start_time": "2021-08-11T04:23:25.058Z"
   },
   {
    "duration": 14,
    "start_time": "2021-08-11T04:23:25.082Z"
   },
   {
    "duration": 3,
    "start_time": "2021-08-11T04:23:25.098Z"
   },
   {
    "duration": 40,
    "start_time": "2021-08-11T04:23:25.102Z"
   },
   {
    "duration": 13,
    "start_time": "2021-08-11T04:23:25.143Z"
   },
   {
    "duration": 23,
    "start_time": "2021-08-11T04:23:25.157Z"
   },
   {
    "duration": 8,
    "start_time": "2021-08-11T04:23:25.183Z"
   },
   {
    "duration": 48,
    "start_time": "2021-08-11T04:23:25.193Z"
   },
   {
    "duration": 21,
    "start_time": "2021-08-11T04:23:25.243Z"
   },
   {
    "duration": 3,
    "start_time": "2021-08-11T04:23:25.265Z"
   },
   {
    "duration": 5,
    "start_time": "2021-08-11T04:23:25.269Z"
   },
   {
    "duration": 2693,
    "start_time": "2021-08-11T04:23:25.276Z"
   },
   {
    "duration": 4,
    "start_time": "2021-08-11T04:23:27.970Z"
   },
   {
    "duration": 17,
    "start_time": "2021-08-11T04:23:27.976Z"
   },
   {
    "duration": 683,
    "start_time": "2021-08-11T04:23:27.994Z"
   },
   {
    "duration": 740,
    "start_time": "2021-08-11T04:23:28.679Z"
   },
   {
    "duration": 6,
    "start_time": "2021-08-11T04:23:29.420Z"
   },
   {
    "duration": 395,
    "start_time": "2021-08-11T04:23:29.427Z"
   },
   {
    "duration": 28,
    "start_time": "2021-08-11T04:23:29.824Z"
   },
   {
    "duration": 487,
    "start_time": "2021-08-11T04:23:29.854Z"
   },
   {
    "duration": 17,
    "start_time": "2021-08-11T04:23:30.342Z"
   },
   {
    "duration": 430,
    "start_time": "2021-08-11T04:23:30.360Z"
   },
   {
    "duration": 253,
    "start_time": "2021-08-11T04:23:30.792Z"
   },
   {
    "duration": 5,
    "start_time": "2021-08-11T04:23:31.046Z"
   },
   {
    "duration": 10,
    "start_time": "2021-08-11T04:23:31.052Z"
   },
   {
    "duration": 25,
    "start_time": "2021-08-11T04:23:31.064Z"
   },
   {
    "duration": 4,
    "start_time": "2021-08-11T04:23:31.091Z"
   },
   {
    "duration": 25,
    "start_time": "2021-08-11T04:23:31.096Z"
   },
   {
    "duration": 18,
    "start_time": "2021-08-11T04:23:31.123Z"
   },
   {
    "duration": 18,
    "start_time": "2021-08-11T04:23:31.143Z"
   },
   {
    "duration": 43,
    "start_time": "2021-08-11T04:23:31.162Z"
   },
   {
    "duration": 3,
    "start_time": "2021-08-11T04:23:31.206Z"
   },
   {
    "duration": 7,
    "start_time": "2021-08-11T04:23:31.211Z"
   },
   {
    "duration": 2523,
    "start_time": "2021-08-11T04:23:31.220Z"
   },
   {
    "duration": 5,
    "start_time": "2021-08-11T04:23:33.745Z"
   },
   {
    "duration": 45586,
    "start_time": "2021-08-11T04:23:33.841Z"
   },
   {
    "duration": 11,
    "start_time": "2021-08-11T04:24:19.429Z"
   },
   {
    "duration": 386953,
    "start_time": "2021-08-11T04:24:19.442Z"
   },
   {
    "duration": 164294,
    "start_time": "2021-08-11T04:30:46.397Z"
   },
   {
    "duration": 3,
    "start_time": "2021-08-11T04:33:30.692Z"
   },
   {
    "duration": 9269,
    "start_time": "2021-08-11T04:33:30.697Z"
   },
   {
    "duration": 3,
    "start_time": "2021-08-11T04:33:39.967Z"
   },
   {
    "duration": 7560,
    "start_time": "2021-08-11T04:33:39.971Z"
   },
   {
    "duration": 4,
    "start_time": "2021-08-11T04:33:47.533Z"
   },
   {
    "duration": 15245,
    "start_time": "2021-08-11T04:33:47.541Z"
   },
   {
    "duration": 24124,
    "start_time": "2021-08-11T04:34:02.788Z"
   },
   {
    "duration": 3,
    "start_time": "2021-08-11T04:34:26.913Z"
   },
   {
    "duration": 263,
    "start_time": "2021-08-11T04:34:26.918Z"
   }
  ],
  "kernelspec": {
   "display_name": "Python 3",
   "language": "python",
   "name": "python3"
  },
  "language_info": {
   "codemirror_mode": {
    "name": "ipython",
    "version": 3
   },
   "file_extension": ".py",
   "mimetype": "text/x-python",
   "name": "python",
   "nbconvert_exporter": "python",
   "pygments_lexer": "ipython3",
   "version": "3.7.8"
  },
  "toc": {
   "base_numbering": 1,
   "nav_menu": {},
   "number_sections": true,
   "sideBar": true,
   "skip_h1_title": true,
   "title_cell": "Table of Contents",
   "title_sidebar": "Contents",
   "toc_cell": false,
   "toc_position": {},
   "toc_section_display": true,
   "toc_window_display": false
  }
 },
 "nbformat": 4,
 "nbformat_minor": 2
}
